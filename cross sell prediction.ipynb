{
 "cells": [
  {
   "cell_type": "code",
   "execution_count": 1,
   "metadata": {
    "execution": {
     "iopub.execute_input": "2021-06-27T17:59:48.432532Z",
     "iopub.status.busy": "2021-06-27T17:59:48.432131Z",
     "iopub.status.idle": "2021-06-27T17:59:50.505531Z",
     "shell.execute_reply": "2021-06-27T17:59:50.504051Z",
     "shell.execute_reply.started": "2021-06-27T17:59:48.432499Z"
    },
    "id": "TcS6y2XIV8vg"
   },
   "outputs": [],
   "source": [
    "import numpy as np\n",
    "import pandas as pd\n",
    "import seaborn as sns\n",
    "import matplotlib.pyplot as plt\n",
    "from warnings import filterwarnings\n",
    "#sns.set_theme()\n",
    "#%config InlineBackend.figure_format = 'retina'\n",
    "\n",
    "import scipy.stats as stats\n",
    "import pylab\n",
    "from imblearn.over_sampling import SMOTE\n",
    "from sklearn.preprocessing import StandardScaler,LabelEncoder\n",
    "from sklearn.feature_selection import SelectFromModel\n",
    "from sklearn.ensemble import ExtraTreesClassifier\n",
    "from sklearn.model_selection import train_test_split \n",
    "from sklearn.linear_model import LogisticRegression \n",
    "from sklearn.metrics import accuracy_score,roc_auc_score,precision_score,recall_score,classification_report,precision_recall_curve,confusion_matrix,roc_curve\n",
    "from sklearn.ensemble import RandomForestClassifier\n",
    "filterwarnings('ignore')"
   ]
  },
  {
   "cell_type": "code",
   "execution_count": 2,
   "metadata": {
    "execution": {
     "iopub.execute_input": "2021-06-27T17:59:53.545861Z",
     "iopub.status.busy": "2021-06-27T17:59:53.545413Z",
     "iopub.status.idle": "2021-06-27T17:59:54.270364Z",
     "shell.execute_reply": "2021-06-27T17:59:54.269142Z",
     "shell.execute_reply.started": "2021-06-27T17:59:53.545820Z"
    },
    "id": "4vHeqOWMVcY4",
    "outputId": "7050c068-3c85-4e9d-cbaa-c2acec586151"
   },
   "outputs": [
    {
     "data": {
      "text/html": [
       "<div>\n",
       "<style scoped>\n",
       "    .dataframe tbody tr th:only-of-type {\n",
       "        vertical-align: middle;\n",
       "    }\n",
       "\n",
       "    .dataframe tbody tr th {\n",
       "        vertical-align: top;\n",
       "    }\n",
       "\n",
       "    .dataframe thead th {\n",
       "        text-align: right;\n",
       "    }\n",
       "</style>\n",
       "<table border=\"1\" class=\"dataframe\">\n",
       "  <thead>\n",
       "    <tr style=\"text-align: right;\">\n",
       "      <th></th>\n",
       "      <th>id</th>\n",
       "      <th>Gender</th>\n",
       "      <th>Age</th>\n",
       "      <th>Driving_License</th>\n",
       "      <th>Region_Code</th>\n",
       "      <th>Previously_Insured</th>\n",
       "      <th>Vehicle_Age</th>\n",
       "      <th>Vehicle_Damage</th>\n",
       "      <th>Annual_Premium</th>\n",
       "      <th>Policy_Sales_Channel</th>\n",
       "      <th>Vintage</th>\n",
       "      <th>Response</th>\n",
       "    </tr>\n",
       "  </thead>\n",
       "  <tbody>\n",
       "    <tr>\n",
       "      <th>0</th>\n",
       "      <td>1</td>\n",
       "      <td>Male</td>\n",
       "      <td>44</td>\n",
       "      <td>1</td>\n",
       "      <td>28.0</td>\n",
       "      <td>0</td>\n",
       "      <td>&gt; 2 Years</td>\n",
       "      <td>Yes</td>\n",
       "      <td>40454.0</td>\n",
       "      <td>26.0</td>\n",
       "      <td>217</td>\n",
       "      <td>1</td>\n",
       "    </tr>\n",
       "    <tr>\n",
       "      <th>1</th>\n",
       "      <td>2</td>\n",
       "      <td>Male</td>\n",
       "      <td>76</td>\n",
       "      <td>1</td>\n",
       "      <td>3.0</td>\n",
       "      <td>0</td>\n",
       "      <td>1-2 Year</td>\n",
       "      <td>No</td>\n",
       "      <td>33536.0</td>\n",
       "      <td>26.0</td>\n",
       "      <td>183</td>\n",
       "      <td>0</td>\n",
       "    </tr>\n",
       "    <tr>\n",
       "      <th>2</th>\n",
       "      <td>3</td>\n",
       "      <td>Male</td>\n",
       "      <td>47</td>\n",
       "      <td>1</td>\n",
       "      <td>28.0</td>\n",
       "      <td>0</td>\n",
       "      <td>&gt; 2 Years</td>\n",
       "      <td>Yes</td>\n",
       "      <td>38294.0</td>\n",
       "      <td>26.0</td>\n",
       "      <td>27</td>\n",
       "      <td>1</td>\n",
       "    </tr>\n",
       "    <tr>\n",
       "      <th>3</th>\n",
       "      <td>4</td>\n",
       "      <td>Male</td>\n",
       "      <td>21</td>\n",
       "      <td>1</td>\n",
       "      <td>11.0</td>\n",
       "      <td>1</td>\n",
       "      <td>&lt; 1 Year</td>\n",
       "      <td>No</td>\n",
       "      <td>28619.0</td>\n",
       "      <td>152.0</td>\n",
       "      <td>203</td>\n",
       "      <td>0</td>\n",
       "    </tr>\n",
       "    <tr>\n",
       "      <th>4</th>\n",
       "      <td>5</td>\n",
       "      <td>Female</td>\n",
       "      <td>29</td>\n",
       "      <td>1</td>\n",
       "      <td>41.0</td>\n",
       "      <td>1</td>\n",
       "      <td>&lt; 1 Year</td>\n",
       "      <td>No</td>\n",
       "      <td>27496.0</td>\n",
       "      <td>152.0</td>\n",
       "      <td>39</td>\n",
       "      <td>0</td>\n",
       "    </tr>\n",
       "    <tr>\n",
       "      <th>...</th>\n",
       "      <td>...</td>\n",
       "      <td>...</td>\n",
       "      <td>...</td>\n",
       "      <td>...</td>\n",
       "      <td>...</td>\n",
       "      <td>...</td>\n",
       "      <td>...</td>\n",
       "      <td>...</td>\n",
       "      <td>...</td>\n",
       "      <td>...</td>\n",
       "      <td>...</td>\n",
       "      <td>...</td>\n",
       "    </tr>\n",
       "    <tr>\n",
       "      <th>381104</th>\n",
       "      <td>381105</td>\n",
       "      <td>Male</td>\n",
       "      <td>74</td>\n",
       "      <td>1</td>\n",
       "      <td>26.0</td>\n",
       "      <td>1</td>\n",
       "      <td>1-2 Year</td>\n",
       "      <td>No</td>\n",
       "      <td>30170.0</td>\n",
       "      <td>26.0</td>\n",
       "      <td>88</td>\n",
       "      <td>0</td>\n",
       "    </tr>\n",
       "    <tr>\n",
       "      <th>381105</th>\n",
       "      <td>381106</td>\n",
       "      <td>Male</td>\n",
       "      <td>30</td>\n",
       "      <td>1</td>\n",
       "      <td>37.0</td>\n",
       "      <td>1</td>\n",
       "      <td>&lt; 1 Year</td>\n",
       "      <td>No</td>\n",
       "      <td>40016.0</td>\n",
       "      <td>152.0</td>\n",
       "      <td>131</td>\n",
       "      <td>0</td>\n",
       "    </tr>\n",
       "    <tr>\n",
       "      <th>381106</th>\n",
       "      <td>381107</td>\n",
       "      <td>Male</td>\n",
       "      <td>21</td>\n",
       "      <td>1</td>\n",
       "      <td>30.0</td>\n",
       "      <td>1</td>\n",
       "      <td>&lt; 1 Year</td>\n",
       "      <td>No</td>\n",
       "      <td>35118.0</td>\n",
       "      <td>160.0</td>\n",
       "      <td>161</td>\n",
       "      <td>0</td>\n",
       "    </tr>\n",
       "    <tr>\n",
       "      <th>381107</th>\n",
       "      <td>381108</td>\n",
       "      <td>Female</td>\n",
       "      <td>68</td>\n",
       "      <td>1</td>\n",
       "      <td>14.0</td>\n",
       "      <td>0</td>\n",
       "      <td>&gt; 2 Years</td>\n",
       "      <td>Yes</td>\n",
       "      <td>44617.0</td>\n",
       "      <td>124.0</td>\n",
       "      <td>74</td>\n",
       "      <td>0</td>\n",
       "    </tr>\n",
       "    <tr>\n",
       "      <th>381108</th>\n",
       "      <td>381109</td>\n",
       "      <td>Male</td>\n",
       "      <td>46</td>\n",
       "      <td>1</td>\n",
       "      <td>29.0</td>\n",
       "      <td>0</td>\n",
       "      <td>1-2 Year</td>\n",
       "      <td>No</td>\n",
       "      <td>41777.0</td>\n",
       "      <td>26.0</td>\n",
       "      <td>237</td>\n",
       "      <td>0</td>\n",
       "    </tr>\n",
       "  </tbody>\n",
       "</table>\n",
       "<p>381109 rows × 12 columns</p>\n",
       "</div>"
      ],
      "text/plain": [
       "            id  Gender  Age  Driving_License  Region_Code  Previously_Insured  \\\n",
       "0            1    Male   44                1         28.0                   0   \n",
       "1            2    Male   76                1          3.0                   0   \n",
       "2            3    Male   47                1         28.0                   0   \n",
       "3            4    Male   21                1         11.0                   1   \n",
       "4            5  Female   29                1         41.0                   1   \n",
       "...        ...     ...  ...              ...          ...                 ...   \n",
       "381104  381105    Male   74                1         26.0                   1   \n",
       "381105  381106    Male   30                1         37.0                   1   \n",
       "381106  381107    Male   21                1         30.0                   1   \n",
       "381107  381108  Female   68                1         14.0                   0   \n",
       "381108  381109    Male   46                1         29.0                   0   \n",
       "\n",
       "       Vehicle_Age Vehicle_Damage  Annual_Premium  Policy_Sales_Channel  \\\n",
       "0        > 2 Years            Yes         40454.0                  26.0   \n",
       "1         1-2 Year             No         33536.0                  26.0   \n",
       "2        > 2 Years            Yes         38294.0                  26.0   \n",
       "3         < 1 Year             No         28619.0                 152.0   \n",
       "4         < 1 Year             No         27496.0                 152.0   \n",
       "...            ...            ...             ...                   ...   \n",
       "381104    1-2 Year             No         30170.0                  26.0   \n",
       "381105    < 1 Year             No         40016.0                 152.0   \n",
       "381106    < 1 Year             No         35118.0                 160.0   \n",
       "381107   > 2 Years            Yes         44617.0                 124.0   \n",
       "381108    1-2 Year             No         41777.0                  26.0   \n",
       "\n",
       "        Vintage  Response  \n",
       "0           217         1  \n",
       "1           183         0  \n",
       "2            27         1  \n",
       "3           203         0  \n",
       "4            39         0  \n",
       "...         ...       ...  \n",
       "381104       88         0  \n",
       "381105      131         0  \n",
       "381106      161         0  \n",
       "381107       74         0  \n",
       "381108      237         0  \n",
       "\n",
       "[381109 rows x 12 columns]"
      ]
     },
     "execution_count": 2,
     "metadata": {},
     "output_type": "execute_result"
    }
   ],
   "source": [
    "train='train.csv'\n",
    "df=pd.read_csv(train)\n",
    "df"
   ]
  },
  {
   "cell_type": "markdown",
   "metadata": {
    "id": "jKqN1DTO3V1N"
   },
   "source": [
    "**DATA EXPLORATION**"
   ]
  },
  {
   "cell_type": "code",
   "execution_count": 3,
   "metadata": {
    "execution": {
     "iopub.execute_input": "2021-06-27T18:00:15.767476Z",
     "iopub.status.busy": "2021-06-27T18:00:15.767033Z",
     "iopub.status.idle": "2021-06-27T18:00:15.913598Z",
     "shell.execute_reply": "2021-06-27T18:00:15.911975Z",
     "shell.execute_reply.started": "2021-06-27T18:00:15.767437Z"
    },
    "id": "LAwzC2f1V4ey",
    "outputId": "cbed3961-aa7d-4ab1-83eb-598dda225eb2"
   },
   "outputs": [
    {
     "name": "stdout",
     "output_type": "stream",
     "text": [
      "<class 'pandas.core.frame.DataFrame'>\n",
      "RangeIndex: 381109 entries, 0 to 381108\n",
      "Data columns (total 12 columns):\n",
      " #   Column                Non-Null Count   Dtype  \n",
      "---  ------                --------------   -----  \n",
      " 0   id                    381109 non-null  int64  \n",
      " 1   Gender                381109 non-null  object \n",
      " 2   Age                   381109 non-null  int64  \n",
      " 3   Driving_License       381109 non-null  int64  \n",
      " 4   Region_Code           381109 non-null  float64\n",
      " 5   Previously_Insured    381109 non-null  int64  \n",
      " 6   Vehicle_Age           381109 non-null  object \n",
      " 7   Vehicle_Damage        381109 non-null  object \n",
      " 8   Annual_Premium        381109 non-null  float64\n",
      " 9   Policy_Sales_Channel  381109 non-null  float64\n",
      " 10  Vintage               381109 non-null  int64  \n",
      " 11  Response              381109 non-null  int64  \n",
      "dtypes: float64(3), int64(6), object(3)\n",
      "memory usage: 34.9+ MB\n"
     ]
    }
   ],
   "source": [
    "df.info()"
   ]
  },
  {
   "cell_type": "code",
   "execution_count": 4,
   "metadata": {
    "execution": {
     "iopub.execute_input": "2021-06-27T18:00:19.460538Z",
     "iopub.status.busy": "2021-06-27T18:00:19.460119Z",
     "iopub.status.idle": "2021-06-27T18:00:19.590139Z",
     "shell.execute_reply": "2021-06-27T18:00:19.588771Z",
     "shell.execute_reply.started": "2021-06-27T18:00:19.460503Z"
    },
    "id": "34Z6AMu5pYWX",
    "outputId": "b6028d33-06d6-4f2c-c4ac-0e8b9bbb3cbd"
   },
   "outputs": [
    {
     "data": {
      "text/plain": [
       "id                      0\n",
       "Gender                  0\n",
       "Age                     0\n",
       "Driving_License         0\n",
       "Region_Code             0\n",
       "Previously_Insured      0\n",
       "Vehicle_Age             0\n",
       "Vehicle_Damage          0\n",
       "Annual_Premium          0\n",
       "Policy_Sales_Channel    0\n",
       "Vintage                 0\n",
       "Response                0\n",
       "dtype: int64"
      ]
     },
     "execution_count": 4,
     "metadata": {},
     "output_type": "execute_result"
    }
   ],
   "source": [
    "df.isnull().sum()"
   ]
  },
  {
   "cell_type": "markdown",
   "metadata": {
    "id": "swQO0teb3V0J"
   },
   "source": [
    "We can see that there is no missing values in our dataset .Thus we do not need to impute any values and can proceed for further analysis"
   ]
  },
  {
   "cell_type": "code",
   "execution_count": 5,
   "metadata": {
    "execution": {
     "iopub.execute_input": "2021-06-27T18:00:24.755006Z",
     "iopub.status.busy": "2021-06-27T18:00:24.754557Z",
     "iopub.status.idle": "2021-06-27T18:00:24.762361Z",
     "shell.execute_reply": "2021-06-27T18:00:24.760880Z",
     "shell.execute_reply.started": "2021-06-27T18:00:24.754968Z"
    },
    "id": "96JMjpqN0RIM",
    "outputId": "57760a45-4223-471a-dcb4-fde88a37807a"
   },
   "outputs": [
    {
     "data": {
      "text/plain": [
       "(381109, 12)"
      ]
     },
     "execution_count": 5,
     "metadata": {},
     "output_type": "execute_result"
    }
   ],
   "source": [
    "df.shape"
   ]
  },
  {
   "cell_type": "code",
   "execution_count": 6,
   "metadata": {
    "execution": {
     "iopub.execute_input": "2021-06-27T18:00:27.159156Z",
     "iopub.status.busy": "2021-06-27T18:00:27.158673Z",
     "iopub.status.idle": "2021-06-27T18:00:27.168736Z",
     "shell.execute_reply": "2021-06-27T18:00:27.167343Z",
     "shell.execute_reply.started": "2021-06-27T18:00:27.159117Z"
    },
    "id": "HXsf9YZf0_k6",
    "outputId": "a353571c-ec8c-4fbc-ed68-8066e12faa2b"
   },
   "outputs": [
    {
     "data": {
      "text/plain": [
       "id                        int64\n",
       "Gender                   object\n",
       "Age                       int64\n",
       "Driving_License           int64\n",
       "Region_Code             float64\n",
       "Previously_Insured        int64\n",
       "Vehicle_Age              object\n",
       "Vehicle_Damage           object\n",
       "Annual_Premium          float64\n",
       "Policy_Sales_Channel    float64\n",
       "Vintage                   int64\n",
       "Response                  int64\n",
       "dtype: object"
      ]
     },
     "execution_count": 6,
     "metadata": {},
     "output_type": "execute_result"
    }
   ],
   "source": [
    "df.dtypes"
   ]
  },
  {
   "cell_type": "code",
   "execution_count": 7,
   "metadata": {
    "execution": {
     "iopub.execute_input": "2021-06-27T18:00:29.735143Z",
     "iopub.status.busy": "2021-06-27T18:00:29.734726Z",
     "iopub.status.idle": "2021-06-27T18:00:30.314011Z",
     "shell.execute_reply": "2021-06-27T18:00:30.312841Z",
     "shell.execute_reply.started": "2021-06-27T18:00:29.735108Z"
    },
    "id": "-Xv0KVFqquxg",
    "outputId": "6b05d671-35d9-45e1-c818-1b1d714d2644"
   },
   "outputs": [
    {
     "data": {
      "text/html": [
       "<div>\n",
       "<style scoped>\n",
       "    .dataframe tbody tr th:only-of-type {\n",
       "        vertical-align: middle;\n",
       "    }\n",
       "\n",
       "    .dataframe tbody tr th {\n",
       "        vertical-align: top;\n",
       "    }\n",
       "\n",
       "    .dataframe thead th {\n",
       "        text-align: right;\n",
       "    }\n",
       "</style>\n",
       "<table border=\"1\" class=\"dataframe\">\n",
       "  <thead>\n",
       "    <tr style=\"text-align: right;\">\n",
       "      <th></th>\n",
       "      <th>id</th>\n",
       "      <th>Gender</th>\n",
       "      <th>Age</th>\n",
       "      <th>Driving_License</th>\n",
       "      <th>Region_Code</th>\n",
       "      <th>Previously_Insured</th>\n",
       "      <th>Vehicle_Age</th>\n",
       "      <th>Vehicle_Damage</th>\n",
       "      <th>Annual_Premium</th>\n",
       "      <th>Policy_Sales_Channel</th>\n",
       "      <th>Vintage</th>\n",
       "      <th>Response</th>\n",
       "    </tr>\n",
       "  </thead>\n",
       "  <tbody>\n",
       "    <tr>\n",
       "      <th>count</th>\n",
       "      <td>381109.000000</td>\n",
       "      <td>381109</td>\n",
       "      <td>381109.000000</td>\n",
       "      <td>381109.000000</td>\n",
       "      <td>381109.000000</td>\n",
       "      <td>381109.000000</td>\n",
       "      <td>381109</td>\n",
       "      <td>381109</td>\n",
       "      <td>381109.000000</td>\n",
       "      <td>381109.000000</td>\n",
       "      <td>381109.000000</td>\n",
       "      <td>381109.000000</td>\n",
       "    </tr>\n",
       "    <tr>\n",
       "      <th>unique</th>\n",
       "      <td>NaN</td>\n",
       "      <td>2</td>\n",
       "      <td>NaN</td>\n",
       "      <td>NaN</td>\n",
       "      <td>NaN</td>\n",
       "      <td>NaN</td>\n",
       "      <td>3</td>\n",
       "      <td>2</td>\n",
       "      <td>NaN</td>\n",
       "      <td>NaN</td>\n",
       "      <td>NaN</td>\n",
       "      <td>NaN</td>\n",
       "    </tr>\n",
       "    <tr>\n",
       "      <th>top</th>\n",
       "      <td>NaN</td>\n",
       "      <td>Male</td>\n",
       "      <td>NaN</td>\n",
       "      <td>NaN</td>\n",
       "      <td>NaN</td>\n",
       "      <td>NaN</td>\n",
       "      <td>1-2 Year</td>\n",
       "      <td>Yes</td>\n",
       "      <td>NaN</td>\n",
       "      <td>NaN</td>\n",
       "      <td>NaN</td>\n",
       "      <td>NaN</td>\n",
       "    </tr>\n",
       "    <tr>\n",
       "      <th>freq</th>\n",
       "      <td>NaN</td>\n",
       "      <td>206089</td>\n",
       "      <td>NaN</td>\n",
       "      <td>NaN</td>\n",
       "      <td>NaN</td>\n",
       "      <td>NaN</td>\n",
       "      <td>200316</td>\n",
       "      <td>192413</td>\n",
       "      <td>NaN</td>\n",
       "      <td>NaN</td>\n",
       "      <td>NaN</td>\n",
       "      <td>NaN</td>\n",
       "    </tr>\n",
       "    <tr>\n",
       "      <th>mean</th>\n",
       "      <td>190555.000000</td>\n",
       "      <td>NaN</td>\n",
       "      <td>38.822584</td>\n",
       "      <td>0.997869</td>\n",
       "      <td>26.388807</td>\n",
       "      <td>0.458210</td>\n",
       "      <td>NaN</td>\n",
       "      <td>NaN</td>\n",
       "      <td>30564.389581</td>\n",
       "      <td>112.034295</td>\n",
       "      <td>154.347397</td>\n",
       "      <td>0.122563</td>\n",
       "    </tr>\n",
       "    <tr>\n",
       "      <th>std</th>\n",
       "      <td>110016.836208</td>\n",
       "      <td>NaN</td>\n",
       "      <td>15.511611</td>\n",
       "      <td>0.046110</td>\n",
       "      <td>13.229888</td>\n",
       "      <td>0.498251</td>\n",
       "      <td>NaN</td>\n",
       "      <td>NaN</td>\n",
       "      <td>17213.155057</td>\n",
       "      <td>54.203995</td>\n",
       "      <td>83.671304</td>\n",
       "      <td>0.327936</td>\n",
       "    </tr>\n",
       "    <tr>\n",
       "      <th>min</th>\n",
       "      <td>1.000000</td>\n",
       "      <td>NaN</td>\n",
       "      <td>20.000000</td>\n",
       "      <td>0.000000</td>\n",
       "      <td>0.000000</td>\n",
       "      <td>0.000000</td>\n",
       "      <td>NaN</td>\n",
       "      <td>NaN</td>\n",
       "      <td>2630.000000</td>\n",
       "      <td>1.000000</td>\n",
       "      <td>10.000000</td>\n",
       "      <td>0.000000</td>\n",
       "    </tr>\n",
       "    <tr>\n",
       "      <th>25%</th>\n",
       "      <td>95278.000000</td>\n",
       "      <td>NaN</td>\n",
       "      <td>25.000000</td>\n",
       "      <td>1.000000</td>\n",
       "      <td>15.000000</td>\n",
       "      <td>0.000000</td>\n",
       "      <td>NaN</td>\n",
       "      <td>NaN</td>\n",
       "      <td>24405.000000</td>\n",
       "      <td>29.000000</td>\n",
       "      <td>82.000000</td>\n",
       "      <td>0.000000</td>\n",
       "    </tr>\n",
       "    <tr>\n",
       "      <th>50%</th>\n",
       "      <td>190555.000000</td>\n",
       "      <td>NaN</td>\n",
       "      <td>36.000000</td>\n",
       "      <td>1.000000</td>\n",
       "      <td>28.000000</td>\n",
       "      <td>0.000000</td>\n",
       "      <td>NaN</td>\n",
       "      <td>NaN</td>\n",
       "      <td>31669.000000</td>\n",
       "      <td>133.000000</td>\n",
       "      <td>154.000000</td>\n",
       "      <td>0.000000</td>\n",
       "    </tr>\n",
       "    <tr>\n",
       "      <th>75%</th>\n",
       "      <td>285832.000000</td>\n",
       "      <td>NaN</td>\n",
       "      <td>49.000000</td>\n",
       "      <td>1.000000</td>\n",
       "      <td>35.000000</td>\n",
       "      <td>1.000000</td>\n",
       "      <td>NaN</td>\n",
       "      <td>NaN</td>\n",
       "      <td>39400.000000</td>\n",
       "      <td>152.000000</td>\n",
       "      <td>227.000000</td>\n",
       "      <td>0.000000</td>\n",
       "    </tr>\n",
       "    <tr>\n",
       "      <th>max</th>\n",
       "      <td>381109.000000</td>\n",
       "      <td>NaN</td>\n",
       "      <td>85.000000</td>\n",
       "      <td>1.000000</td>\n",
       "      <td>52.000000</td>\n",
       "      <td>1.000000</td>\n",
       "      <td>NaN</td>\n",
       "      <td>NaN</td>\n",
       "      <td>540165.000000</td>\n",
       "      <td>163.000000</td>\n",
       "      <td>299.000000</td>\n",
       "      <td>1.000000</td>\n",
       "    </tr>\n",
       "  </tbody>\n",
       "</table>\n",
       "</div>"
      ],
      "text/plain": [
       "                   id  Gender            Age  Driving_License    Region_Code  \\\n",
       "count   381109.000000  381109  381109.000000    381109.000000  381109.000000   \n",
       "unique            NaN       2            NaN              NaN            NaN   \n",
       "top               NaN    Male            NaN              NaN            NaN   \n",
       "freq              NaN  206089            NaN              NaN            NaN   \n",
       "mean    190555.000000     NaN      38.822584         0.997869      26.388807   \n",
       "std     110016.836208     NaN      15.511611         0.046110      13.229888   \n",
       "min          1.000000     NaN      20.000000         0.000000       0.000000   \n",
       "25%      95278.000000     NaN      25.000000         1.000000      15.000000   \n",
       "50%     190555.000000     NaN      36.000000         1.000000      28.000000   \n",
       "75%     285832.000000     NaN      49.000000         1.000000      35.000000   \n",
       "max     381109.000000     NaN      85.000000         1.000000      52.000000   \n",
       "\n",
       "        Previously_Insured Vehicle_Age Vehicle_Damage  Annual_Premium  \\\n",
       "count        381109.000000      381109         381109   381109.000000   \n",
       "unique                 NaN           3              2             NaN   \n",
       "top                    NaN    1-2 Year            Yes             NaN   \n",
       "freq                   NaN      200316         192413             NaN   \n",
       "mean              0.458210         NaN            NaN    30564.389581   \n",
       "std               0.498251         NaN            NaN    17213.155057   \n",
       "min               0.000000         NaN            NaN     2630.000000   \n",
       "25%               0.000000         NaN            NaN    24405.000000   \n",
       "50%               0.000000         NaN            NaN    31669.000000   \n",
       "75%               1.000000         NaN            NaN    39400.000000   \n",
       "max               1.000000         NaN            NaN   540165.000000   \n",
       "\n",
       "        Policy_Sales_Channel        Vintage       Response  \n",
       "count          381109.000000  381109.000000  381109.000000  \n",
       "unique                   NaN            NaN            NaN  \n",
       "top                      NaN            NaN            NaN  \n",
       "freq                     NaN            NaN            NaN  \n",
       "mean              112.034295     154.347397       0.122563  \n",
       "std                54.203995      83.671304       0.327936  \n",
       "min                 1.000000      10.000000       0.000000  \n",
       "25%                29.000000      82.000000       0.000000  \n",
       "50%               133.000000     154.000000       0.000000  \n",
       "75%               152.000000     227.000000       0.000000  \n",
       "max               163.000000     299.000000       1.000000  "
      ]
     },
     "execution_count": 7,
     "metadata": {},
     "output_type": "execute_result"
    }
   ],
   "source": [
    "df.describe(include='all')"
   ]
  },
  {
   "cell_type": "code",
   "execution_count": 8,
   "metadata": {
    "execution": {
     "iopub.execute_input": "2021-06-27T18:00:32.959824Z",
     "iopub.status.busy": "2021-06-27T18:00:32.959264Z",
     "iopub.status.idle": "2021-06-27T18:00:32.997458Z",
     "shell.execute_reply": "2021-06-27T18:00:32.996460Z",
     "shell.execute_reply.started": "2021-06-27T18:00:32.959789Z"
    },
    "id": "bmv8-foW1Ynx",
    "outputId": "128aec0a-9772-4832-dd43-84f118b288ae"
   },
   "outputs": [
    {
     "name": "stdout",
     "output_type": "stream",
     "text": [
      "38.822583565331705\n",
      "['> 2 Years' '1-2 Year' '< 1 Year']\n"
     ]
    }
   ],
   "source": [
    "print(df['Age'].mean())\n",
    "print(df['Vehicle_Age'].unique())"
   ]
  },
  {
   "cell_type": "code",
   "execution_count": 9,
   "metadata": {
    "execution": {
     "iopub.execute_input": "2021-06-27T18:00:38.205838Z",
     "iopub.status.busy": "2021-06-27T18:00:38.205219Z",
     "iopub.status.idle": "2021-06-27T18:00:38.448943Z",
     "shell.execute_reply": "2021-06-27T18:00:38.447890Z",
     "shell.execute_reply.started": "2021-06-27T18:00:38.205800Z"
    },
    "id": "-fsjUHcb2-WK",
    "outputId": "596e3df5-2ea8-4a10-cf96-8e98deb5e992"
   },
   "outputs": [
    {
     "data": {
      "text/html": [
       "<div>\n",
       "<style scoped>\n",
       "    .dataframe tbody tr th:only-of-type {\n",
       "        vertical-align: middle;\n",
       "    }\n",
       "\n",
       "    .dataframe tbody tr th {\n",
       "        vertical-align: top;\n",
       "    }\n",
       "\n",
       "    .dataframe thead th {\n",
       "        text-align: right;\n",
       "    }\n",
       "</style>\n",
       "<table border=\"1\" class=\"dataframe\">\n",
       "  <thead>\n",
       "    <tr style=\"text-align: right;\">\n",
       "      <th></th>\n",
       "      <th>values</th>\n",
       "    </tr>\n",
       "  </thead>\n",
       "  <tbody>\n",
       "    <tr>\n",
       "      <th>False</th>\n",
       "      <td>381109</td>\n",
       "    </tr>\n",
       "  </tbody>\n",
       "</table>\n",
       "</div>"
      ],
      "text/plain": [
       "       values\n",
       "False  381109"
      ]
     },
     "execution_count": 9,
     "metadata": {},
     "output_type": "execute_result"
    }
   ],
   "source": [
    "df.duplicated().value_counts().to_frame('values')"
   ]
  },
  {
   "cell_type": "code",
   "execution_count": 10,
   "metadata": {
    "execution": {
     "iopub.execute_input": "2021-06-27T18:00:40.793946Z",
     "iopub.status.busy": "2021-06-27T18:00:40.793574Z",
     "iopub.status.idle": "2021-06-27T18:00:40.874475Z",
     "shell.execute_reply": "2021-06-27T18:00:40.873153Z",
     "shell.execute_reply.started": "2021-06-27T18:00:40.793916Z"
    },
    "id": "juWiq46wGUuj"
   },
   "outputs": [],
   "source": [
    "df.drop(['id'],axis=1,inplace=True)\n",
    "df.drop(['Region_Code'],axis=1,inplace=True)\n",
    "df.drop(['Policy_Sales_Channel'],axis=1,inplace=True)"
   ]
  },
  {
   "cell_type": "markdown",
   "metadata": {
    "id": "cGdZxEXK3LoX"
   },
   "source": [
    "So we can see there is no duplicate elements present in our dataset"
   ]
  },
  {
   "cell_type": "markdown",
   "metadata": {
    "id": "YJ99zb21ydUX"
   },
   "source": [
    "\n",
    "![Capture.JPG](data:image/jpeg;base64,/9j/4AAQSkZJRgABAQEAYABgAAD/4RCERXhpZgAATU0AKgAAAAgABAE7AAIAAAAGAAAISodpAAQAAAABAAAIUJydAAEAAAAMAAAQcOocAAcAAAgMAAAAPgAAAAAc6gAAAAgAAAAAAAAAAAAAAAAAAAAAAAAAAAAAAAAAAAAAAAAAAAAAAAAAAAAAAAAAAAAAAAAAAAAAAAAAAAAAAAAAAAAAAAAAAAAAAAAAAAAAAAAAAAAAAAAAAAAAAAAAAAAAAAAAAAAAAAAAAAAAAAAAAAAAAAAAAAAAAAAAAAAAAAAAAAAAAAAAAAAAAAAAAAAAAAAAAAAAAAAAAAAAAAAAAAAAAAAAAAAAAAAAAAAAAAAAAAAAAAAAAAAAAAAAAAAAAAAAAAAAAAAAAAAAAAAAAAAAAAAAAAAAAAAAAAAAAAAAAAAAAAAAAAAAAAAAAAAAAAAAAAAAAAAAAAAAAAAAAAAAAAAAAAAAAAAAAAAAAAAAAAAAAAAAAAAAAAAAAAAAAAAAAAAAAAAAAAAAAAAAAAAAAAAAAAAAAAAAAAAAAAAAAAAAAAAAAAAAAAAAAAAAAAAAAAAAAAAAAAAAAAAAAAAAAAAAAAAAAAAAAAAAAAAAAAAAAAAAAAAAAAAAAAAAAAAAAAAAAAAAAAAAAAAAAAAAAAAAAAAAAAAAAAAAAAAAAAAAAAAAAAAAAAAAAAAAAAAAAAAAAAAAAAAAAAAAAAAAAAAAAAAAAAAAAAAAAAAAAAAAAAAAAAAAAAAAAAAAAAAAAAAAAAAAAAAAAAAAAAAAAAAAAAAAAAAAAAAAAAAAAAAAAAAAAAAAAAAAAAAAAAAAAAAAAAAAAAAAAAAAAAAAAAAAAAAAAAAAAAAAAAAAAAAAAAAAAAAAAAAAAAAAAAAAAAAAAAAAAAAAAAAAAAAAAAAAAAAAAAAAAAAAAAAAAAAAAAAAAAAAAAAAAAAAAAAAAAAAAAAAAAAAAAAAAAAAAAAAAAAAAAAAAAAAAAAAAAAAAAAAAAAAAAAAAAAAAAAAAAAAAAAAAAAAAAAAAAAAAAAAAAAAAAAAAAAAAAAAAAAAAAAAAAAAAAAAAAAAAAAAAAAAAAAAAAAAAAAAAAAAAAAAAAAAAAAAAAAAAAAAAAAAAAAAAAAAAAAAAAAAAAAAAAAAAAAAAAAAAAAAAAAAAAAAAAAAAAAAAAAAAAAAAAAAAAAAAAAAAAAAAAAAAAAAAAAAAAAAAAAAAAAAAAAAAAAAAAAAAAAAAAAAAAAAAAAAAAAAAAAAAAAAAAAAAAAAAAAAAAAAAAAAAAAAAAAAAAAAAAAAAAAAAAAAAAAAAAAAAAAAAAAAAAAAAAAAAAAAAAAAAAAAAAAAAAAAAAAAAAAAAAAAAAAAAAAAAAAAAAAAAAAAAAAAAAAAAAAAAAAAAAAAAAAAAAAAAAAAAAAAAAAAAAAAAAAAAAAAAAAAAAAAAAAAAAAAAAAAAAAAAAAAAAAAAAAAAAAAAAAAAAAAAAAAAAAAAAAAAAAAAAAAAAAAAAAAAAAAAAAAAAAAAAAAAAAAAAAAAAAAAAAAAAAAAAAAAAAAAAAAAAAAAAAAAAAAAAAAAAAAAAAAAAAAAAAAAAAAAAAAAAAAAAAAAAAAAAAAAAAAAAAAAAAAAAAAAAAAAAAAAAAAAAAAAAAAAAAAAAAAAAAAAAAAAAAAAAAAAAAAAAAAAAAAAAAAAAAAAAAAAAAAAAAAAAAAAAAAAAAAAAAAAAAAAAAAAAAAAAAAAAAAAAAAAAAAAAAAAAAAAAAAAAAAAAAAAAAAAAAAAAAAAAAAAAAAAAAAAAAAAAAAAAAAAAAAAAAAAAAAAAAAAAAAAAAAAAAAAAAAAAAAAAAAAAAAAAAAAAAAAAAAAAAAAAAAAAAAAAAAAAAAAAAAAAAAAAAAAAAAAAAAAAAAAAAAAAAAAAAAAAAAAAAAAAAAAAAAAAAAAAAAAAAAAAAAAAAAAAAAAAAAAAAAAAAAAAAAAAAAAAAAAAAAAAAAAAAAAAAAAAAAAAAAAAAAAAAAAAAAAAAAAAAAAAAAAAAAAAAAAAAAAAAAAAAAAAAAAAAAAAAAAAAAAAAAAAAAAAAAAAAAAAAAAAAAAAAAAAAAAAAAAAAAAAAAAAAAAAAAAAAAAAAAAAAAAAAAAAAAAAAAAAAAAAAAAAAAAAAAAAAAAAAAAAAAAAAAAAAAAAAAAAAAAAAAAAAAAAAAAAAAAAAAAAAAAAAAAAAAAAAAAAAAAAAAAAAAAAAAAAAAAAAAAAAAAAAAAAAAAAAAAAAAAAAAAAAAAAAAAAAAAAAAAAAAAAAAAAAAAAAAAAAAAAAAAAAAAAAAAAAAAAAAAAAAAAAAAAAAAAAAAAAAAAAAAAAAAAAAAAAAAAAAAAAAAAAAAAAAAAAAAAAAAAAAAAAAAAAAAAAAAAAAAAAAAAAAAAAAAAAAAAAAAAAAAAAAAAAAAAAAAAAAAAAAAAAAAAAAAAAAAAAAAAAAAAAAAAAAAAAAAAAAAAAAAAAAAAAAAAAAAAAAAAAAAAAAAAAAAAAAAAAAAAAAAAAAAAAAAAAAAAAAAAAAAAAAAAAAAAAAAAAAAAAAAAAAAAAAAAAAAAAAAAAAAAAAAAAAAAAAAAAAAAAAAAAAAAAAAAAAAAAAAAAAAAAAAAAAAAAAAAAAAAAAAAAAAAAAAAAAAAAAAAAAAAAAAAAAAAAAAAAAAAAAAAAAAAAAAAAAAAAAAAAAAAAAAAAAAAAAAAAAAAAAAAAAAAAAAAAAAAAAAAAAAAAAAAAAAAAAAAAAAAAAAAAAAAAAAAAAAAAAAAAAAAAAAAAAAAAAAAAAAAAAAAAAAAAAAAAAAAAAAAAAAAAAAAAAAAAAAAAAAAAAAAAAAEFETUlOAAAB6hwABwAACAwAAAhiAAAAABzqAAAACAAAAAAAAAAAAAAAAAAAAAAAAAAAAAAAAAAAAAAAAAAAAAAAAAAAAAAAAAAAAAAAAAAAAAAAAAAAAAAAAAAAAAAAAAAAAAAAAAAAAAAAAAAAAAAAAAAAAAAAAAAAAAAAAAAAAAAAAAAAAAAAAAAAAAAAAAAAAAAAAAAAAAAAAAAAAAAAAAAAAAAAAAAAAAAAAAAAAAAAAAAAAAAAAAAAAAAAAAAAAAAAAAAAAAAAAAAAAAAAAAAAAAAAAAAAAAAAAAAAAAAAAAAAAAAAAAAAAAAAAAAAAAAAAAAAAAAAAAAAAAAAAAAAAAAAAAAAAAAAAAAAAAAAAAAAAAAAAAAAAAAAAAAAAAAAAAAAAAAAAAAAAAAAAAAAAAAAAAAAAAAAAAAAAAAAAAAAAAAAAAAAAAAAAAAAAAAAAAAAAAAAAAAAAAAAAAAAAAAAAAAAAAAAAAAAAAAAAAAAAAAAAAAAAAAAAAAAAAAAAAAAAAAAAAAAAAAAAAAAAAAAAAAAAAAAAAAAAAAAAAAAAAAAAAAAAAAAAAAAAAAAAAAAAAAAAAAAAAAAAAAAAAAAAAAAAAAAAAAAAAAAAAAAAAAAAAAAAAAAAAAAAAAAAAAAAAAAAAAAAAAAAAAAAAAAAAAAAAAAAAAAAAAAAAAAAAAAAAAAAAAAAAAAAAAAAAAAAAAAAAAAAAAAAAAAAAAAAAAAAAAAAAAAAAAAAAAAAAAAAAAAAAAAAAAAAAAAAAAAAAAAAAAAAAAAAAAAAAAAAAAAAAAAAAAAAAAAAAAAAAAAAAAAAAAAAAAAAAAAAAAAAAAAAAAAAAAAAAAAAAAAAAAAAAAAAAAAAAAAAAAAAAAAAAAAAAAAAAAAAAAAAAAAAAAAAAAAAAAAAAAAAAAAAAAAAAAAAAAAAAAAAAAAAAAAAAAAAAAAAAAAAAAAAAAAAAAAAAAAAAAAAAAAAAAAAAAAAAAAAAAAAAAAAAAAAAAAAAAAAAAAAAAAAAAAAAAAAAAAAAAAAAAAAAAAAAAAAAAAAAAAAAAAAAAAAAAAAAAAAAAAAAAAAAAAAAAAAAAAAAAAAAAAAAAAAAAAAAAAAAAAAAAAAAAAAAAAAAAAAAAAAAAAAAAAAAAAAAAAAAAAAAAAAAAAAAAAAAAAAAAAAAAAAAAAAAAAAAAAAAAAAAAAAAAAAAAAAAAAAAAAAAAAAAAAAAAAAAAAAAAAAAAAAAAAAAAAAAAAAAAAAAAAAAAAAAAAAAAAAAAAAAAAAAAAAAAAAAAAAAAAAAAAAAAAAAAAAAAAAAAAAAAAAAAAAAAAAAAAAAAAAAAAAAAAAAAAAAAAAAAAAAAAAAAAAAAAAAAAAAAAAAAAAAAAAAAAAAAAAAAAAAAAAAAAAAAAAAAAAAAAAAAAAAAAAAAAAAAAAAAAAAAAAAAAAAAAAAAAAAAAAAAAAAAAAAAAAAAAAAAAAAAAAAAAAAAAAAAAAAAAAAAAAAAAAAAAAAAAAAAAAAAAAAAAAAAAAAAAAAAAAAAAAAAAAAAAAAAAAAAAAAAAAAAAAAAAAAAAAAAAAAAAAAAAAAAAAAAAAAAAAAAAAAAAAAAAAAAAAAAAAAAAAAAAAAAAAAAAAAAAAAAAAAAAAAAAAAAAAAAAAAAAAAAAAAAAAAAAAAAAAAAAAAAAAAAAAAAAAAAAAAAAAAAAAAAAAAAAAAAAAAAAAAAAAAAAAAAAAAAAAAAAAAAAAAAAAAAAAAAAAAAAAAAAAAAAAAAAAAAAAAAAAAAAAAAAAAAAAAAAAAAAAAAAAAAAAAAAAAAAAAAAAAAAAAAAAAAAAAAAAAAAAAAAAAAAAAAAAAAAAAAAAAAAAAAAAAAAAAAAAAAAAAAAAAAAAAAAAAAAAAAAAAAAAAAAAAAAAAAAAAAAAAAAAAAAAAAAAAAAAAAAAAAAAAAAAAAAAAAAAAAAAAAAAAAAAAAAAAAAAAAAAAAAAAAAAAAAAAAAAAAAAAAAAAAAAAAAAAAAAAAAAAAAAAAAAAAAAAAAAAAAAAAAAAAAAAAAAAAAAAAAAAAAAAAAAAAAAAAAAAAAAAAAAAAAAAAAAAAAAAAAAAAAAAAAAAAAAAAAAAAAAAAAAAAAAAAAAAAAAAAAAAAAAAAAAAAAAAAAAAAAAAAAAAAAAAAAAAAAAAAAAAAAAAAAAAAAAAAAAAAAAAAAAAAAAAAAAAAAAAAAAAAAAAAAAAAAAAAAAAAAAAAAAAAAAAAAAAAAAAAAAAAAAAAAAAAAAAAAAAAAAAAAAAAAAAAAAAAAAAAAAAAAAAAAAAAAAAAAAAAAAAAAAAAAAAAAAAAAAAAAAAAAAAAAAAAAAAAAAAAAAAAAAAAAAAAAAAAAAAAAAAAAAAAAAAAAAAAAAAAAAAAAAAAAAAAAAAAAAAAAAAAAAAAAAAAAAAAAAAAAAAAAAAAAAAAAAAAAAAAAAAAAAAAAAAAAAAAAAAAAAAAAAAAAAAAAAAAAAAAAAAAAAAAAAAAAAAAAAAAAAAAAAAAAAAAAAAAAAAAAAAAAAAAAAAAAAAAAAAAAAAAAAAAAAAAAAAAAAAAAAAAAAAAAAAAAAAAAAAAAAAAAAAAAAAAAAAAAAAAAAAAAAAAAAAAAAAAAAAAAAAAAAAAAAAAAAAAAAAAAAAAAAAAAAAAAAAAAAAAAAAAAAAAAAAAAAAAAAAAAAAAAAAAAAAAAAAAAAAAAAAAAAAAAAAAAAAAAAAAAAAAAAAAAAAAAAAAAAAAAAAAAAAAAAAAAAABBAEQATQBJAE4AAAD/4QpeaHR0cDovL25zLmFkb2JlLmNvbS94YXAvMS4wLwA8P3hwYWNrZXQgYmVnaW49J++7vycgaWQ9J1c1TTBNcENlaGlIenJlU3pOVGN6a2M5ZCc/Pg0KPHg6eG1wbWV0YSB4bWxuczp4PSJhZG9iZTpuczptZXRhLyI+PHJkZjpSREYgeG1sbnM6cmRmPSJodHRwOi8vd3d3LnczLm9yZy8xOTk5LzAyLzIyLXJkZi1zeW50YXgtbnMjIj48cmRmOkRlc2NyaXB0aW9uIHJkZjphYm91dD0idXVpZDpmYWY1YmRkNS1iYTNkLTExZGEtYWQzMS1kMzNkNzUxODJmMWIiIHhtbG5zOmRjPSJodHRwOi8vcHVybC5vcmcvZGMvZWxlbWVudHMvMS4xLyIvPjxyZGY6RGVzY3JpcHRpb24gcmRmOmFib3V0PSJ1dWlkOmZhZjViZGQ1LWJhM2QtMTFkYS1hZDMxLWQzM2Q3NTE4MmYxYiIgeG1sbnM6ZGM9Imh0dHA6Ly9wdXJsLm9yZy9kYy9lbGVtZW50cy8xLjEvIj48ZGM6Y3JlYXRvcj48cmRmOlNlcSB4bWxuczpyZGY9Imh0dHA6Ly93d3cudzMub3JnLzE5OTkvMDIvMjItcmRmLXN5bnRheC1ucyMiPjxyZGY6bGk+QURNSU48L3JkZjpsaT48L3JkZjpTZXE+DQoJCQk8L2RjOmNyZWF0b3I+PC9yZGY6RGVzY3JpcHRpb24+PC9yZGY6UkRGPjwveDp4bXBtZXRhPg0KICAgICAgICAgICAgICAgICAgICAgICAgICAgICAgICAgICAgICAgICAgICAgICAgICAgICAgICAgICAgICAgICAgICAgICAgICAgICAgICAgICAgICAgICAgICAgICAgICAgIAogICAgICAgICAgICAgICAgICAgICAgICAgICAgICAgICAgICAgICAgICAgICAgICAgICAgICAgICAgICAgICAgICAgICAgICAgICAgICAgICAgICAgICAgICAgICAgICAgICAgCiAgICAgICAgICAgICAgICAgICAgICAgICAgICAgICAgICAgICAgICAgICAgICAgICAgICAgICAgICAgICAgICAgICAgICAgICAgICAgICAgICAgICAgICAgICAgICAgICAgICAKICAgICAgICAgICAgICAgICAgICAgICAgICAgICAgICAgICAgICAgICAgICAgICAgICAgICAgICAgICAgICAgICAgICAgICAgICAgICAgICAgICAgICAgICAgICAgICAgICAgIAogICAgICAgICAgICAgICAgICAgICAgICAgICAgICAgICAgICAgICAgICAgICAgICAgICAgICAgICAgICAgICAgICAgICAgICAgICAgICAgICAgICAgICAgICAgICAgICAgICAgCiAgICAgICAgICAgICAgICAgICAgICAgICAgICAgICAgICAgICAgICAgICAgICAgICAgICAgICAgICAgICAgICAgICAgICAgICAgICAgICAgICAgICAgICAgICAgICAgICAgICAKICAgICAgICAgICAgICAgICAgICAgICAgICAgICAgICAgICAgICAgICAgICAgICAgICAgICAgICAgICAgICAgICAgICAgICAgICAgICAgICAgICAgICAgICAgICAgICAgICAgIAogICAgICAgICAgICAgICAgICAgICAgICAgICAgICAgICAgICAgICAgICAgICAgICAgICAgICAgICAgICAgICAgICAgICAgICAgICAgICAgICAgICAgICAgICAgICAgICAgICAgCiAgICAgICAgICAgICAgICAgICAgICAgICAgICAgICAgICAgICAgICAgICAgICAgICAgICAgICAgICAgICAgICAgICAgICAgICAgICAgICAgICAgICAgICAgICAgICAgICAgICAKICAgICAgICAgICAgICAgICAgICAgICAgICAgICAgICAgICAgICAgICAgICAgICAgICAgICAgICAgICAgICAgICAgICAgICAgICAgICAgICAgICAgICAgICAgICAgICAgICAgIAogICAgICAgICAgICAgICAgICAgICAgICAgICAgICAgICAgICAgICAgICAgICAgICAgICAgICAgICAgICAgICAgICAgICAgICAgICAgICAgICAgICAgICAgICAgICAgICAgICAgCiAgICAgICAgICAgICAgICAgICAgICAgICAgICAgICAgICAgICAgICAgICAgICAgICAgICAgICAgICAgICAgICAgICAgICAgICAgICAgICAgICAgICAgICAgICAgICAgICAgICAKICAgICAgICAgICAgICAgICAgICAgICAgICAgICAgICAgICAgICAgICAgICAgICAgICAgICAgICAgICAgICAgICAgICAgICAgICAgICAgICAgICAgICAgICAgICAgICAgICAgIAogICAgICAgICAgICAgICAgICAgICAgICAgICAgICAgICAgICAgICAgICAgICAgICAgICAgICAgICAgICAgICAgICAgICAgICAgICAgICAgICAgICAgICAgICAgICAgICAgICAgCiAgICAgICAgICAgICAgICAgICAgICAgICAgICAgICAgICAgICAgICAgICAgICAgICAgICAgICAgICAgICAgICAgICAgICAgICAgICAgICAgICAgICAgICAgICAgICAgICAgICAKICAgICAgICAgICAgICAgICAgICAgICAgICAgICAgICAgICAgICAgICAgICAgICAgICAgICAgICAgICAgICAgICAgICAgICAgICAgICAgICAgICAgICAgICAgICAgICAgICAgIAogICAgICAgICAgICAgICAgICAgICAgICAgICAgICAgICAgICAgICAgICAgICAgICAgICAgICAgICAgICAgICAgICAgICAgICAgICAgICAgICAgICAgICAgICAgICAgICAgICAgCiAgICAgICAgICAgICAgICAgICAgICAgICAgICAgICAgICAgICAgICAgICAgICAgICAgICAgICAgICAgICAgICAgICAgICAgICAgICAgICAgICAgICAgICAgICAgICAgICAgICAKICAgICAgICAgICAgICAgICAgICAgICAgICAgICAgICAgICAgICAgICAgICAgICAgICAgICAgICAgICAgICAgICAgICAgICAgICAgICAgICAgICAgICAgICAgICAgICAgICAgIAogICAgICAgICAgICAgICAgICAgICAgICAgICAgICAgICAgICAgICAgICAgICAgICAgICAgICAgICAgICAgICAgICAgICAgICAgICAgICAgICAgICAgICAgICAgICAgICAgICAgCiAgICAgICAgICAgICAgICAgICAgICAgICAgICA8P3hwYWNrZXQgZW5kPSd3Jz8+/9sAQwAHBQUGBQQHBgUGCAcHCAoRCwoJCQoVDxAMERgVGhkYFRgXGx4nIRsdJR0XGCIuIiUoKSssKxogLzMvKjInKisq/9sAQwEHCAgKCQoUCwsUKhwYHCoqKioqKioqKioqKioqKioqKioqKioqKioqKioqKioqKioqKioqKioqKioqKioqKioq/8AAEQgB0QN2AwEiAAIRAQMRAf/EAB8AAAEFAQEBAQEBAAAAAAAAAAABAgMEBQYHCAkKC//EALUQAAIBAwMCBAMFBQQEAAABfQECAwAEEQUSITFBBhNRYQcicRQygZGhCCNCscEVUtHwJDNicoIJChYXGBkaJSYnKCkqNDU2Nzg5OkNERUZHSElKU1RVVldYWVpjZGVmZ2hpanN0dXZ3eHl6g4SFhoeIiYqSk5SVlpeYmZqio6Slpqeoqaqys7S1tre4ubrCw8TFxsfIycrS09TV1tfY2drh4uPk5ebn6Onq8fLz9PX29/j5+v/EAB8BAAMBAQEBAQEBAQEAAAAAAAABAgMEBQYHCAkKC//EALURAAIBAgQEAwQHBQQEAAECdwABAgMRBAUhMQYSQVEHYXETIjKBCBRCkaGxwQkjM1LwFWJy0QoWJDThJfEXGBkaJicoKSo1Njc4OTpDREVGR0hJSlNUVVZXWFlaY2RlZmdoaWpzdHV2d3h5eoKDhIWGh4iJipKTlJWWl5iZmqKjpKWmp6ipqrKztLW2t7i5usLDxMXGx8jJytLT1NXW19jZ2uLj5OXm5+jp6vLz9PX29/j5+v/aAAwDAQACEQMRAD8A+i5P+PmP/cb+a06myf8AHzH/ALjfzWnUAFFFVze24gkmMnyRsUY7TkMDjGOvWgCxRRTN483y8NnbuztOPz6Z9qAH0VG80cckaO2GlYqgx1OCf5A0GaMXCwlv3jKXC47AgH+YoAkooooAKKKKACiiigAooooAKKKKACiiigAooooAKKKKACiiigAooooAKKKKACiiigAooooAKKKKACiiigAooooAKKKKACiiigAooooAKKKKACiiigAooooAKKKKACo2/wCPlP8Acb+YqSo2/wCPlP8Acb+YoAkooooAKKpxaraSzmJHfdvMe5onVSwOCAxGCcjsatk4BJ6CgBaKgt7uO6RGiEm2Rdys0ZAI+pHvUjyBCoIY7m2japOPrjoPegB9FRJPHIU8slg6llZVJXH16d6loAKKKKACiiigAooooAKKKKACiiigAooooAKKKKACiiigAooooAKKKKACiiigAooooAKKKKACiiigAooooAKKKKACiiigAooooAKKKKACiiigAooooAKKKKACiiigBsf/AB8yf7i/zaiiP/j5k/3F/m1FABJ/x8x/7jfzWnU2T/j5j/3G/mtOoAKy5rGdtXG1AbSR1nkOR99RgDHv8p/4DWpRQBz/APZ929xO4tRG0kUyOV2AOT93nJJ+pxj0FTTadJEhW0tYyht1Rk4wx35bjIycZPPBPWtqilbUDnl02YRxiSxMkCXTSeQSg+Qx4xtB2/ePSlOmXptlVE8v91IAm4fIpkVhH6fdBHpXQUUxWM/SbVrWGUGJoVZ8rGwQY47BOBWhRRQMKKKKACiiigAooooAKKKKACiiigAooooAKKKKACiiigAooooAKKKKACiiigAooooAKKKKACiiigAooooAKKKKACiiigAooooAKKKKACiiigAooooAKKKKACo2/wCPlP8Acb+YqSo2/wCPlP8Acb+YoAkooooAw4ba7aB7J7Ro1N20pnZ127fN3jABJzj1ApsOlSm8k+0Ql9xk3yEJtlVs4U/xHqOCMDFb1FA7mAdJmSxtYYbdU2Wmx1QhcOWQn+ROasDTDHcFIbdEtvtKyBFwFC+Xhjj61r0UPV3/AK7krQ56HSriO1jit7YWzJbTREqVUFyUwflPcA89akGnSOriKy+zQNJCfs5KjO1su2FOORge+K3aKY3qU9OtjaJPEIxHF5xMSLjAUgdAOnOeKuUUUgCiiigAooooAKKKKACiiigAooooAKKKKACiiigAooooAKKKKACiiigAooooAKKKKACiiigAooooAKKKKACiiigAooooAKKKKACiiigAooooAKKKKACiiigBsf8Ax8yf7i/zaiiP/j5k/wBxf5tRQAkxIuI9qFzsbgY9V9aN0n/PCT81/wAae3/H1H/uN/NakoAg3Sf88JPzX/GjdJ/zwk/Nf8anooAg3Sf88JPzX/GjdJ/zwk/Nf8anooAg3Sf88JPzX/GjdJ/zwk/Nf8anooAg3Sf88JPzX/GjdJ/zwk/Nf8anooAg3Sf88JPzX/GjdJ/zwk/Nf8anooAg3Sf88JPzX/GjdJ/zwk/Nf8anooAg3Sf88JPzX/GjdJ/zwk/Nf8anooAg3Sf88JPzX/GjdJ/zwk/Nf8anooAg3Sf88JPzX/GjdJ/zwk/Nf8anooAg3Sf88JPzX/GjdJ/zwk/Nf8anooAg3Sf88JPzX/GjdJ/zwk/Nf8anooAg3Sf88JPzX/GjdJ/zwk/Nf8anooAg3Sf88JPzX/GjdJ/zwk/Nf8anooAg3Sf88JPzX/GjdJ/zwk/Nf8anooAg3Sf88JPzX/GjdJ/zwk/Nf8anooAg3Sf88JPzX/GjdJ/zwk/Nf8anooAg3Sf88JPzX/GjdJ/zwk/Nf8anooAg3Sf88JPzX/GjdJ/zwk/Nf8anooAg3Sf88JPzX/GjdJ/zwk/Nf8anooAg3Sf88JPzX/GjdJ/zwk/Nf8anooAg3Sf88JPzX/GjdJ/zwk/Nf8anooAg3Sf88JPzX/GjdJ/zwk/Nf8anooAg3Sf88JPzX/GjdJ/zwk/Nf8anooAg3Sf88JPzX/GjdJ/zwk/Nf8anooAg3Sf88JPzX/GjdJ/zwk/Nf8anooAg3Sf88JPzX/GjdJ/zwk/Nf8anooAg3Sf88JPzX/Goyz/aE/cvnY3GV9R71bqNv+PqP/cb+a0AM3Sf88JPzX/GjdJ/zwk/Nf8AGp6KAIN0n/PCT81/xo3Sf88JPzX/ABqeigCDdJ/zwk/Nf8aN0n/PCT81/wAanooAg3Sf88JPzX/GjdJ/zwk/Nf8AGp6KAIN0n/PCT81/xo3Sf88JPzX/ABqeigCDdJ/zwk/Nf8aN0n/PCT81/wAanooAg3Sf88JPzX/GjdJ/zwk/Nf8AGp6KAIN0n/PCT81/xo3Sf88JPzX/ABqeigCDdJ/zwk/Nf8aN0n/PCT81/wAanooAg3Sf88JPzX/GjdJ/zwk/Nf8AGp6KAIN0n/PCT81/xo3Sf88JPzX/ABqeigCDdJ/zwk/Nf8aN0n/PCT81/wAanooAg3Sf88JPzX/GjdJ/zwk/Nf8AGp6KAIN0n/PCT81/xo3Sf88JPzX/ABqeigCDdJ/zwk/Nf8aN0n/PCT81/wAanooAg3Sf88JPzX/GjdJ/zwk/Nf8AGp6KAIN0n/PCT81/xo3Sf88JPzX/ABqeigCDdJ/zwk/Nf8aN0n/PCT81/wAanooAg3Sf88JPzX/GjdJ/zwk/Nf8AGp6KAIN0n/PCT81/xo3Sf88JPzX/ABqeigCDdJ/zwk/Nf8aN0n/PCT81/wAanooAg3Sf88JPzX/GjdJ/zwk/Nf8AGp6KAIN0n/PCT81/xo3Sf88JPzX/ABqeigCDdJ/zwk/Nf8aN0n/PCT81/wAanooAg3Sf88JPzX/GjdJ/zwk/Nf8AGp6KAIN0n/PCT81/xo3Sf88JPzX/ABqeigCDdJ/zwk/Nf8aN0n/PCT81/wAanooAghJNxJuQodi8HHq3pRT1/wCPqT/cX+bUUADf8fUf+4381qSo2/4+o/8Acb+a1JQAVgQ6hdy3ZtLR4YZGnuGMk6vKNsbKMAbxyd3rgY6Vv1Vn0yxuo/LubK3mTzPM2yRKw3/3sEdfel1uHQh0Gd7nw/ZTSvveSFWZt27JI9e/1rQpscaRRrHEioijCqowAPpTqYBRRRQAUUUUAFFFFABRRRQAUUUUAFFFFABRRRQAUUUUAFFFFABRRRQAUUUUAFFFFABRRRQAUUUUAFFFFABRRRQAUUUUAFFFFABRRRQAUUUUAFFFFABRRRQAUUUUAFFFFABUbf8AH1H/ALjfzWpKjb/j6j/3G/mtAElFFFAHNLd3A8OTu08nnDVHiBLncB9rwF9cbcAD09qkOs3wuEMv2c2811PaKiRsHUosjBt270jxjHfOe1a50ywN+L42VubsdLgxL5nTH3sZ6cVIbS2O3NvEdrmRfkHDEEFvqQx59z60PVFXV7nO2+tX7aUlzC1qkUEduskcyuzO0iochy/A+fAyCSQeavf23KqRs6RkteTwFFByVjWQjHPX5B+dW7nRNOughe0hWSNAkcqxKGjUdApxwPapl06yW8a7Wzt1uWOWmES7ycY5bGenFEtW7ER0STM/RdTv72YC8jj8qWATRukRTbnHy8sd3X7wA6dKo7Xv9aW2uLi6EX2m4+WK5ki4CpgZVgcDJ4963rXTrKxeR7Kzgt2lOZGiiClz74HPU0250nTr1dt5p9rcDcXxLCrfMeCeR196TV9v61TH/X4FOwmmfR7wQ3PmmGSWOCeQb8hemeRuwcrnOTt65rK0/UNRtdAg2T2zNb6cl7O88bnztwY4BL5U/Kcsd3J6dq6pIo44RFHGqxqu0Iq4AHpj0qvLpdhP5AnsbaQW+PJ3xKfKx/d446Dp6U/+AHX7ytpl7dX17eGTykt4JBGkYQ78lEfJbOP4iMY/Gsp7nVmd1N7Fu/tXyYsQsAqbScMA/wAw6ccdPy6ZIo42do0VTI25yoxuOAMn1OAB+FR/YrXz2m+zQ+azB2fyxuLAYBJ9QDik9Wvl+af6B0/rszCOt6i6QW8Sw/amedXlW3Z0PlOF4TeCM5B+8cYPWr8mo3X9jWk6xxw3N0Y0xJ86RM3XOCMj05GeORVq40ywu4fJurK3mi3mTZJErLuPVsEdeTz71LJa281qbaaCOSArtMTICpHpjpimBmLqdzBeLbXUtpIVt55XkiBUZRkA4JO3huRk/WoY9YvWvLUzeTDazLEN3kl90jrnG4N8nJGAy88c88aR0jTWghhbT7UxQHdChhUrGfVRjg/Sn/2bY/ao7n7Fb+fGoVJfKXcoAwADjI4J/Oj+vzAw9MvtXltLeB7q1a5nluCJ5LZtqpHJtC7Q4yeeuRwO/WmTeItQaze5tltUWCzW5kV0ZvM+ZwQpDDAO3IOD16Gt2XSdOnieKewtZI5JPNdHhUhn/vEY5PvUrWdsysrW8LK0YjYFBgoOi/Tk8UdRdLIw5dX1OGRrMm3e5+0mITR2zFdvlK/+r35zzj73Yn2qxYalqF5fQQyJDAot/NmBQszHey4XDYUHAPOcdK0rjT7O7ieO7tIJ0kYM6yRhgzAYBIPU4A5p8VrBBt8iCOPagjXYgGFHRRjt7Udf67f5jJaKKKACiiigAooooAKKKKACiiigAooooAKKKKACiiigAooooAKKKKACiiigAooooAKKKKACiiigAooooAKKKKACiiigCNf+PqT/AHF/m1FC/wDH1J/uL/NqKAGyFxcx+WqsdjdTjuvtTt0//POP/v4f8KG/4+o/9xv5rUlAEe6f/nnH/wB/D/hRun/55x/9/D/hUlFAEe6f/nnH/wB/D/hRun/55x/9/D/hUlFAEe6f/nnH/wB/D/hRun/55x/9/D/hUlFAEe6f/nnH/wB/D/hRun/55x/9/D/hUlFAEe6f/nnH/wB/D/hRun/55x/9/D/hUlFAEe6f/nnH/wB/D/hRun/55x/9/D/hUlFAEe6f/nnH/wB/D/hRun/55x/9/D/hUlFAEe6f/nnH/wB/D/hRun/55x/9/D/hUlFAEe6f/nnH/wB/D/hRun/55x/9/D/hUlFAEe6f/nnH/wB/D/hRun/55x/9/D/hUlFAEe6f/nnH/wB/D/hRun/55x/9/D/hUlFAEe6f/nnH/wB/D/hRun/55x/9/D/hUlFAEe6f/nnH/wB/D/hRun/55x/9/D/hUlFAEe6f/nnH/wB/D/hRun/55x/9/D/hUlFAEe6f/nnH/wB/D/hRun/55x/9/D/hUlFAEe6f/nnH/wB/D/hRun/55x/9/D/hUlFAEe6f/nnH/wB/D/hRun/55x/9/D/hUlFAEe6f/nnH/wB/D/hRun/55x/9/D/hUlFAEe6f/nnH/wB/D/hRun/55x/9/D/hUlFAEe6f/nnH/wB/D/hRun/55x/9/D/hUlFAEe6f/nnH/wB/D/hRun/55x/9/D/hUlFAEe6f/nnH/wB/D/hRun/55x/9/D/hUlFAEe6f/nnH/wB/D/hRun/55x/9/D/hUlFAEe6f/nnH/wB/D/hRun/55x/9/D/hUlFAEe6f/nnH/wB/D/hRun/55x/9/D/hUlFAEe6f/nnH/wB/D/hRun/55x/9/D/hUlFAEe6f/nnH/wB/D/hUbNN9pT93HnY38Z9R7VYqNv8Aj6j/ANxv5rQAbp/+ecf/AH8P+FG6f/nnH/38P+FSUUAR7p/+ecf/AH8P+FG6f/nnH/38P+FSUUAR7p/+ecf/AH8P+FG6f/nnH/38P+FSUUAR7p/+ecf/AH8P+FG6f/nnH/38P+FSUUAR7p/+ecf/AH8P+FG6f/nnH/38P+FP3DdtyN2M4zziloAj3T/884/+/h/wo3T/APPOP/v4f8KkooAj3T/884/+/h/wo3T/APPOP/v4f8KkooAj3T/884/+/h/wo3T/APPOP/v4f8KkooAj3T/884/+/h/wo3T/APPOP/v4f8KkooAj3T/884/+/h/wo3T/APPOP/v4f8KkooAj3T/884/+/h/wo3T/APPOP/v4f8KkooAj3T/884/+/h/wo3T/APPOP/v4f8KkooAj3T/884/+/h/wo3T/APPOP/v4f8KkooAj3T/884/+/h/wo3T/APPOP/v4f8KkooAj3T/884/+/h/wo3T/APPOP/v4f8KkooAj3T/884/+/h/wo3T/APPOP/v4f8KkooAj3T/884/+/h/wo3T/APPOP/v4f8KkooAj3T/884/+/h/wo3T/APPOP/v4f8KkooAj3T/884/+/h/wo3T/APPOP/v4f8KkooAj3T/884/+/h/wo3T/APPOP/v4f8KkooAj3T/884/+/h/wo3T/APPOP/v4f8KkooAj3T/884/+/h/wo3T/APPOP/v4f8KkooAj3T/884/+/h/wo3T/APPOP/v4f8KkooAj3T/884/+/h/wo3T/APPOP/v4f8KkooAj3T/884/+/h/wo3T/APPOP/v4f8KkooAj3T/884/+/h/wo3T/APPOP/v4f8KkooAj3T/884/+/h/wo3T/APPOP/v4f8KkooAhjLm5k8xVU7F6HPdvainL/wAfUn+4v82ooAG/4+o/9xv5rUlRt/x9R/7jfzWpKACuL1KWyia+a5t7W41sXDeRHNP5U5T/AJZ+SdrN0x90Yzuz3rtKKOtw6HMyaref8JIbb7WkTLcIiWbvGPMjKgltu3eTy3IOOOehqGPVNThs4bk3T3D3NlNL5bRLtjZCuCoUAngnIJOe2K6yikHU446k0UmoXFhqv29BDaqbzMf7tTJIGO5VCcA9SMDvnFW9Pvr68nsol1LfDJJKRPEYnMqqFIBYLt6lgdo6e9dNRTAKKKKACiiigAooooAKKKKACiiigAooooAKKKKACiiigAooooAKKKKACiiigAooooAKKKKACiiigAooooAKKKKACiiigAooooAKKKKACiiigAooooAKKKKACiiigAqNv+PqP/cb+a1JUbf8fUf+4381oAkooooA4uWSyjkzLb2s+u/bWyrz+XdBfMOwphSxXZjjhduc96tx6vevrckRvEV1llVrNnjysahtrhQu/JwpyTtIJ9q6mil0sM5OPVNQg0+KWe/eT7TZQ3DyPGgFvudQ7LhRwFYn5s42+mai/tN4I7yW11Pz4HvI43v8xrtTyQc7tvl/eAXOMc4612NFN6kx0WpzmmXt9eX1hHJf7ojDNMXhCN54WRVXLbcfdbnbjJ6Yo13VJ7S7uFS/+zSxQK9pbYT/AExzu+X5gSeQowuCM+4ro6KfYFuzC0OBhr2vTSTSSE3SIFZVwo8iNsAgA/xdz+uSc1Emk8qBtTneddZkGT5ZeAbZCuBtwMjBGQevpXX0Uu39dim9P67WONm1y9S2jWfUfsoV7mMXLtFH5zRzMig7l25wMkKAT2xitzUr2eDSrSSa4Wy81kW5uVxiAFSSQXGPvALkjvWtRQJ73OZk1wWfkl9VSa2ktJzFcOir50isu3GBhjjP3eG6gUDVJzrcEEuoH98qKsEJjLAtHksyMu7rk7lJHHI4NdNRR/X5/wCYf1+Rx1lqDwaPp0V3r72qeQ5kupDEWMqkDyiWXGRk8Y3HHXg1LJqeqzRmV7mSzkjgs2eBY0IDSsVcHcpPHbkYPXNdZRR0DqcpeaneWaiCfUmjiS4kja9kMMbcBSqksuwZ3N/Dztq9pF1fXmoj7Vd/JHZwyNHEq7JGfeC2SM4+UEYIrdooAKKKKACiiigAooooAKKKKACiiigAooooAKKKKACiiigAooooAKKKKACiiigAooooAKKKKACiiigAooooAKKKKACiiigAooooAjX/AI+pP9xf5tRQv/H1J/uL/NqKAGyKWuYwHZPkbkY9V9ad5T/895PyX/Chv+PqP/cb+a1JQBH5T/8APeT8l/wo8p/+e8n5L/hUlMM8QuBAZUEzKXEe4bioIBOOuMkc+9ACeU//AD3k/Jf8KPKf/nvJ+S/4VJRQBH5T/wDPeT8l/wAKPKf/AJ7yfkv+FSUUAR+U/wDz3k/Jf8KPKf8A57yfkv8AhUlFAEflP/z3k/Jf8KPKf/nvJ+S/4VJRQBH5T/8APeT8l/wo8p/+e8n5L/hUlFAEflP/AM95PyX/AAo8p/8AnvJ+S/4VJRQBH5T/APPeT8l/wo8p/wDnvJ+S/wCFSUUAR+U//PeT8l/wo8p/+e8n5L/hUlFAEflP/wA95PyX/Cjyn/57yfkv+FSUUAR+U/8Az3k/Jf8ACjyn/wCe8n5L/hUlFAEflP8A895PyX/Cjyn/AOe8n5L/AIVJRQBH5T/895PyX/Cjyn/57yfkv+FSUUAR+U//AD3k/Jf8KPKf/nvJ+S/4VJRQBH5T/wDPeT8l/wAKPKf/AJ7yfkv+FSUUAR+U/wDz3k/Jf8KPKf8A57yfkv8AhUlFAEflP/z3k/Jf8KPKf/nvJ+S/4VJRQBH5T/8APeT8l/wo8p/+e8n5L/hUlFAEflP/AM95PyX/AAo8p/8AnvJ+S/4VJRQBH5T/APPeT8l/wo8p/wDnvJ+S/wCFSUUAR+U//PeT8l/wo8p/+e8n5L/hUlFAEflP/wA95PyX/Cjyn/57yfkv+FSUUAR+U/8Az3k/Jf8ACjyn/wCe8n5L/hUlFAEflP8A895PyX/Cjyn/AOe8n5L/AIVJRQBH5T/895PyX/Cjyn/57yfkv+FSUUAR+U//AD3k/Jf8KPKf/nvJ+S/4VJRQBH5T/wDPeT8l/wAKjaNvtKDzpPuNzhfUe1WKjb/j6j/3G/mtAB5T/wDPeT8l/wAKPKf/AJ7yfkv+FSUUAR+U/wDz3k/Jf8KPKf8A57yfkv8AhSieI3BgEqecFDmPcNwUnAOOuMg8+1PoAj8p/wDnvJ+S/wCFHlP/AM95PyX/AAqSigCPyn/57yfkv+FHlP8A895PyX/CkhuoLiAzQTJJECRvU5XjrzTxLG0rRK6mRQGZAeQDnBI98H8qAG+U/wDz3k/Jf8KPKf8A57yfkv8AhUlFAEflP/z3k/Jf8KPKf/nvJ+S/4VJSEhRliAPegBnlP/z3k/Jf8KPKf/nvJ+S/4VJRQBH5T/8APeT8l/wo8p/+e8n5L/hUlFAEflP/AM95PyX/AAo8p/8AnvJ+S/4VJRQBH5T/APPeT8l/wo8p/wDnvJ+S/wCFSUUAR+U//PeT8l/wo8p/+e8n5L/hUlFAEflP/wA95PyX/Cjyn/57yfkv+FSUUAR+U/8Az3k/Jf8ACjyn/wCe8n5L/hUlFAEflP8A895PyX/Cjyn/AOe8n5L/AIVJRQBH5T/895PyX/Cjyn/57yfkv+FSUUAR+U//AD3k/Jf8KPKf/nvJ+S/4VJRQBH5T/wDPeT8l/wAKPKf/AJ7yfkv+FSUUAR+U/wDz3k/Jf8KPKf8A57yfkv8AhUlFAEflP/z3k/Jf8KPKf/nvJ+S/4VJRQBH5T/8APeT8l/wo8p/+e8n5L/hUlFAEflP/AM95PyX/AAo8p/8AnvJ+S/4VJRQBH5T/APPeT8l/wo8p/wDnvJ+S/wCFSUUAR+U//PeT8l/wo8p/+e8n5L/hUlFAEflP/wA95PyX/Cjyn/57yfkv+FSUUAR+U/8Az3k/Jf8ACjyn/wCe8n5L/hUlFAEflP8A895PyX/Cjyn/AOe8n5L/AIVJRQBH5T/895PyX/Cjyn/57yfkv+FSUUAQxqVuZAXZ/kXk49W9KKcv/H1J/uL/ADaigAb/AI+o/wDcb+a1JUbf8fUf+4381qSgArl54tUbXm1ZLJDDFcLEpLsJjCMowCbeRuZn68gCuooo6h0sctJJcx6rCC98t4966tuZxbtHtcoBn5DwF4X5sjnvUvhv7Ybom5e7z5AFwlws2DLkcqZPl/vcJ8vI9q2106yS7+1LawifJbzAgzkjBP1I4zVmhaA9WFFFFABRRRQAUUUUAFFFFABRRRQAUUUUAFFFFABRRRQAUUUUAFFFFABRRRQAUUUUAFFFFABRRRQAUUUUAFFFFABRRRQAUUUUAFFFFABRRRQAUUUUAFFFFABRRRQAUUUUAFRt/wAfUf8AuN/NakqNv+PqP/cb+a0ASUUUUAcvFFqi68NWayQQyXBiJ3sZhCcIoKbeBuAf73AJqBJL5ZES3a+GpPbT+cs7P5TTBRt2BvlIznGzjHXtXX1Wg06ytpzNb2sMUjZBZEAPJyfpk8n1NK2lh9bmX4cE3m3DGS6MO1AEuVmyH5yQZeemOBxxx3qvbrcyapGhOoee00ovN5lEPlYfbsP3Ac+Xgp83XPeulopvURy0GkzN8LP7NEdwLiTTNnlvI+8SGP7vJyOeMdO2KjurKVvtt5YDUFaKwgNr88ys7gyHDAnLnpkNnr05rraKpyu7hLVWOZP24+JiHe6RvtAKYWYxGHA44/d+vJ+bP4VZ1ct/af8ApP8AaPk+Sv2b7D5n+t3Nu3bOOmzG/wCXr71u0VK0SDqc9Hc3g1GO1aO+LC/kd38ttgiMblfnPykZ2jAPBxxWZ9muLrRbu3mTUZhG0ErTFrhGkIky4CN8wIAzhCR0xzXaUUlorD6nNSm5/tTEX9ofaftMXkZ83yPs/wAu7d/BnG/73zZx7VVXT76S2jaSTUxJJYyySYuJhiZSuzjPBwW+Xv3BxXX0Uf1/X5+oI5af+0X1xd8l1G/mRGAokxj2YXeGC/u+TvB38jjHatbQYZo7GSS6a4M8s0pYTuxwBIwXAJwo246Yz1rToqibahRRRSGFFFFABRRRQAUUUUAFFFFABRRRQAUUUUAFFFFABRRRQAUUUUAFFFFABRRRQAUUUUAFFFFABRRRQAUUUUAFFFFABRRRQAUUUUARr/x9Sf7i/wA2ooX/AI+pP9xf5tRQA2RA9zGDuHyN0YjuvpTvs6esn/fxv8aG/wCPqP8A3G/mtSUAR/Z09ZP+/jf40fZ09ZP+/jf41JWU2vIlxMr2V0tvDL5Ul2dhjVuOwbdjkc7cD6c0dbAaP2dPWT/v43+NH2dPWT/v43+NV5NUtElMSTxSyrIqPGkybkLNtGQSO/bqewJp0+pW0Nr54mjkUxmVAsqDeoxkgkgY5HOccigCb7OnrJ/38b/Gj7OnrJ/38b/Gok1GylvDax3lu9yASYVlUuADg/LnPB4ot9RsruVorW8t55EJDJHKrFcdcgHtkfnQBL9nT1k/7+N/jR9nT1k/7+N/jTJbuOK9gtmDF5wxUgcDbjOfzqOXUrW3M5u5o7eOAqGkllRVyRkd+PxxSuBP9nT1k/7+N/jR9nT1k/7+N/jUMmqafCsDTX1tGLjHklplHm5/u889R09aU6jZC8Fmby3FyxwIDKu88Z+7nPTmmBL9nT1k/wC/jf40fZ09ZP8Av43+NQpqdhL5/l3ts/2bPn7ZVPlf73PHQ9fSpba7t72ATWdxFcREkCSJwynHuKAF+zp6yf8Afxv8aPs6esn/AH8b/GpKKAI/s6esn/fxv8aPs6esn/fxv8akooAj+zp6yf8Afxv8aPs6esn/AH8b/GpKKAI/s6esn/fxv8aPs6esn/fxv8akooAj+zp6yf8Afxv8aPs6esn/AH8b/GpKKAI/s6esn/fxv8aPs6esn/fxv8akooAj+zp6yf8Afxv8aPs6esn/AH8b/GpKKAI/s6esn/fxv8aPs6esn/fxv8akooAj+zp6yf8Afxv8aPs6esn/AH8b/GpKKAI/s6esn/fxv8aPs6esn/fxv8akooAj+zp6yf8Afxv8aPs6esn/AH8b/GpKKAI/s6esn/fxv8aPs6esn/fxv8akooAj+zp6yf8Afxv8aPs6esn/AH8b/GpKKAI/s6esn/fxv8aPs6esn/fxv8akooAj+zp6yf8Afxv8aPs6esn/AH8b/GpKKAI/s6esn/fxv8aPs6esn/fxv8akooAj+zp6yf8Afxv8aPs6esn/AH8b/GpKKAI/s6esn/fxv8aPs6esn/fxv8akooAj+zp6yf8Afxv8aPs6esn/AH8b/GpKKAI/s6esn/fxv8aPs6esn/fxv8akooAj+zp6yf8Afxv8ajaBftKDMn3G/wCWjeo96sVG3/H1H/uN/NaAD7OnrJ/38b/Gj7OnrJ/38b/GpKKAI/s6esn/AH8b/Gj7OnrJ/wB/G/xqlFrUUt8IBb3CxvI0UdywXy5HXOVHO7+FuSADg89M3hPE1w0AkUyoodkzyASQD+h/KgBPs6esn/fxv8aPs6esn/fxv8aoSa2iXEipZ3UtvE/ly3SBfLRu/BbccdyFIH4HF8XMDEATRklzGMMOWGcr9eDx7UAH2dPWT/v43+NH2dPWT/v43+NUbjxFpFtavcyalamFJVhd1lVgrscAHB46/lk1aGo2RvFtBeW/2ll3LD5q7yOuQuc4oAk+zp6yf9/G/wAaPs6esn/fxv8AGqja7pCFg+qWSlSAwNwgwT0zz3qeS/s4ryO0lu4EuZBlIWkAdx7L1PQ0ASfZ09ZP+/jf40fZ09ZP+/jf402C8trp5FtriKZojtkEbhih9DjpVeLWLC4vPs1tcxTOEdnMUisI9pUENg8H5h+RoAtfZ09ZP+/jf40fZ09ZP+/jf41DHqunzWcl1DfW0ltGcPMsylF+rZwKa+r6bHax3UmoWq28pxHK0yhHPoDnB6UAWPs6esn/AH8b/Gj7OnrJ/wB/G/xpLi7t7SLzbueKCP8AvyuFHTPU+wJ/CoZNW06G3iuJb+1SGf8A1UjTKFk/3TnB/CgCf7OnrJ/38b/Gj7OnrJ/38b/GoItVsp9Um06K5ja7gRXkhDDcFPQ4/wA9R61HBrVhPqE1j9ojS6ikMfku6h3wobKrnJGD+hoFdFv7OnrJ/wB/G/xo+zp6yf8Afxv8ahj1XT5nkSG+tpGicJIqzKSjE4APPBJ4x60txqVjaRu91eW8CI+x2klVQrYzg5PBwQcUDJfs6esn/fxv8aPs6esn/fxv8ar6hqUen6eLsxyXCs8aIsO0ly7hVxkgdWHeq516GON/tVtcW8ySRI0EgUuPNcIjZVipGT2PY9+KeoWND7OnrJ/38b/Gj7OnrJ/38b/GpKpyalHHqsNgYpi8wYiTZhAQM4yepx6Z98cUgLH2dPWT/v43+NH2dPWT/v43+NKJ4muGgEimVFDsmeQCSAf0P5Vnya2iXEipZ3UtvE/ly3SBfLRu/BbccdyFIH4HABf+zp6yf9/G/wAaPs6esn/fxv8AGgXMDEATRklzGMMOWGcr9eDx7VRuPEWkW1q9zJqVqYUlWF3WVWCuxwAcHjr+WTQBe+zp6yf9/G/xo+zp6yf9/G/xqMajZG8W0F5b/aWXcsPmrvI65C5zioG13SELB9UslKkBgbhBgnpnnvQBb+zp6yf9/G/xo+zp6yf9/G/xqOS/s4ryO0lu4EuZBlIWkAdx7L1PQ06C8trp5FtriKZojtkEbhih9DjpQA77OnrJ/wB/G/xo+zp6yf8Afxv8aqPren+RJLBdRXQikSORbeRXKMzBRnB45P6GpH1fTY0leTULVVgYLKxmUCMngBueD9aAJ/s6esn/AH8b/Gj7OnrJ/wB/G/xqGTVNPhWAzX1tGLj/AFJaZR5v+7zz1HT1plzq9la3K2z3EZuWZF8hXXzBuYKDtznHPWgCz9nT1k/7+N/jR9nT1k/7+N/jQlzBJ5eyaNvMyUw4O/HXHrVVdZsTqUlhJcRxXKOEWOR1VpCVDfKM5PBoAtfZ09ZP+/jf40fZ09ZP+/jf41EmpWMk80Md7bvLACZY1lUtGB1LDPH40+1vLa9g86yuIrmLJG+Fw65HbIoAd9nT1k/7+N/jR9nT1k/7+N/jWbp3iCPUFtXayurSO8QNbST7MS5Xdj5WbB2gnnFX7K7jv7KK5hDKkgyAw5o2dgH/AGdPWT/v43+NH2dPWT/v43+NSUUAR/Z09ZP+/jf40fZ09ZP+/jf41JRQBH9nT1k/7+N/jR9nT1k/7+N/jUlFAEf2dPWT/v43+NH2dPWT/v43+NSUUAR/Z09ZP+/jf40fZ09ZP+/jf41JRQBH9nT1k/7+N/jR9nT1k/7+N/jUlFAEMaBLmQDcfkXqxPdvWinL/wAfUn+4v82ooAG/4+o/9xv5rUlRt/x9R/7jfzWpKACsF9M1OT7dZ7bVLO8nLtP5rGQIQMjZtAzwRndxnOD0reoo63Axm0ec2zRhogzakt3nJ+6JA2OnXA/+vVaXw9cvbapCJIiJomhswSf3aMSzbuOPmOOM8KtdFRRH3Ukun/AX6CaTvfr/AMP+ph/2JcZt8SRqI9QnuXKk5KOkgAHHX51/KqOmSXSX1s4sTMtlZPABBGyM/wA0eM+YECnCk7cnGOvIrqqKFoU9f687mNONSu7q0vbXT1he38xGhvZ1QsGA5Bj8wduhxUcmmah/aB1GNLVp/NWQQNMwX/VbGG/ZkEE8HbyPTPG7RSshHN3uh31wxZUtsXFuILiFJ2iRBuYnGFO7O85+7nGeM8Wm0afdOUeMGTUIbkHJzsQRgg8dfkP59a2qKa0/rzuD1Vn/AF0OaOhai8E8G+GGEBTDEs7OCyyB+pXKKcYxlgM8dOdTR7Ka0jne6RUmnl3uFmaXooUfMVXnAHYVo0ULQAooooAKKKKACiiigAooooAKKKKACiiigAooooAKKKKACiiigAooooAKKKKACiiigAooooAKKKKACiiigAooooAKKKKACiiigAooooAKKKKACo2/4+o/9xv5rUlRt/x9R/7jfzWgCSiiigDFttLvYrmGB/s4sre5kuEkV2Mj7txClduBguedxzgcDPGuFl+0MxkUxFQFTZyGycnOec8cY7e9PooAx4rPU7J5baxFr9llneYTvI3mR72LMNm0huScHcOvTjmNdLv11BQPs32RLyS63l2LsGRht27cDBbrk5A7VuUUdbjuc0mh6kdPkgYwIsbW7W8PntIoMUgfG8puCnAGDuxVp9LvXuzHttxbPdrdtN5jeYCMHbt24P3cZz07Vt0U763/AK/rRC3Vjn49AuEtYYmaEmOwntm5OCzlSD06cHNJJod2dRY/u5LaaWKVybhkKFAo4UKd3KAj5h1/PoaKlabAUNN097PSmtZGUM0kzbo+292YfjhqyhoWoXECw3K2cKw2ElmjROz787MEgqMD5Dlcnr1NdJRT63/r+tRW0sc9caPqN6093MLeC5Yw7IYp2KHy2Y5L7AQTv/unG0daY+i6gLRXgSFLxnkdn+2P8hYAcEoQ4+UZUqB/XpKKBlC6sZbj+zstGTazrJISMbsIy8D6kVmxaPqNnve3W0uXka5UrNKyqiSTM6kEKc8EArx068V0NFG4dLGVpmlzabek71lhNpDCXLEPuj3DpjGCG657dKjOjz+bO6tEPM1FLsHJ+6EVcdOvyn/Gtmim3d3/AK3uTyq1v67fqc1BoGoS7v7Qlj3fZHgEiSljvLKVcLtVUwVzge3WntouoLb2k6PE98pke4UTtGjNIQSQ21jxgAZHT0roqKXQoxrvSZz4at7CzEPnQPA6rJIwT93IrkbsE/wkA4qC+0rU7+GaeQWqXRktzHAszGMLFMJDl9mcnn+Hjj610FFO402inFc3vmQR3VnGjSFt5hmLqigcHJReSeMYpbm0ebUrK4UqEty5YE8nK4GKt0UhDAsv2hmMimIqAqbOQ2Tk5zznjjHb3rKis9TsnltrEWv2WWd5hO8jeZHvYsw2bSG5Jwdw69OOdiigDDXS79dQUD7N9kS8kut5di7BkYbdu3AwW65OQO1Vk0PUjp8kDGBFja3a3h89pFBikD43lNwU4Awd2K6WihaWt0/Qd9bmI+l3r3Zj224tnu1u2m8xvMBGDt27cH7uM56dqij0C4S1hiZoSY7Ce2bk4LOVIPTpwc10FFKy/r0t+Qtnf+u5z0mh3Z1Fj+7ktppYpXJuGQoUCjhQp3coCPmHX89LTLGWx0s2zMnmGSVwyjI+eRmH/oQq/RTeqsK1nc5iLQdTkVjdvD5myFM+ez7tkgcnGxQowDgAf/WsSaJeJY24t2jM8F3NOFEpjVg7P/EFJBAf0Pce9b9FHSwzl7rQNSk082kBgEctu6MhuHXZIzMxO4JucfN0yo46c8W5dKv2uTGiWrWxvY7vzndvMGCpK7duO2Ad3TAxW7RR1v8A13E1dWMTSbJ11i9nZWFvE7Jah0KkbyHkPPUbsYPtS3ejXE7XjRvEDPe206kk8LG0ZYHjr8hx9a2qKFpbyKvrc5saHqM07tefZ5l8meIZncCTeQQNqqAgwOSMn3OOdPSba9t4JhfurF5MxqJPMKLtAwXKqW5B6jPua0aKOlhHP6Rpepw2Wl2eoC1ii05EG6CZpDMyoUHVF2jnPereiW+o2VrHZ3sFqIolIWWK4Z2Y54ypQY49zWrRQ9XdjeoUUUUCCiiigAooooAKKKKACiiigAooooAjX/j6k/3F/m1FC/8AH1J/uL/NqKAGyIklzGJFVhsY4Iz3WnfZoP8AnjH/AN8Chv8Aj6j/ANxv5rUlAEf2aD/njH/3wKPs0H/PGP8A74FSVjf23crePvs4RZpdi180XJ8wsSADs2Yxlv73TmjrYNlc1fs0H/PGP/vgUfZoP+eMf/fAqqmtWDzyRCZlMYYl3iZUO372HI2tjvgnFQ/2/ZycW7N5geIMk8UkRCu+0HBXJyc44wcdR1o3A0Ps0H/PGP8A74FH2aD/AJ4x/wDfAqmdd08SSq0zL5SuzOYXCEJ97a2MMRg5Ckng1NZ6lbX7SLbM5aPG5ZImjOD0IDAZBwcEcHFAE32aD/njH/3wKPs0H/PGP/vgVRuNRvDeywaZZRXP2cDzmluDHgkZCrhWycc84HI564fJrVnA0aXBlid0V2UwsfKDdN5AITv1I6GgC39mg/54x/8AfAo+zQf88Y/++BVGXXLVb+K0j3vJJP5Jby2CA4JID42sRjoDnr6VLa6tZ3twYLeRy4Usu6J1V1BwSrEAOORypPUetG4Fn7NB/wA8Y/8AvgUfZoP+eMf/AHwKkooAj+zQf88Y/wDvgUfZoP8AnjH/AN8CpKKAI/s0H/PGP/vgUfZoP+eMf/fAqSigCP7NB/zxj/74FH2aD/njH/3wKkooAj+zQf8APGP/AL4FH2aD/njH/wB8CpKKAI/s0H/PGP8A74FH2aD/AJ4x/wDfAqSigCP7NB/zxj/74FH2aD/njH/3wKkooAj+zQf88Y/++BR9mg/54x/98CpKKAI/s0H/ADxj/wC+BR9mg/54x/8AfAqSigCP7NB/zxj/AO+BR9mg/wCeMf8A3wKkooAj+zQf88Y/++BR9mg/54x/98CpKKAI/s0H/PGP/vgUfZoP+eMf/fAqSigCP7NB/wA8Y/8AvgUfZoP+eMf/AHwKkooAj+zQf88Y/wDvgUfZoP8AnjH/AN8CpKKAI/s0H/PGP/vgUfZoP+eMf/fAqSigCP7NB/zxj/74FH2aD/njH/3wKkooAj+zQf8APGP/AL4FH2aD/njH/wB8CpKKAI/s0H/PGP8A74FH2aD/AJ4x/wDfAqSigCP7NB/zxj/74FH2aD/njH/3wKkooAj+zQf88Y/++BR9mg/54x/98CpKKAI/s0H/ADxj/wC+BR9mg/54x/8AfAqSigCP7NB/zxj/AO+BUbW8P2lB5UeNjHG0eoqxUbf8fUf+4381oAPs0H/PGP8A74FH2aD/AJ4x/wDfAqSigCP7NB/zxj/74FH2aD/njH/3wKzl1vdpUl79n+5dtbbN/XE/lbs49s4/D3qUa3ZPcNbxyMZQXUFonCFlzuXftxkYPAOcDOKHoOzvYufZoP8AnjH/AN8Cj7NB/wA8Y/8AvgVnr4hsRDA00pBljRy0cUjxrvA2gvtwM5GAcE5HFW11G1bbiX70zwjKkfOuSw/Da3PTijYS1V0S/ZoP+eMf/fAo+zQf88Y/++BVey1W01B2S2dyyqG+eJ03KejLuA3D3GRSDVrM3xtBI/mAld3lPs3AZK78bc47ZzwaALP2aD/njH/3wKPs0H/PGP8A74FUo9e06WKSRZnCxqH+eF13qTgFAR84JwAVznI9RTIvEFpItw7CVEhlWIAwv5jMVDY8vbuzg9MdOelAGh9mg/54x/8AfAo+zQf88Y/++BVSfV7ePQ59Ui3zQxRu5VUbcSucqVxkHIwQRx3qGHX7UQQG8LxSyorsFgkKxhjgbiV+Qf72OlAGj9mg/wCeMf8A3wKPs0H/ADxj/wC+BUVvqFvdzzQ27OzQMVkPlsFBBwRuIwT7A1lp4qtZI4ZUt7nZJdy2rboJNwKb+VULls7O3TPPQijzA2fs0H/PGP8A74FH2aD/AJ4x/wDfAqk+v6dHBHMZpCkilwUgdtig4JYBfkAOQd2MYPpVi81C3sIo5Ll2AkbYgSNnLNgnACgk8A0AS/ZoP+eMf/fAo+zQf88Y/wDvgVVXWLJ7z7KJXEmSoZonCFgMlQ5G0kAHIzng+hqA+IrF4ybeQl9odRNFJGGXcq7gSvIywwRkH9aANH7NB/zxj/74FH2aD/njH/3wKrDWLI3ptRK3mbioJicIWAyVD42lhg8A54PoaLHWLLUm22cjt8gkUvC6B1PRlLAbh7jNAFn7NB/zxj/74FH2aD/njH/3wKrf2vZfbTaeY/m7imfJfYWAyVD42lsds5qvpmtC/wBHm1F4JI40Z9qeU+4qvsVBJOOwPpzii+lw62NH7NB/zxj/AO+BR9mg/wCeMf8A3wKx08VWjLZytDcpDdWrXIbyJC6AFRgoFJx833unHvV59ZsY7lIDKxZyoDLEzIC33QXA2qTkYBIzkeop2Yk09i19mg/54x/98Cj7NB/zxj/74FQXup2un7BctJucEqsULyNgdThQSAMjnpyKUanZkOVmBCOkbEAkbn27frncvPvSGTfZoP8AnjH/AN8Cj7NB/wA8Y/8AvgVm3fiOxtbO7uALiVbVSzBLeT5sHB2nbhsHrgnHep21qxSaOJ3lVnC9YJAE3fdDnbhCfRsGgC39mg/54x/98Cj7NB/zxj/74FUJPEOnRzGIvOzhmQCO1lfcynDKuFO4jB4GTgZ6U99d05FhYzsyzRrIrpE7KqN0ZiBhAfVsdD6UAXPs0H/PGP8A74FH2aD/AJ4x/wDfAqK21C3u55obdnZoGKyHy2Cgg4I3EYJ9gas0AR/ZoP8AnjH/AN8Cj7NB/wA8Y/8AvgVJRQBH9mg/54x/98Cj7NB/zxj/AO+BUlFAEf2aD/njH/3wKPs0H/PGP/vgVJRQBH9mg/54x/8AfAo+zQf88Y/++BUlFAEf2aD/AJ4x/wDfAo+zQf8APGP/AL4FSUUAR/ZoP+eMf/fAo+zQf88Y/wDvgVJRQBH9mg/54x/98Cj7NB/zxj/74FSUUAR/ZoP+eMf/AHwKPs0H/PGP/vgVJRQBH9mg/wCeMf8A3wKPs0H/ADxj/wC+BUlFAEf2aD/njH/3wKPs0H/PGP8A74FSUUAR/ZoP+eMf/fAo+zQf88Y/++BUlFAEMaJHcyCNVUbFOAMd2opy/wDH1J/uL/NqKABv+PqP/cb+a1JUMjpHcxmRlUbGGScd1p32mD/ntH/32KAJKxR4atk1E6hF5SXv2oz+f5I3FSNrRk5yRjP0ODjitb7TB/z2j/77FH2mD/ntH/32KOtw8jCHhgIJ0keOW3McqxokJEq7wR98sR0JH3R798x22m6hqF48uos0YUW+1mhVMmOUuRtDtz0BOcegroftMH/PaP8A77FH2mD/AJ7R/wDfYoWgdDGl8OzTwm2lvU+yxrKLdVgIdC6suWbdhgAx4AHarLWN1a38l7YiG4kkt4bcxTSGIAIXO7cFbOd/THbrWh9pg/57R/8AfYo+0wf89o/++xQFzM+wamZnube4trKW4A+0ReWbhcjgMjZQg7cZyCOBx1yl1oc0/mxRXoW3uYliuRLFvkcAYyrbhgkcHIPrWp9pg/57R/8AfYo+0wf89o/++xQBlpotwl1H/pqfY4rlrlIvI+fLbsqX3YIy5IwoPTr3TSNBOl3CsZYZI4YzFDiEq4Xj7zFiDwB0C1q/aYP+e0f/AH2KPtMH/PaP/vsUBuSUVH9pg/57R/8AfYo+0wf89o/++xQBJRUf2mD/AJ7R/wDfYo+0wf8APaP/AL7FAElFR/aYP+e0f/fYo+0wf89o/wDvsUASUVH9pg/57R/99ij7TB/z2j/77FAElFR/aYP+e0f/AH2KPtMH/PaP/vsUASUVH9pg/wCe0f8A32KPtMH/AD2j/wC+xQBJRUf2mD/ntH/32KPtMH/PaP8A77FAElFR/aYP+e0f/fYo+0wf89o/++xQBJRUf2mD/ntH/wB9ij7TB/z2j/77FAElFR/aYP8AntH/AN9ij7TB/wA9o/8AvsUASUVH9pg/57R/99ij7TB/z2j/AO+xQBJRUf2mD/ntH/32KPtMH/PaP/vsUASUVH9pg/57R/8AfYo+0wf89o/++xQBJRUf2mD/AJ7R/wDfYo+0wf8APaP/AL7FAElFR/aYP+e0f/fYo+0wf89o/wDvsUASUVH9pg/57R/99ij7TB/z2j/77FAElFR/aYP+e0f/AH2KPtMH/PaP/vsUASUVH9pg/wCe0f8A32KPtMH/AD2j/wC+xQBJRUf2mD/ntH/32KPtMH/PaP8A77FAElFR/aYP+e0f/fYo+0wf89o/++xQBJRUf2mD/ntH/wB9ij7TB/z2j/77FAElRt/x9R/7jfzWj7TB/wA9o/8AvsVG1xD9pQ+bHjYwzuHqKALFFR/aYP8AntH/AN9ij7TB/wA9o/8AvsUAZJ0Ofc1ut5GNPe5Ny0XkEybjJ5hG/djBb/ZzjjPentoO4QD7TjyryW6/1fXesi7evbzOvt71p/aYP+e0f/fYo+0wf89o/wDvsUD5ne5gSeH7y10/7PY3aPEyQiWNofndkCrlW3YUEIMgg98HmrP9gym5/eXimzFxJOIRDh8yKwYF93TLkjAH41rfaYP+e0f/AH2KPtMH/PaP/vsUPV3YlorIzdI0V9NmLzSwTFYxFG0cBRgv+0SzZJwOmBx09HJpdwkssQvE+wSvI7QiH94S+Sw37sYyxP3c9Oa0PtMH/PaP/vsUfaYP+e0f/fYoeu4LTYxm8P3MyKbq/jeWCNUtXS32hNrq4Ljcdxyi5xt79M8Evh+4uEkkuL2J7prhZ1YW5EakR7Mbd+SMZ/izn8q2ftMH/PaP/vsUfaYP+e0f/fYo3BaFJNJ26DNpxkjVpo5FaSOLauXzkhcn17n8agu9EmuDLHFdpHb3Max3KNCWZgBj5W3DaSOOQa1PtMH/AD2j/wC+xR9pg/57R/8AfYoAhsbP7Eky79/mzvL0xjcc4qnb6I0E0LfaFMcN5LdIojwf3gfKk555kJzgcYGO9aX2mD/ntH/32KPtMH/PaP8A77FC0VkBgyeFmwPJuYSzB0l86AuGVpGcYAcYI3kc5B9K17mwE7WW19gtZhIBtzuwrLj2+9+lT/aYP+e0f/fYo+0wf89o/wDvsUAY6eHAt9I7SRPbNJJKIzCfMDPnPz7sfxH+EH3qnBpWoX8qpetJHHFbiJXkhVSMSIwBCu244TlhgcjA610n2mD/AJ7R/wDfYo+0wf8APaP/AL7FFgepmDRZvtChrtDZxzvcJEIfn3tuJy+7BGWJxtB6c+stjo/2KSxfz9/2Sy+y42Y38p83Xj7nT3q99pg/57R/99ij7TB/z2j/AO+xQtNv66A9d/66maujzC7XN0n2JLg3KwiE795JbBfdjG4k4257Zq3ZWItNNFoZN4+bLAY+8Sf61P8AaYP+e0f/AH2KPtMH/PaP/vsUraWDrcy7bQnhit1kulcwWL2YKxbcglcN948gKPr7dKgTwz5d1G6zwvFmJpVkgLMzIqqCp34H3B1Bx/Lb+0wf89o/++xR9pg/57R/99iqu73/AK/rUSSW39bf5FS+sbmW6jurC6jt5ljaJjLCZFKkg9Ay4II65x7VWl0S4e7d0vlEMssM0qtBl2eMr/EGAAIQcbf8K1PtMH/PaP8A77FH2mD/AJ7R/wDfYpbDMR/DckpvVe8SOK6hkj8uCEopLnO9xuIZh6gLnJz14nn0a5nklDXkQguij3SC3O52UKDsO/5QQoGCG+tan2mD/ntH/wB9ij7TB/z2j/77FAGfFo3lz28nn58m6muMbOvmBht69t/X2qk3hY4hVLiFkEEcEwmgL7wmeVw4AJBPUMOn47v2mD/ntH/32KPtMH/PaP8A77FAd/MisbP7Eky79/mzvL0xjcc4qzUf2mD/AJ7R/wDfYo+0wf8APaP/AL7FCVlYCSio/tMH/PaP/vsUfaYP+e0f/fYoAkoqP7TB/wA9o/8AvsUfaYP+e0f/AH2KAJKKj+0wf89o/wDvsUfaYP8AntH/AN9igCSio/tMH/PaP/vsUfaYP+e0f/fYoAkoqP7TB/z2j/77FH2mD/ntH/32KAJKKj+0wf8APaP/AL7FH2mD/ntH/wB9igCSio/tMH/PaP8A77FH2mD/AJ7R/wDfYoAkoqP7TB/z2j/77FH2mD/ntH/32KAJKKj+0wf89o/++xR9pg/57R/99igCSio/tMH/AD2j/wC+xR9pg/57R/8AfYoAkoqP7TB/z2j/AO+xR9pg/wCe0f8A32KABf8Aj6k/3F/m1FNjdJLmQxsrDYoyDnu1FADm/wCPqP8A3G/mtSVG3/H1H/uN/NakoAKKK5seIJ/7aktvtmnuUvBbixVD9oKnHz53npkt93GB+NG7sD0VzpKKx/8AhI4TD5i2dy26VoogTGplKkhiMuAACp+9jtjOafH4is5bdpUWU4VGC4GWLuUCjnGQwINAGrRWQuuY3IltPeTebMPLgRVKoj7STufHoOuT6DnEsWu2k8LTQ+Y8atCAwA+bzdu0jnp8wzQHWxpUViXHiHNhqUtnbuTZJJiSTaUZ0yCMK24cjuBntV2PVoZJ0hEcnmtO8JXAypUZLHn7pGMf7y0AXqKytT1n+zNQjWVN1t9jnuZCq5f92Y8Ac46Of0psviKGCKU3FpcQyxyInkO0YZt+dpB37QDg9SOmPSj+v0DY16Kzm1mGOOZpYJ42gtRdOjBchfm44OM/Kfb3qOXX4YnuQba4K28gh3/IBJIQCEXLDnDA5OB70AatFZMfiCKdEFtaXE07M6tboY96bcbiTv24+ZehP3hVvSrtr/Sba7cBWmjDkAEYz7HkUAW6KKKACiiigAooooAKKKKACiiigAooooAKKKKACiiigAooooAKKKKACiiigAooooAKKKKACiiigAooooAKKKKACiiigAooooAKKKKACo2/4+o/9xv5rUlRt/x9R/7jfzWgCSiiigAorNsb27m1e+tbtIVWFY3iEWScMXHJPU/KDwBjOOetWZrz7PZXNzcQvGluHYjIJZVGcjB70PQFrsWaKyIrrVbeH7ZqH2WS28ppHjgjZXhwu7G4sQ/p0X19qlutdtrSF5JEkISKKTA2jPmMVUZJAByO5A96Otg8zSorJbW5Bf2MB0+dY7qKSR3do/3O0jrhuRz1Ge2M03/hJLdLeSae1uoEWA3Me9VzNGMZZQGJ/iXhsHkcUAbFFZMWvq915Emn3kJEwhkZ/LKxswBXOHJOQR0z15xUX/CVWWyWRopxEkLzo/yHzkXqVAYkdR94DNAG3RVY3bLp5uXtJ1YLnyDtL/Thtv649cVl/wDCTRvslSJlhRZzOh2s6mNVbAKsVPDep/Ck3YNzdorGuPEsFqgaa0uVIj86RSY8xR5OGI385wThcnjp2qeXXIINTjs5opUEpwk5KbGO0twN27oDztx70wNKisT/AISImZXaxuI7b7LJc5dV3SKpTBXDHjDE4OD04rTgvI7meeOIMfIKqz/wklQ2B+BH50AWKKxNK8QteW8AurOaKeW2Nwm0LtmC4DbAGJ4LL97HWlHie2+yyStbzLIkywGEvFu3EZHzB9g49W9uuKANqiqN7eywaOb2KEqUUSPFKPmCAguOD125x1GfWq1xrq295MNnmwoUijEZAaSVlLkAsQoATB5I60Aa9FYDeJy1xCbaymnha3mkkRNnmRtG6qQSXC4GT0JzxjIqx/bqefIkUct0zMghihRVZt0e/qzAdOcnb6c0f1/X3C62NeisaTXxBcSefBIkYt4nWJlAlMjuy7eTt6gc5x3zirljqceoWkssSNG8TFHjkKkowGcEqSDwQeCetHS4+ti7RWFbeJla0t3ntZmc28E1xJEFEcQkHB5bOMg9MkVO/iGBPtzfZ7horFXMkq7CCV6qBu3A+mQAfXpTtZ2Dc1qKz7zWYrSYxeRPNLuRFSILli4YgDJA/hPXFNl1uKDUo7Oe3mjMpwkjFNrNtLYxu3dAecYz3qbgaVFY8PiW3lgEr2t1CrwrNCJAmZ1YgDaAx5yyjBx94VJLriwQK09hdRzvIUW3cxhmwM5Db9mMd93t14pgalFQWN5FqFlHc2+dkg6HqCDgg+4IIrMl1S9W6lmj8j7FDdJatGUPmMWKgsG3YGC/TB4B554Otg6XNqimF3FwsYiYoVJMmRhTkYGOvOT+VZb3ep3d1djTGtUjs38oxzxszTPtDEBgwCD5gM4b19qANeiqJ1WFTMrxyBoJooXGB96TbjHPT5xn8aoXXiYJpuoXVpYTzizD874wrlWwR97K4/2gD6ZoDpc3aKzJNcSKTbJZ3IRNgnk+QrbswBCt82SeRnaCBnrUT+IkFx5UWnXkxaWSGMp5YEjoTuUZcY4UnJwOOueKANiisWXxRZRRxSCKZo2hSeRxsHko3QsCwJ6HhQTx9Kv2eoLezXCRwTKkDmMyvt2swOCBg5/MCjrYC3RWOde3XluiW0sdtJI6/aZAuxwqMSVw2Ryv8QGR0pR4it1iZ7m2ubYeWJYhKFzMpIAK4Y45ZRhsH5hQBr0VjHxNbC33G2n87zxB9n3xbtxXcPm37On+17deKkn1+KCcxtZ3REaRvM4VAIQ5IBbLA9jnAPSgDVorJ/tW7i16206exZluEnkEyMuEVGULkFs8hhnHtx1wy811rDVLmGa1kltYIYpXliC/uwxcEtlhkfKPugnrR0uD0Nmis241uK21JLKS2n3SErG4KYkYKWwBu3djzjGe9MfxFZrCJEWWQNFHKoUKN3mEhVySADwevAA5NAGrRVTTtQi1K3aWJWQo5jkjcqWRh2JUkdCDwT1q3QAUUUUAFFFFAEa/8fUn+4v82ooX/j6k/wBxf5tRQAN/x9R/7jfzWpKjb/j6j/3G/mtSUAFQW1olqZjGWPnSmVtx6E46e3FT0UAZcmgW72cUEc00TQyvLHKAjMC5JYYZSpHzHqPTvzT/AOxLczWMrvK72QIUkgeZn+8AMHkZGMYNaNFAdLGW+hR7t9teXVrKXkYyRFCSHbcy/MpGM9OMj160w+G7VWQQT3EEC+Tm3jZdjGIgoSSC38IBwcECteijYDIm8OQXM1xJc3NxIZ4ZIBnYCiOQSAQuT0GNxOKBpVwNYvNQheGGWSNYod6mRRg/M5UFeSAowD/APpWvRQBkTaI+oKW1a5WSXyJbcNbReUoSTZnhi3PyDBzjnpVi40lJp55kuZ4JJ1jVim0jCbsDDKQc7jnOe3Sr9FHSwGIfC9t9lW3iu7qGP7ObeQRlB5qEk85XjBY424HOOnFWptEt5oLmMvIpuJxcbxtJRwFAIyCP4RwQeprRooAyhoYWODy7+6jnhLf6QgjDMGxlSNm3HC9FB4+ub1laR2FjDaQl2jhQIpc5Ygep71PRQAUUUUAFFFFABRRRQAUUUUAFFFFABRRRQAUUUUAFFFFABRRRQAUUUUAFFFFABRRRQAUUUUAFFFFABRRRQAUUUUAFFFFABRRRQAUUUUAFRt/x9R/7jfzWpKjb/j6j/wBxv5rQBJRRRQBXjs44r+e7Ut5k6IjAngBd2Mf99Gni2iEcsZUskpYursWznqOe3t0qiNYzbxnyMTvdG2MRf7pBO45x02At7jFRz+JLJLOaeDfL5QVtrRvGHUsF3KSvzDnquR09aTta7DYfFoSINk97d3UCoyRwzMu2MEbeoUM3Bxlifz5psOgiFJcajetLJHHEJWMeVVCSABs2/wARByDmpY9atp5IRA2N8xidZ0eJ1IQv91lz0GecDHOexjbxDaNEr2oklJliTDxvHlZHCh1LL8w5zkZB9afX1AW30C2tY7ZYpZR5DSHOE/eCQ5ZSNuACcfdA6VH/AMI3A9vJDPd3U6NAbaPeUzDGcZCkKM/dXlsngVcttWs7u6MEEjlwCRuidVcA4JViAGAyOhPWoZNat7e6uIrkMgikWNCitIZGZN+AqgnOAaL21C19CVtLgaaWUtJulnSdhkYDIAAOnT5RVNPDVssFxb/abj7PNE0KxYjAiVv7pC5PtuJqyddsBHC4klYTAlQlvIxXBwdwC5TB4O7GKnXULV2ULLktM0A+U8uoJI6einnpRsAmoWEepWLWszMqsVbcoBIKkMDggg8gcEEVS/4Ry2aOQS3FxI0okDuxUE70VDwFAHCjHFSjX7BrVblGuHic4UpaSsW4zkALkj36dqcdd08XCQ+ezM5QBlidkG/G3LAbRnIxkjNLcNhl3ocN1Oky3E0DrGInMaofMUEkA7lOOp5GDz9Kb/wj9v8Ab2ufPm2tN5zQ4TaW27eTt3EYPQn+lT/2xY/a2tzKwZSwLmJhHlRkjfjaSADkZzwfQ0+y1O11BnW2aTcgBKyQvGcHoQGAyDg8jjinuGxVttFFk6yrc3F20MDQwxXDKFVDtO3Krn+EDJyfrU2iab/ZWkQ2rHc6jLtnPJ7ZPUDoPYCr9FAGRJ4bs5bWG3d5ikNpJaLyOUfbknjk/IPbrkGnJoQSCVFv7rfKys0m2PoBjbt2bcY7Y/WtWigdytZWMNjp8VlFloo02Dfjkfhx+AGKpL4ctY9Kiso5Zl8mQyxzEqzq3I/iBB4O3kHj861qKBGdFosMewtNNI6wSQFm2jcHIJOAAM8dgB7VH/wj8KgNb3NxBMpQpMhUsu1NnQqQcr1yD+FatFH9f194GVLoFvOjedPcPIY0TzWZWYFGLhuRjOSeMY7YxVuysRZ2hgM0kxYktI4UE59lAA/AVaoo8gMqPw9aR2klusk2yS3itySwztjztPTrzzSXHh63u7maW7uJ5hJHJEEOwbFfqAwUNj0BJx+WNaih6u4LTYzItDjSVZZ7y6uZVkSQySlASVDAcKoGMMegH86b/YEH9oNdC4nAabzzEAgUvt25J27jwehP9K1aKVl/X9eQGWfD9qYLeLzJv9HthbRtuGQAVIbp94FFPp7UkuhCe3VZr+6knSQutw4jLDIxgKU2Yx22+/XmtWinuBUtbWa1kWMTF7aOEKoYDcz5OWOAO2OnHJ4qCTRYpb4zm4nETSrM9sCvlvIuMMeN38KnAIGQOOudKigCMwobhZju3qpQfOcYJBPHQngc9ao3WjLcXEskV7dWqXH+vigKhZeMZJKkqcADKkH8ea0qKAMybQoZbxphc3EaM8cjwIV2M0ZBUnK7v4QMZxxUcnhy3nmuJbm5uJmngeD5tg2IxBIBCgnGBjdnGPc516KAMuXQ0ml3PeXJR9hniGwLcMuMM3y5B4GdpAOOlSx6RbxzQyK8mYbiS4XJHLSBgQeOnzHFX6KA3Mc+G7cNAYbmeLyokiYKIz5qp0yWUkHk8rjr9MaNraR2ayiIsRLK0rbj0LHJ/Cp6KOtwMqPQIUuEZrq5khiZ2itnK+Wm4MCOFyR8x6k47U0eHYGidLm6ubn92IojKUzCoIYbcKMnKqctk/KK16KAMsaHixNv9vucs+5pNkWWGMbSuzZj/gNJH4es4rSS3R5hHJBFAfmGQseduOOvP/6q1aKBWK01ik2oW155jpLbq6DbjDK2Mqcg8ZVTxg8VDd6Rb3n2zzXkH2yBYJNpHCruwRx1+Y1fooG9TLXQYV1I3i3E4zP9oMQCbS+3bknbuPHYn+lJ/wAI7aLaXECPKvnT+eHyC0bZ425BGB6EEda1aKAK9jZixtRD5rzHJJeQKCSfZQAPwFWKKKACiiigAooooAjX/j6k/wBxf5tRQv8Ax9Sf7i/zaigAb/j6j/3G/mtSVDI6R3MZkZVGxhknHdad9pg/57R/99igCSio/tMH/PaP/vsUfaYP+e0f/fYoAkoqP7TB/wA9o/8AvsUfaYP+e0f/AH2KAJKKj+0wf89o/wDvsUfaYP8AntH/AN9igCSio/tMH/PaP/vsUfaYP+e0f/fYoAkoqP7TB/z2j/77FH2mD/ntH/32KAJKKj+0wf8APaP/AL7FH2mD/ntH/wB9igCSio/tMH/PaP8A77FH2mD/AJ7R/wDfYoAkoqP7TB/z2j/77FH2mD/ntH/32KAJKKj+0wf89o/++xR9pg/57R/99igCSio/tMH/AD2j/wC+xR9pg/57R/8AfYoAkoqP7TB/z2j/AO+xR9pg/wCe0f8A32KAJKKj+0wf89o/++xR9pg/57R/99igCSio/tMH/PaP/vsUfaYP+e0f/fYoAkoqP7TB/wA9o/8AvsUfaYP+e0f/AH2KAJKKj+0wf89o/wDvsUfaYP8AntH/AN9igCSio/tMH/PaP/vsUfaYP+e0f/fYoAkoqP7TB/z2j/77FH2mD/ntH/32KAJKKj+0wf8APaP/AL7FH2mD/ntH/wB9igCSio/tMH/PaP8A77FH2mD/AJ7R/wDfYoAkoqP7TB/z2j/77FH2mD/ntH/32KAJKKj+0wf89o/++xR9pg/57R/99igCSio/tMH/AD2j/wC+xR9pg/57R/8AfYoAkoqP7TB/z2j/AO+xR9pg/wCe0f8A32KAJKKj+0wf89o/++xR9pg/57R/99igCSio/tMH/PaP/vsUfaYP+e0f/fYoAkoqP7TB/wA9o/8AvsUfaYP+e0f/AH2KAJKjb/j6j/3G/mtH2mD/AJ7R/wDfYqNriH7Sh82PGxhncPUUAWKKj+0wf89o/wDvsUfaYP8AntH/AN9igCidGRtalvmlJjkjK+Rt4DkBS+fUqFH4H1qhB4XaO3aGS5hYKiRxOluQ4VWVvmJc5J2jptHfHpu/aYP+e0f/AH2KPtMH/PaP/vsUWAzZtCWfUHuJJ/lefzWQJ28kxYzn3zn8PemjSL2S2jgvNQjkjhkhaMR2+ziNw3zfMck4xkYHtWp9pg/57R/99ij7TB/z2j/77FAbmVpWgHTbpXMsMkUKFIQISJFBx1YsQeBjgCppNH36n9r8/H+kJPs2f3YymM5985q/9pg/57R/99ij7TB/z2j/AO+xRYDDn8Myvb+VBexxP5s8gn8g+ZH5shf5GDAqRnHcHAJHarKaLOmopKL1fsyXTXIh8n5yzIykF93TLE8AVp/aYP8AntH/AN9ij7TB/wA9o/8AvsUeY277mPJ4flOn2NrHeIUtYjE6yxFkkzj5toYcjHGcjk06Lw95Vi9t9qzu+z/N5fTygvbPfZ+Ge9a32mD/AJ7R/wDfYo+0wf8APaP/AL7FAutzN/sacrcWrXi/2fOZS0Kw4kPmZJBfdjGWJGFB6c+rtJ0mTT5JJJ5YJXZVRWigMZ2jPXLNnr2wPatD7TB/z2j/AO+xR9pg/wCe0f8A32KA3JKKj+0wf89o/wDvsUfaYP8AntH/AN9igCSio/tMH/PaP/vsUfaYP+e0f/fYoAkoqP7TB/z2j/77FH2mD/ntH/32KAJKKj+0wf8APaP/AL7FH2mD/ntH/wB9igCSio/tMH/PaP8A77FH2mD/AJ7R/wDfYoAkoqP7TB/z2j/77FH2mD/ntH/32KAJKKj+0wf89o/++xR9pg/57R/99igCSio/tMH/AD2j/wC+xR9pg/57R/8AfYoAkoqP7TB/z2j/AO+xR9pg/wCe0f8A32KAJKKj+0wf89o/++xR9pg/57R/99igCSio/tMH/PaP/vsUfaYP+e0f/fYoAkoqP7TB/wA9o/8AvsUfaYP+e0f/AH2KAJKKj+0wf89o/wDvsUfaYP8AntH/AN9igCSio/tMH/PaP/vsUfaYP+e0f/fYoAkoqP7TB/z2j/77FH2mD/ntH/32KAJKKj+0wf8APaP/AL7FH2mD/ntH/wB9igCSio/tMH/PaP8A77FH2mD/AJ7R/wDfYoAkoqP7TB/z2j/77FH2mD/ntH/32KAJKKj+0wf89o/++xR9pg/57R/99igCSio/tMH/AD2j/wC+xR9pg/57R/8AfYoAF/4+pP8AcX+bUU2N0kuZDGysNijIOe7UUAOb/j6j/wBxv5rUlRt/x9R/7jfzWpKACiish9WnRZYNkf2wXgt41wdrK3zBsZ7Jkn3U0Aa9Fc/c+KoRY3UlrC4dLaSe3eTaUmCDsFbcOo6gEirLa6DlHgmtJknhjeOZFYlZGwCNr4APPOcjHSgHpua9FYs2vubFri2sp0Q7GhmmUeXKpdVyNrZHDZAbB/I1NHr9tJqS2gjlAeVoUmJTYzrnK43bh91uSoHHXpk62A1KKpateS2ens9qIzcyMsUAkztLscDOOcDqfYGoI9bD2NnIlrLcXFypPkQFcqV4fJZgMKTjrQBqUViy+KbOKBJhDcOpi8+TARTEmSMsGYE/dbhcnjpWyCGUFTkEZBoAWiiigAooooAKKKKACiiigAooooAKKKKACiiigAooooAKKKKACiiigAooooAKKKKACiiigAooooAKKKKACiiigAooooAKKKKACiiigAooooAKKKKACo2/4+o/9xv5rUlRt/x9R/7jfzWgCSiiigAorJTV5G8RNZlYxacxLJzuMwUOV9MbT+amhfEVvw8tvcQ27RvLHcOqlJEUZLDDEjjkZAJo6XA1qKz9N1iLUZpYRDLBLEquUlKElWzggozDseM546Uxdcje4Ea2txskZ44ZjsCzOoJKr82QflbkgA469KHoBp0Vz9tr11/wgra9cWjNN9lN0IBtXI27gM7jxjvnOO2eKfL4iktryZbmwnFvFbxTSFdhaDcXBL/PggbR93J607NA9Fdm7RWW2v2yal9kMcmPNEJnymwSHouN27uBnbjPepLrUvsN9It1tW2Fs06OAc5Q/OD+BUj8aXS4dbGhRWJH4iWJoYb+FhN+7S4eMrshkcDC4Lbj95eQCOe3OI7bxG8lpIbm1khfFx5cwVTG/lswwBv3ZwM84B5waHorsN3Y36KzYNYE8yxx2lzKmVWS4RF8tHKg4I3bu45AIGevBqjD4qiSxt5buJmdoEmuGi2hIQ3chmBPQ8LuPH0p2Dpc6CiiikAUUUUAFFFFABRRRQAUUUUAFFFFABRRRQAUUUUAFFFFABRRRQAUUUUAFFFFABRRRQAUUUUAFFFFABRRRQAUUUUAFFFFABRRRQAUUUUARr/x9Sf7i/zaihf+PqT/AHF/m1FAA3/H1H/uN/NakqGRitzGQjP8jcDHqvrTvNf/AJ4Sfmv+NAElU30uB9YTUiX85IvL25+U9cMR6gFhn0Y1Y81/+eEn5r/jR5r/APPCT81/xoAyk8NWywXFv9puPs80TQrFiMCJW/ukLk+24mrM+jW9xdPO7yBnaFiARj90xZe3cnn+lXPNf/nhJ+a/40ea/wDzwk/Nf8aBNJ7mamgRi3Nu97dvbgKsUJZQsShgwAwoJ+6BlsnH1NOTRFgvJLm0uXjLM7rE8aNGrtnLHADkZJON2Oa0PNf/AJ4Sfmv+NHmv/wA8JPzX/GgZnPo76gY/7ee1vo4m3xxJbbEJwRlgzNnAJx0xn8oJ9C+yRx/2MrQbJXdRFIsflKwG5VBRl2kgEgjrkg9q2PNf/nhJ+a/40ea//PCT81/xoAxoPDSiztRLcSQzxwiKUw7XDgEnGXUngseRg81ujgcVH5r/APPCT81/xo81/wDnhJ+a/wCNAElFR+a//PCT81/xo81/+eEn5r/jQBJRUfmv/wA8JPzX/GjzX/54Sfmv+NAElFR+a/8Azwk/Nf8AGjzX/wCeEn5r/jQBJRUfmv8A88JPzX/GjzX/AOeEn5r/AI0ASUVH5r/88JPzX/GjzX/54Sfmv+NAElFR+a//ADwk/Nf8aPNf/nhJ+a/40ASUVH5r/wDPCT81/wAaPNf/AJ4Sfmv+NAElFR+a/wDzwk/Nf8aPNf8A54Sfmv8AjQBJRUfmv/zwk/Nf8aPNf/nhJ+a/40ASUVH5r/8APCT81/xo81/+eEn5r/jQBJRUfmv/AM8JPzX/ABo81/8AnhJ+a/40ASUVH5r/APPCT81/xo81/wDnhJ+a/wCNAElFR+a//PCT81/xo81/+eEn5r/jQBJRUfmv/wA8JPzX/GjzX/54Sfmv+NAElFR+a/8Azwk/Nf8AGjzX/wCeEn5r/jQBJRUfmv8A88JPzX/GjzX/AOeEn5r/AI0ASUVH5r/88JPzX/GjzX/54Sfmv+NAElFR+a//ADwk/Nf8aPNf/nhJ+a/40ASUVH5r/wDPCT81/wAaPNf/AJ4Sfmv+NAElFR+a/wDzwk/Nf8aPNf8A54Sfmv8AjQBJRUfmv/zwk/Nf8aPNf/nhJ+a/40ASVG3/AB9R/wC4381o81/+eEn5r/jUbSN9pQ+TJ9xuMr6j3oAsUVH5r/8APCT81/xo81/+eEn5r/jQBmr4a0xJEmWBRdLN5/2sIvnM27cctjockY9DiqdvoE73Qju/+PGOKWJYTPvCo+BtXCKcY/vEkdBxW95r/wDPCT81/wAaPNf/AJ4Sfmv+NHkBW07TBp3mf6TNcF8DMqou0Dt8ir69Tk1FDokUV4kxuJ3jidpIbdiuyJ2zkjC7v4m6kgZPti95r/8APCT81/xo81/+eEn5r/jQBVj0i2j0BdHO97Vbb7Mdx+Ypt28kd8VHJocM8FzHPcTyG6t0t5ZCVDELuweFAB+Y9se1XvNf/nhJ+a/40ea//PCT81/xp3d7g9dyiNFiXVDeRzzIGfzGgCpsZsYznbuHrgNj9am1HTINTWAXBceTKJV2HG7H8J9VIOCKsea//PCT81/xo81/+eEn5r/jSAoyaLE+pm8SeWIs6vJEqoVkYAAEkqWHAA4I6fWkOg2ptkgMk21DNg5Gf3u7d2/2jj+tX/Nf/nhJ+a/40ea//PCT81/xpNJqzDrcpRaMsF0JIby6jiyGa3VlCOwAGSdu7sMgEA46darjw1bR+R5FzcRCKNImAEZ81VzjJKkjqeVx1+lavmv/AM8JPzX/ABo81/8AnhJ+a/41QElFR+a//PCT81/xo81/+eEn5r/jSAkoqPzX/wCeEn5r/jR5r/8APCT81/xoAkoqPzX/AOeEn5r/AI0ea/8Azwk/Nf8AGgCSio/Nf/nhJ+a/40ea/wDzwk/Nf8aAJKKj81/+eEn5r/jR5r/88JPzX/GgCSio/Nf/AJ4Sfmv+NHmv/wA8JPzX/GgCSio/Nf8A54Sfmv8AjR5r/wDPCT81/wAaAJKKj81/+eEn5r/jR5r/APPCT81/xoAkoqPzX/54Sfmv+NHmv/zwk/Nf8aAJKKj81/8AnhJ+a/40ea//ADwk/Nf8aAJKKj81/wDnhJ+a/wCNHmv/AM8JPzX/ABoAkoqPzX/54Sfmv+NHmv8A88JPzX/GgCSio/Nf/nhJ+a/40ea//PCT81/xoAkoqPzX/wCeEn5r/jR5r/8APCT81/xoAkoqPzX/AOeEn5r/AI0ea/8Azwk/Nf8AGgCSio/Nf/nhJ+a/40ea/wDzwk/Nf8aAJKKj81/+eEn5r/jR5r/88JPzX/GgCSio/Nf/AJ4Sfmv+NHmv/wA8JPzX/GgCSio/Nf8A54Sfmv8AjR5r/wDPCT81/wAaAJKKj81/+eEn5r/jR5r/APPCT81/xoAF/wCPqT/cX+bUU2Ni1zISjJ8i8HHq3pRQA5v+PqP/AHG/mtSVG3/H1H/uN/NakoAKKK5+W4nW+k0cTSebLdLKjhzuWA5duevVWT2BWgOh0FFcjc65qdxot3PsEUUtlLLEyIY2hYDgbtx3HnqAMEVcn1K9hme1vDDLJFcWpDwq8QKyPjBG8kkbT3wc8igUnyrU6Kiuan1K/m0VbqS4tkS5SOWKOEMksYMiZBO47uGwSAuPTnixa6vf3GqhRCv2RriS3K+UQybNw3by2Dkr93aOD145Oth9Lm7RWTrcfn3el27Szxxy3LB/JneIsBE5xlSDjIB/CqaX9xbRz2llc+ay3hgt2mjadiojDMudwyQcjczDGOSTQB0VFctJ4i1JtPa6hW1TybJLqRHjZt5LMCoIb5fu8H5se9W31TUYxLatLbNeLc+VG0dq7Bx5Yf7m/g84yXA4/CjzDrY3qK5ltfv5dNa5hNpA0Fj9rlEyFhIfmGFIb5R8nX5vvD8Zk1rUJdS2xQobeOdIZF8o7juVSW37sDG7O3acgdeeBa7A9DoKKKKACiiigAooooAKKKKACiiigAooooAKKKKACiiigAooooAKKKKACiiigAooooAKKKKACiiigAooooAKKKKACiiigAooooAKKKKACiiigAqNv+PqP/cb+a1JUbf8fUf+4381oAkooooAKKyNOEsXiLU4pLmadfLhkAlfIUkyZwOgGABwO3OTzVmS5lXTb2W3kjupYfM2Ki4wwHCHk5IPFJ6BHUvUVzyCLT7CLULbUZ555bd5AJp2lS4IQtkKTheeflAHb0qafWLthJHZJDJMLa3lVepBkZgeCwzwuQMjPrT6tdg6X/r+tTbornY9Sv57/T2juomhMVx9ojFqyl2jZRgAtlT14579eKjl1/ULWxNxL9lmM1g95CI0ZRHt2/Kx3HdneORt+6eKFroD0V2dNRWAmparHfvHcSWckcF1HBJsgZWcOoIIJc7cbvfOO1VR4i1P7BNem3iMRtZJ4laIp5ZXBCsdx39ecAYxQB1NFZ95dXVjpHmyPDJcFkTeIysYLOFDFdxOBnJ55x2rPXVNSa8fT/NsjcC5EInETbAPK8w5TfnPbG7pz7UAdBRXOWmpaje65py+bFHA0N0J4xESJGilRNyndwDkkdeCevUGp39/ZapqVxbTRmC1tIZXhlRm3fNJkLhgFJA64PbjinYHors6Oiucl1S+hhla1EaqlzP5sjI85RVPXZvDY5/hzj+7zSand3E7PPY3GwJLaQowJ27nkVmyARkFWTj0yKmL5kmutvxB6HSUVzra1qKj7KBC12t08BmS3ZkICB8iPfnOGx97sT7VY07UtQvdQjhlSGBVt1lmUoSzEs68ENhR8oPOfSn/AF+or/187G1RWRdapcQaqLBVjMs0kZgJU8x8mTPPJARv++l/HIudc1O40W7n2CKKWylliZEMbQsBwN247jz1AGCKCjrqK52fUr2GZ7W8MMskVxakPCrxArI+MEbySRtPfBzyKZPqV/Noq3UlxbIlykcsUcIZJYwZEyCdx3cNgkBcenPA9Ff+u5KaZ0tFYVrq9/caqFEK/ZGuJLcr5RDJs3DdvLYOSv3do4PXjlmvahepBqaWc0ECWlp5jl1bexYNjawYbcbeuDk+mKB9bHQUVhy6xdJrUcMRjktDOLdx5LAqxTd98sAT7BT9fSgNd1lrRJ1exG+wa9Cm3fgJjKZ39933u2OhoWu39dfyD+v0/M6uisKXWbpdZjji8uS0M4gceSwZWKbvvlgCfYKfr6VT4ivoLaK7m+yyx3FnLdJDGrK8e3bhSdx3fe5OB06UAdPRXPpquqBhbTLAs0syRxXDwMiDcrMcx7yT9zA+YZ3D0q1pc88mnXrXMqyyRzyoWQkL8vHHOR9M8etJu1/67f5j7f1/WxrUVytnrt/9hhn/ANHFvG9pE8ZR2d/OWMZDl+MGTPIOQPXmta8lvV8R6fFBPGls8UrSxtEWLEFMYO4Y6+h71TViVqrmpRXJWWuahYaXbteNHdrJp0lzH8rBwYyg+dix3Z35zgYx3ra0i7vp5J4tQRcxhWSRIjFuBzxtLMeMdc859qLDehp0Vzlrr12Le3u7+S0+z3McrYijYGHYCSWO45HHOAMEgc0R6xqzR3UXlQyXMYheM+R5eVdmB/dtJkkBScblJ9PWU7oDo6K5+w1G+vdcs9t5C9q1rMZkW2ZC0iSBD95sqQeMHPQ9cgi9rcjCwiVJWjSaeKJ5I32kKzAHDDkZ6ZHPPFPt5/52FfV+X+VzSorM0cmNr+2EskkVvcbImldnYDy0YgsxJOCx6n27VHqF7KnhlbmC6SQuIg11EAqhGZQ0gzkDCkt36UDNeisK4KaEkrWV3LI2xGMFzO82AXC78sxI4J4zjv2NOvNVvfMuYrBYWaG6EJbZ5hRfKVydm9Sxy3QHODnBpXA26K5hdZvvt13dR3EE1mumwTxx+Syje7SDduJyB8oJBHTHTBzYl1TUoLo2DvaSXBliQTrCwQB1c8pvJyNn97kEdKb03B6f15XN+iubi13UYbd7m8FtNGsVyfLhiZG3QttzkseGwTjHHqaDrOrRxMkiW/mPJAkUzQMijzH2nKbyTjrnIznHGKN3YHors6Sis+/ubuH7HbW8kC3Fy5QyyRlkGELHChgTnHA3fnisSDV7i3jE0jLNII7xtxkbZlbgKOM42jPoSAMA9cgHV0VzTX+qW2rS2zXNrLM7QRBhGwjTcJTnZvJB+Ufxc47UX93qMnhi/wBQhulhu7KC6j/dxnY7qeHCluD8nAJON3fuLXb+v6uNK7S7/wBfodLRUdv5oto/tDq8u0bmRCoJ9gScfmakoJTurhRRRQMjX/j6k/3F/m1FC/8AH1J/uL/NqKABv+PqP/cb+a1JUbf8fUf+4381qSgAphgiNwJzEhmVSgk2jcFJBIz1xkDj2p9FAFRdJ05JZ5EsLVXuARMwhXMoPUMcc/jUzWtu8hd4I2clSWKAklTlfyPI9KlooAqppWnxSTPHY2yPOQZWWFQZCDnJ4555pH0qwe5kuTaRLcyKVa4RdkuCMffGGHHvVuigDO/sHTmhMVzbm8j3Bgt7K9wFIBGR5hbHU9Knk0ywltI7WWyt3t48bIWiUon0GMCrVFAEH2C0EZjFrDsZPLK+WMFeflx6cnj3pLjTrK7RlurSCZWbewkjDAtjGee+OM+lWKKAMrUdAttQSOMlYY40KIiQxnZnqUJUlT2yKt/2ZYm7jujZwNcxrtScxguoxjhutWqKACiiigAooooAKKKKACiiigAooooAKKKKACiiigAooooAKKKKACiiigAooooAKKKKACiiigAooooAKKKKACiiigAooooAKKKKACiiigAooooAKjb/AI+o/wDcb+a1JUbf8fUf+4381oAkooooAaIo1laVUUSOAGcDlgM4BPtk/nTqxRr0yyxSS2aLZzSyRpKJsvhFcklNvGdhxgnr26VTl8TXr6bcS21lCsyxLNETMxTaWAIY7BhuegyOvPFAbG5b6ZYWtxLPa2NtDNNnzJI4lVnycnJA55pqaPpkdvJBHp1okMmN8awKFbByMjHPPNV9Vu722gsTbJH58twkbxl/lOVYkbtucZHXGfaqi67M0m42shljguS9vC+9WeJ1XA+Tcc54Ix/uk9EtdP62uBrrp9mkcKJaQKlu26FRGAIz6r6Hk9PWmR6Vp8InENhbRi4/1wWFR5n+9xz1PWqMeqy3ttbKhhimluhE3kS+YFCjewJKqQdoIwQCM1VsPENzFYRy6rApRrWW4WaOTLOI8Zym0BevGCfwp3swtfQ3zbwFmYwx7mYOx2jJYdD9Rgc+1QLpOnJLPIlhaq9wCJmEK5lB6hjjn8ayh4kuPKcNYRmbzIUjCTsY28xtoy5QYIPUAHgjrWpdXxsxam4jVUlfZI4fiI7SR25GRjt1FG2odbE11bi6tJIC5QSLtJCq3H0YEH8RVG18P2MFnLbTQRXEMrh2ikhQRjAAAVAMADFUpPFEihCliD+5SaRDK28KxOAqhDubAzgleuMmpLTV7wXxjuYY3tpL2W3jmEmHUgMQNm3GMLjO7PtS62/rT/hw6XNb7FagQAW0OLf/AFI8sfuuMfL6cccU6S1t5fM82CN/NUJJuQHeozgH1HJ496x9N1i8vLe3+y2n2hVijaeSacK43c8AJhiByfuioF8RXENuE8pLmcyTsfMcxgIkrKoG1GycDHQdOTTCxtT6XYXShbmxtplDFwJIlYbj1PI6n1p62duqsvlKwaTzSGGfmGMHn0wMemBVe51Jks7WS2g8ya7ZVhilYx8lS3zHBIwAex9Kzv7dvILVzJBA9z9olQQvORhU/u7ULN1H8I6846UbO39dA3t/Xc159OsrqF4rmzgmjkfe6SRBgzdNxBHJ4HPtUkVrBBt8iCOLagjGxAMKOi8dhnpWLL4km4e1sVkiEVvIxkn2MPOJCgDac4PXkfj0qSTXbmK2w1pbC7WZomhN02DtAOVIjLNwRxt/+uPQSs1dGw0ETTpO0SGVFKpIVG5QcZAPYHA/IVXXSdOSWeRLC1V7gETMIVzKD1DHHP41mSeI5jZNeWlissEVsk8vmT7GG5dwUDaQeOuSPxp6+It2pGEWwNsJXhMquxcMuckptwFypGd2enFD03HuazWtu8hd4I2clSWKAklTlfyPI9KiTStPikmeOxtkecgyssKgyEHOTxzzzVCx1O+utUtVnt0t7e4tZJkVJd5YZj27vlGCAx4GRz1NNm1i4i1WWztoPtEr3AijEswRF/ciQ8hCQOD68+3QsLQ0l06yW+N6tnALthgziIbyOn3sZoudNsb2VJbyyt7iSMEI8sSsVB6gEis++1i5HhGbVLKGMXCRFxHI52qwOCMgc4we3PtUE+sajaandebbwyW8EEDyqJseWWLhtnyfP0HXb096YcyNc6bYm8+1mztzc/8APbyl3/njNO+xWoQILaHaIzEF8sYCHqv0OBxWZb+IDcaqLZLYGBpngEiuxcMucll24C5UjO49uOeH6hrNxaXd1HBZJNFZwLcTO0+w7TuyFG05ICHqQOetIrrYvf2bY/bPtf2O3+0/89vKXf6dcZ7VUtNBt7W/e7LeY7hww8qNN+4jJbao3HjGT2/Oozrx/tmO0WGKSGSTyvNSUs6Ns3fMoXC9O7Z9qpz+Ir5rGd7e0to7iOWICGa4YOFaQL86lMqfpkdcE45BGumjaZHZyWkenWiW0p3PCsChGPqRjB6D8qsQ2tvbQeTbwRxRf8840Cr+QqRdxUbwA2OQDkA/WloAgFjaLH5a2sITKttEYxlcbTj22jHpgelPlt4Z3jeaGORom3Rs6glD0yPQ1JRQBCtnbLs228Q8tDGmEHyqcZUegOBx7Cm2dhZ6fG0dhawWqMdzLDGEBPrgVYooAz9P0TT9Njxb2sXmMmx5jGu+QejEDmnpo2mR27wR6daLDJjfGIFCtjkZGOcdqu0UbKwFddPskWEJaQKIARCBEB5YPB28cZ9qd9jtvsX2P7PF9l2eX5GwbNuMbdvTGO1TUUARW1tBZ26wWkMcES/djiQKo/AVIyhlKsAVIwQR1paKAKkGk6da28sFrYWsMM3EkccKqr8Y5AGDxSHR9MNr9mOnWnkbt3leQu3OMZxjGccVcooAg+w2hZWNrDuSMxKfLGVQ9VHoPbpTbfTbG0iWK1sreCNX8xUjiVQG6bsAdferNFAES20CY2QxrjcRhAMbjlvzPJ9aht9K0+1Qpa2FtCrOJCscKqCw6NwOo9at0UAQ3VnbX0BgvbeK4iJBMcqBlyOnBpFsbRFCpawqoVkAEYACscsPoTyR3qeigCrb6Xp9oira2NtCqkMojhVQCM4PA9z+ZqdYIljdFiQI5JZQowxPXI75p9FADIYYreFIbeNIokG1ERQqqPQAdKfRRQAUUUUARr/x9Sf7i/zaihf+PqT/AHF/m1FAA3/H1H/uN/NakqGRitzGQjP8jcDHqvrTvNf/AJ4Sfmv+NAElFR+a/wDzwk/Nf8aPNf8A54Sfmv8AjQBJRUfmv/zwk/Nf8aPNf/nhJ+a/40ASUVH5r/8APCT81/xo81/+eEn5r/jQBJRUfmv/AM8JPzX/ABo81/8AnhJ+a/40ASUVH5r/APPCT81/xo81/wDnhJ+a/wCNAElFR+a//PCT81/xo81/+eEn5r/jQBJRUfmv/wA8JPzX/GjzX/54Sfmv+NAElFR+a/8Azwk/Nf8AGjzX/wCeEn5r/jQBJRUfmv8A88JPzX/GjzX/AOeEn5r/AI0ASUVH5r/88JPzX/GjzX/54Sfmv+NAElFR+a//ADwk/Nf8aPNf/nhJ+a/40ASUVH5r/wDPCT81/wAaPNf/AJ4Sfmv+NAElFR+a/wDzwk/Nf8aPNf8A54Sfmv8AjQBJRUfmv/zwk/Nf8aPNf/nhJ+a/40ASUVH5r/8APCT81/xo81/+eEn5r/jQBJRUfmv/AM8JPzX/ABo81/8AnhJ+a/40ASUVH5r/APPCT81/xo81/wDnhJ+a/wCNAElFR+a//PCT81/xo81/+eEn5r/jQBJRUfmv/wA8JPzX/GjzX/54Sfmv+NAElFR+a/8Azwk/Nf8AGjzX/wCeEn5r/jQBJRUfmv8A88JPzX/GjzX/AOeEn5r/AI0ASUVH5r/88JPzX/GjzX/54Sfmv+NAElFR+a//ADwk/Nf8aPNf/nhJ+a/40ASUVH5r/wDPCT81/wAaPNf/AJ4Sfmv+NAElFR+a/wDzwk/Nf8aPNf8A54Sfmv8AjQBJRUfmv/zwk/Nf8aPNf/nhJ+a/40ASVG3/AB9R/wC4381o81/+eEn5r/jUbSN9pQ+TJ9xuMr6j3oAsUVH5r/8APCT81/xo81/+eEn5r/jQBkx6AV1hbt3jEaSvKI0D4JZWHQsVX7xJKgbjyatRaHYRQTQqkrRTJ5bI9xI4VfRcsdo/3cdvQVc81/8AnhJ+a/40ea//ADwk/Nf8aAGvZwyJAsis4gYPGWckggYBJzk9e9QHR7Elz5JBcSAkSMD+8YM3OeMkA5HTtirPmv8A88JPzX/GjzX/AOeEn5r/AI0AVbbR7W0uRNB5m75ixeQuXZgo3EsSSQEAHPA4p66VZLHEggBSKN4kUkkBWxuHJ5zgdan81/8AnhJ+a/40ea//ADwk/Nf8aAKkWi2UKbQs0g8xJB51xJIQUOVwWY4APbpVi9srfUbOS1vIxLDJjchJGcHPUe4p/mv/AM8JPzX/ABo81/8AnhJ+a/40AVrnSbS6uFnlWQOoC/u5njDgHIDBSAw5PBz1PrUg061BUiLlZzcD5jxIQQT19zx0qXzX/wCeEn5r/jR5r/8APCT81/xoApf2Dp2YdsUiiFVRVWZwrKpyAwBw+P8AazSy6HYSxquyWPazsDDcSRt87bmBKsCQTzjpVzzX/wCeEn5r/jR5r/8APCT81/xoAjurC3vLYQTq2xSCpR2RkI6EMpBB+hqr/YGn+WiLHKuwsdy3EgZt2N2WDZbJAJznJq95r/8APCT81/xo81/+eEn5r/jQBWXR7BYyiwYUpEmN7dIzlB17H8+9JPo9lcSeY6SLJuZt8czoTuABGVI4O0cdOBVrzX/54Sfmv+NHmv8A88JPzX/GjcS00Ri3/hpLlVhtmjgtxAsGMOWCr0zhwr4B43A7TzzWkNJtFvjdqsgkJLFfOfyySME+Xnbn3xVjzX/54Sfmv+NHmv8A88JPzX/GgZUs9FsbCcTW0cgdUMab5ncIpIJVQxIUfKOBwMVL/Ztp9s+1eV+/8zzN24/e2bM4zj7vFTea/wDzwk/Nf8aPNf8A54Sfmv8AjQBF/Z9r/Z72Plf6M6srJuPIbOeevc0w6VZskqvGz+dGkchaRiWVM7cknPc89T3qx5r/APPCT81/xo81/wDnhJ+a/wCNAFePSrSK+N3GsqyFi23zn8vcep2Z25PrjuarXOgW15qs15dl3WSKOIxLI6AhSxw20gODu6EY4960fNf/AJ4Sfmv+NHmv/wA8JPzX/GgCr/Y1l9tF15cnmCTzQPOfYHxjcEztBx7dz60xdB09Y5U8uVhKoQ77iRiqg5AUlsrg8/LjoPQVd81/+eEn5r/jR5r/APPCT81/xoASG3SBpDGZCZCC2+Rn5AA4yTjgDp9epNS1H5r/APPCT81/xo81/wDnhJ+a/wCNAElFR+a//PCT81/xo81/+eEn5r/jQBJRUfmv/wA8JPzX/GjzX/54Sfmv+NAElFR+a/8Azwk/Nf8AGjzX/wCeEn5r/jQBJRUfmv8A88JPzX/GjzX/AOeEn5r/AI0ASUVH5r/88JPzX/GjzX/54Sfmv+NAElFR+a//ADwk/Nf8aPNf/nhJ+a/40ASUVH5r/wDPCT81/wAaPNf/AJ4Sfmv+NAElFR+a/wDzwk/Nf8aPNf8A54Sfmv8AjQBJRUfmv/zwk/Nf8aPNf/nhJ+a/40ASUVH5r/8APCT81/xo81/+eEn5r/jQBJRUfmv/AM8JPzX/ABo81/8AnhJ+a/40ASUVH5r/APPCT81/xo81/wDnhJ+a/wCNAAv/AB9Sf7i/zaimxsWuZCUZPkXg49W9KKAHN/x9R/7jfzWpKjb/AI+o/wDcb+a1JQAUUVzE+suniwMGuhaxSrZsBC/kksMly2NuQ5ReTx83rR1sHS509Fc8Navkuo2k+zm3mu57VY1jYOCgkYMW3Y6R4xjvnPaoote1FLSGW5Fq5uIILhBHGyiMO6qynLHdw3B46dKP6/r7gejs/wCtbfmdNRWJdavc+fPbWjxCdbryYx5DS7gIlc5AZRnLdSQBx3pNC1CbUb2SaYlRJY28nlhsqrMZM459h+QoA3KK5vWRNNr/AJMUGo3AFmGRbO88kI28jc3zqD27Hp0pz6tqdrDd+cYJDamGDAiJZpHEeXJ3AYBYnGBn1FJO6v8A1vYOtjoqK55dV1Z5ILUi3inluWiE0kDBSoiL58vfkHIxgt7+1V/7Zv5dNSa6+zlbiCOeNYleMx/vFUgsHyfvdsdOc03oK51NFYo1mbbHkRBnvZ7fGD91FkIPXr8gz9aoxa3q7W4nZ7HaLSG8ZRA+Sr5ymd/UY+9jv0oWo3pv/XQ6iiiigAooooAKKKKACiiigAooooAKKKKACiiigAooooAKKKKACiiigAooooAKKKKACiiigAooooAKKKKACiiigAooooAKKKKACiiigAooooAKjb/j6j/3G/mtSVG3/H1H/uN/NaAJKKKKACiudislTxZfAXF6VitIZkja9mKB2eYE7S2P4RxjHFVrHWtQstHt2vGiui+mC5jIRgwI2A72LHd98HOB0NP+vz/yCXu7/wBbf5nV0Vm6Td3s7XEeoIuYipWRYjEGBHTaWYjGOuec1kt4kvY7e5mxBNH9je7tm8lowQCAAcsSwO4c4X6c8LrYTaSuzqKKwE1LVY7947iSzkjguo4JNkDKzh1BBBLnbjd75x2qCbX9Qt9O+2v9ldJ7WWeGIRsGh2Luw53fN6HAXBoH1sdNRWLe6tdJfG1tDAGMsUYZ1Lbd6uSSARn7o44qCLUNTub3TV8+CMfaJ4bkLAcS+WSAV+b5c4zjnB9cULX+v67h0v8A1/Wh0NFZV9e3gv5YLSW1gS3gWeRrpSQ4JYYBDDaBtOW569OOWrq8puJY2EQ26gLVevKmNW9evJ/Cj+vxsD0/ryua9Fcrc6vqz2Mq+fb2t3vhdF+zMQqNKFPzByrjnqCPoM8XpdVvorh5M27W8N3FaPEI28xy+wbw27AGXztweB154FqBuUVzKavrFwyeTJYxiYXBTdbu2zyn28/OM5/DHvT/AO3r+a4Vra3TyU8nzEMRJbeFJIfcAuA3cHJBoA6Ois7SLq6vYJp7ow7POkjjSNCCoR2XkknJOAegrITxHfw2kVxdJbyC5sXuo0ijZfLKFAQxLHIPmA9BjB60DsdRRXONrOqQp5EsSGeSdY45hbELgqzHMfmEkjZj7wzuHpT01TU7iNIv9GtZkikklaWMkOFfb8oD/JnqcltuQOaTdhHQUVzdrq95FHpnnPGtpJb24eZ4zIXkfjBYNlDkjBKkHPWrWo3d9b+JLNYZV+yfY7iWWHyizOUMeMHIwfm449eueKas9fP8Aj72xtUVkabqF5LeQw3rW0oubb7TGbdCvljKjaSWO773B46Hiq76zfLeXL5tja29/HZmIIxkbfs+bduwMeZnG08DqKLO9v63t+Yrr+vvN+iuaTX79nd41hnhe3e6gKwMm5EZcgZfLZVuDhRnHBrX0+/N5b3F2TH9mEjCBlz8yLwWP/Ag2MdsUulxl6iubg1vU5UuAqQyu0CTWx8kxZDNj7rPlvbOzPTjteTVJv8AhHbu8LRyXFskpb9y0Y3KCcFSSR27n2NHS4LV2Naiucn1nUrfERazllmEDROkTBYxJIEww3Hd1yCCM4PAqQatqR1RohHHJDDcJbygQkFiQpLhi+F+9nbgnA6807XFc36K5Ya1rEkCSo9ioltJLpVNu52iMgFSd/Od3XjGOhq3Dqso1ryQqhJrtY23MxwPs3mcZOByOwx7Z5pLVXQzeormbjxBqH2aae1+y7YLZrlt0bN5gWR12ghhjIUc8/Q1r6bcXUkt1BfNDJJBIAHhjKAgqG6Fm559aSd1cC/RXJw65fpp7zRfZ1htLWO4kWRXkaQMzgqGL8cJwTnrWtrU19Ff6OljOkSTXhSYPEX3L5UjY6jHK/nj6FrVXDq0a1Fcrb6xf2FuJrhkureSa8CRhG80eWZGHzliCMJjG0Y454rU0e/v7meSO+SMr5ayJIkRj65yuCzE9B83GfSgDWorBuNeuLeS6iMKSS2YmlmUAjMaruTHPBO5Rnn7rUxNY1FIZlufJWRvL8iUWr4YuSNvlhyWxjOcgc9sUAdDRXP6fq+o3t5a27C3iY+eZyYiSfLkVMKA5Ck7vVse9dBR0uAUUUUAFFFFABRRRQAUUUUAFFFFABRRRQBGv/H1J/uL/NqKF/4+pP8AcX+bUUADf8fUf+4381qSoZC4uY/LVWOxupx3X2p26f8A55x/9/D/AIUASVF9mg8lovJj8tiWZNg2kk5Jx9efrS7p/wDnnH/38P8AhRun/wCecf8A38P+FADTaWx25t4jtcyL8g4Yggt9SGPPufWkaxtHh8p7WFo/L8nYYwRs/u4/u+3Sn7p/+ecf/fw/4Ubp/wDnnH/38P8AhQBXOj6Y1uLc6daGFW3CPyF2g4xnGMZxx9KWXS7SWIRiNoAAozbSNC2BnAyhBwMnjpzU+6f/AJ5x/wDfw/4Ubp/+ecf/AH8P+FADLazgtVAiViwXb5krtI5Gc4LsSxGT3NOa2gdZVeCNlm/1oKAiTjHzevHHNLun/wCecf8A38P+FG6f/nnH/wB/D/hQBFb6dZWkcaWtnbwpGxZFjiVQpIwSMDgkGnfYrXy1T7NDsVdqr5YwBkHAHpkA/hT90/8Azzj/AO/h/wAKN0//ADzj/wC/h/woAiGm2Iu2uhZW4uHOWm8pd7cY5OMng4+lPFnbBNotoQvliPHljGwdF+g9Kdun/wCecf8A38P+FG6f/nnH/wB/D/hQBJRUe6f/AJ5x/wDfw/4Ubp/+ecf/AH8P+FAElFR7p/8AnnH/AN/D/hRun/55x/8Afw/4UASUVHun/wCecf8A38P+FG6f/nnH/wB/D/hQBJRUe6f/AJ5x/wDfw/4Ubp/+ecf/AH8P+FAElFR7p/8AnnH/AN/D/hRun/55x/8Afw/4UASUVHun/wCecf8A38P+FG6f/nnH/wB/D/hQBJRUe6f/AJ5x/wDfw/4Ubp/+ecf/AH8P+FAElFR7p/8AnnH/AN/D/hRun/55x/8Afw/4UASUVHun/wCecf8A38P+FG6f/nnH/wB/D/hQBJRUe6f/AJ5x/wDfw/4Ubp/+ecf/AH8P+FAElFR7p/8AnnH/AN/D/hRun/55x/8Afw/4UASUVHun/wCecf8A38P+FG6f/nnH/wB/D/hQBJRUe6f/AJ5x/wDfw/4Ubp/+ecf/AH8P+FAElFR7p/8AnnH/AN/D/hRun/55x/8Afw/4UASUVHun/wCecf8A38P+FG6f/nnH/wB/D/hQBJRUe6f/AJ5x/wDfw/4Ubp/+ecf/AH8P+FAElFR7p/8AnnH/AN/D/hRun/55x/8Afw/4UASUVHun/wCecf8A38P+FG6f/nnH/wB/D/hQBJRUe6f/AJ5x/wDfw/4Ubp/+ecf/AH8P+FAElFR7p/8AnnH/AN/D/hRun/55x/8Afw/4UASVG3/H1H/uN/NaN0//ADzj/wC/h/wqNmm+0p+7jzsb+M+o9qALFFR7p/8AnnH/AN/D/hRun/55x/8Afw/4UAL5MXnNL5aeY6hGfaMsozgE+gyfzNMFpbKqgW8QCx+UoCDhOPlHtwOOnFO3T/8APOP/AL+H/CjdP/zzj/7+H/CgBlnYWmnxGKwtYbaMncUhjCAn1wKij0jToRIItPtUEoIk2wqN4PUHjmrG6f8A55x/9/D/AIUbp/8AnnH/AN/D/hQAG3gLMxhj3MwdjtGSw6H6jA59qij02xhmmlhsrdJJ8iZ1iUGTPXccc/jUu6f/AJ5x/wDfw/4Ubp/+ecf/AH8P+FAENvplhaRqlrZW0KKQyrHEqgEZwRge5/M1I1lavt3W0LbJPNXMY+V+u4e/J5607dP/AM84/wDv4f8ACjdP/wA84/8Av4f8KAI7nT7O8kikvLSCd4TujaWMMUPqM9OgoOnWRvfths7c3OAPPMS7+OnzYzUm6f8A55x/9/D/AIUbp/8AnnH/AN/D/hQBAmk6dFHMkdhaolwMTKsKgSD/AGhjnqevrTv7NsftiXX2K3+0RrtSbyl3qMYwDjIFS7p/+ecf/fw/4Ubp/wDnnH/38P8AhQAi2lum3ZbxLt3bcIBjcct+Z5PrUT6XYSXEM8ljbtNAAIpGiUtGB0CnHH4VNun/AOecf/fw/wCFG6f/AJ5x/wDfw/4UAOjijhTbEiouS2FGBknJP4kk1GLO1AQC2hARDGg8sfKhxlR6A4HHsKdun/55x/8Afw/4Ubp/+ecf/fw/4UAV00fTI7N7OPTrVbaQ7nhWBQjH1K4weg/KlfSdOkhhhksLVorc5hQwqVjP+yMcfhU+6f8A55x/9/D/AIUbp/8AnnH/AN/D/hQBCdMsDPFObK3MsICxSeUu5AOgBxxippLeGaSOSaGOR4jujZlBKHGMg9uKN0//ADzj/wC/h/wo3T/884/+/h/woAjtdPs7FpGsrSC3MpzIYowu8+px161BBothDqEt99njkupJDIJnRS6ZULhTjIGB+pq3un/55x/9/D/hRun/AOecf/fw/wCFAblddJs4RKbK3hs5pAQZoIUDjJye3rzzU1naQ2NjDaWybIYYxGi+gAwKdun/AOecf/fw/wCFG6f/AJ5x/wDfw/4UAVo9H0yKGSKPTrRI5RiRFgUBx6EY5p76bbHS5bCGJbe3ljZCsKhdoYHJA6Z5qbdP/wA84/8Av4f8KN0//POP/v4f8KA63ILbSdPtIjHb2VvGrMHbbEo3MOQxwOTnnNOfTrKS+W9ezga6QYWcxAuo9mxnvUu6f/nnH/38P+FG6f8A55x/9/D/AIUANFnbBQot4gFQxgBBwp6r9DgcUyfTbG5ieO5s7eaN2DMkkSsGIGASCOSABUu6f/nnH/38P+FG6f8A55x/9/D/AIUAM+w2nlsn2WHYyFGXyxgqTnb9Mk8e9SrGiMzKiqznLEDluMc03dP/AM84/wDv4f8ACjdP/wA84/8Av4f8KAGCxtBG8YtYQjoEZfLGGUZwCO45PHuafPbw3KBLmGOZVYOFkUMAw5B57ijdP/zzj/7+H/CjdP8A884/+/h/woAQWtuuzbBGNjM6YQfKzZyR6E5OfqaZaadZafv+wWkFt5hy/kxBNx98dak3T/8APOP/AL+H/CjdP/zzj/7+H/CgCGCwjhvbm6LNJLcBVYsBwi5wowOg3E85PNMTRtLjt5LePTrRIZWDPGsChWI6EjHJFWd0/wDzzj/7+H/CjdP/AM84/wDv4f8ACgBkFla22z7NbQw7AVXy4wu0EgkDHTJA/Kp6j3T/APPOP/v4f8KN0/8Azzj/AO/h/wAKAJKKj3T/APPOP/v4f8KN0/8Azzj/AO/h/wAKAJKKj3T/APPOP/v4f8KN0/8Azzj/AO/h/wAKAJKKj3T/APPOP/v4f8KN0/8Azzj/AO/h/wAKAJKKj3T/APPOP/v4f8KN0/8Azzj/AO/h/wAKAJKKj3T/APPOP/v4f8KN0/8Azzj/AO/h/wAKAJKKj3T/APPOP/v4f8KN0/8Azzj/AO/h/wAKABf+PqT/AHF/m1FNjLm5k8xVU7F6HPdvaigBzf8AH1H/ALjfzWpKjb/j6j/3G/mtSUAFFFcpa6VJda1d3EVlZRmPUd5vt58/ChSVACdCPl+90J47ULe39dAeiudXRXHTapNc6ddIdQ+0yy2M7XdphP8AQ2C8D5QGHPy/MTnqOlSLfmC4njmv00u2NwQ92qxqdwhiKqSykZOWOSCflxQtR2OtorAk1C8W6tLWO4Mhv0jaCbyduNpzKcEcZXBGe5qij6dL4kEiGz1GZ7lm3KCt3abQeD32AjGDtGGx82eTqI62iuK/tiXVEuY4rwz213bAeWWjJhMsioowi/KcM2QWY8dquwaxdTa26/bI41hlkWWz3odkSbgGKhd4JwDnOOenSjoB1FFcdDqE19pU/wBrvWvIUkgN08LRvCIy2XCMgB24xuDchfrT7pNIktgvhySOKNry0DPZBTCreaOVx8u/HX/gOe1NLWwm7Js66iuVudVuIIfsk2pyxSrcyxrcv5Me8KAQGLKVz83RVycexpi6tqM9s159saMQWdrcGFI02yM+dwOVJxx2IxSWqv6fiDdjraK5n+0dQjuoZhcvOJr64tRbFEC4RZWUghd2f3YHXGD071QTU7i/sJBJfJdput2kXfGWhk85PlwijaOvDZIx9aFqU1bf+tbHa0UUUCCiiigAooooAKKKKACiiigAooooAKKKKACiiigAooooAKKKKACiiigAooooAKKKKACiiigAooooAKKKKACiiigAooooAKKKKACo2/4+o/8Acb+a1JUbf8fUf+4381oAkooooAKK5OG8n/4Sb+1DZzi1mmNmLkunlmP7qcbt2fNBwdvR6WPU9Tis4bn7U9y9zZTSiNol2xshXBUKATwTkEnPbFK+w+tjq6K5X+1bllki0/VjewGe2jW+AiYgySFXQFVCkgbT043c5p8mq6hZRsGna5/fy2UbOigtKcGJm2gAd1PGOlP+vy/zRN9bf11/yOnormbu51FbqZU1KVBDeW9thYo8MJFQMxyp5yxI7Z7EcUxdQaCYSaje7FgtrwPeGOMSKqTKobO3GcdgME9ulH9fhcf/AAPxOporjF1m4XT4JG10PDPI5e4862BgwF2RF9mzJBJPGc8A4o1TVJ5NInjv9TS1kbTg8cSBNt2zK24jcMkcDhcYzz1FPrYDs6Kx/EG37Ja/atv2D7Qv23f93y9rY3f7O/ZnPGM54zVA3Wm2tuTod1HZWElwqT3Vvs8mH5WOUJBQEkKCcYyfWkB09Fcquryulst1q/2W3bzvKu9sY+1bXAQcrt5XJ+UAt1GBVOPVry2sdOgivEtSLC3aBJGjRbhyOQQwLHoBhMEZ9xTWoHaswUZYgDOOTS1ia3btca1of750Vbl2KKqEMRExGdyn0xxjqe+DWTJrl4ljNLb6kJrr7JNJPbbYz9idRkDAGRg8YYnPXtSDc7GisbXormPwherHe3HnpAzC4AQPxz2XA9OnT86zTLPBeXt7Z6lJIiTWqnCxstwGCKWYhe4ORtwKHuB1dFczaareTeI/s73iBvtEiPZM8eVjG7awUDfk4U5Jxgn2qzqOoGHWDDNqv9nqqRtBFsRvtLEnIwQWboBhCDz7ijsD0N2iuUtrm50+5jlW5laC41O6ie22KVAAlfI43bsoO+OelQW2uXs6OsGpGVZGtSsmYnaLzJdrD5F2g47EsR60LW3mNq2/9a2Oyormlu797qLTxqEykX8lu1yI4/MZRD5g/h2g5OPu9BVG413UBDAGvktX+z5jd2jQXModlIIZTn7q5CYPzfSjt5kpp38js6M461h2Ms0Nvr00EfmTpcuyR/3mEMZA/Osm+unv9H1C3t9Ya/gNujPOixHy2LYMfC4wR2IJHrzR/X4Anpf1/Ox2IIZQVIIPII70tZWqzNp+nWyC6+yw+Ysc12Qg8pNp+bkbRkgDpgbulZkOvvBJEbu/RrV47hYbhwo+0srJsIwMFiC2AvDYyBSuVbY6iiuOe/vLf+07v+0ZPPOlQzwwuE2hsNucLjPBx3x830xYudRvrTWhZnUsOkkSxRzvEpulONxK7NxPLAbMY2896pqzsRGXMrnU0Vycuu3Y1eVbK4ac7p4/schjyrIjFcKo3AEqOWbnPTkYS5uFvbCNLbXDfn7Za5kVIyYWMozgqoX/AICQSO+c0lq152/EcnZN9r/gdbRXH3mo3tss588Sz2kV4I7iWJC52iMqThQO/IGAcDNWrm/u7K5uLSfUpFgV4WkvZEjDQI4fP8O3GUUZION3NHS4/wCvuOmorH02ee+0W7/0x5mEkscVwqKGKjhWHGCe+cYPXpWLb6pJDoliJddaHbYLJHK/lMbmbkNGcrztIAwuGOeuaOl/T8Q62OyorD1x5jpdhPJdSaeRcQtOyFQFBOCCWBGMmqlnJc2t8JI7qQxT6pNC1uVTZjDnOcbs5Ud8e1K+tv66f5h0v/XX/I6eiua8PareX2oBZ7xJS0Ja4ti8Za3fIwAFAZRywIck8D3qcagza1LDJqvkzrKUj08Ih3ptyGxjfz13Z2jpjg0wN6iuVh8QS3WlxmDUYBMunh7iRioWKbKg7jghSMnIIwO4psd7JdyaPN/alysaX0kMkjGHbMdjYXcq7WBPyjGP++hw7f187Cbt/XzOsorkhrV19mlki1Hz7n7JNLcW21D9idVyBwMjB4w2c9exqU3OpRXsoOpzOkLWr7GiiwwlfaynCA4AHGMHnkmktRvQ6iiuQXW783V1i9QSxrcF7RnjJhCBtrBQu/svLEg59xWnqLzQ+C7mWab7TKbYyFpo0IyRnG3GMD3B980LV2/r+tBN2NyiuZg1a7k8SfZ3vI0IuHRrJnj4iAOHC7d+TgNknHNdFBPFc28c9vIssUihkdDkMD0INHS4+tiSiiigAooooAKKKKAI1/4+pP8AcX+bUUL/AMfUn+4v82ooAG/4+o/9xv5rUlRt/wAfUf8AuN/NakoAKKKKACiiigCE2sRvBdEMZVQopLHCgnJwOgJwOevFTUUUAFFFFABRRRQAUUUUAFFFFABRRRQAUUUUAFFFFABRRRQAUUUUAFFFFABRRRQAUUUUAFFFFABRRRQAUUUUAFFFFABRRRQAUUUUAFFFFABRRRQAUUUUAFFFFABRRRQAVG3/AB9R/wC4381qSo2/4+o/9xv5rQBJRRRQAUVyltuism1EXl19qbVJYVV7l3R1+0smwRk7R8o4wOMZ9aZDNf3WrRNDcxxRxwXrLG6yP86zbA2TJz1HHbkDGRgen9eVxtWbXy/Gx11QzWsU80MsoZmhYsg3EAHGMkdD+PSuWstT1S00axht/LnmWwS6ld4XbzS2TjJk+U8csSeucdqvTa1fot7IiQhIriO2iTymZgzhDuYhgDjeRtGM8cim1rb+u35kp3V/6/qx0NFc/FqerTSw2gFtDO7yqZpIGKkKFIPlh8j7xGC3bPtS6RqN/qOqxyySxJayafFMYBGch2LA4bd7enTFLrb+trj6XN+iuY1vWHtddjKNdiGxCtMIoXaN95w29gCBtT5uSOoq1Pq94t0zxvai3W9jtPJZG8w5K5bdux0OQNvTBz2oWoPQ3aMcYrmYfEGpPaS3bQR+S1pLPEDEV8sqMhWO47/fAXGPeo9R1XV0jlto7i2juFkspVlS3bAjlm2FCC/ONpycjIPQdaa1HZ/1/XmdVRWOmpXaa8La6aGO3kcxQ4hJMrBNxw4YgHhvlKg4HU1PrkrxWCBJWhWWeOKSVTgojMASD264z2zml2EaNFc/JJJo11dx2MstxFDbpcSRTyvMyANzgsS2WUNgZxlenJy2XXL6Z41sFiC3DytDKYGlBjjKr0DrnLEkHPTHBoA6KisbTNSvr/UNkqQwRR2sUske0s5Zw3AYNgAbfQ5z2qpcapLpWu6hPcSySWrqsccJOQsojDKFHq+WH1A9aHoC1OkorjrPU9UsNFaM3S3N9HJcyymWJpchZDwDuUIozgZPQDANXlv5ZtftlUtGjXK7lEjEMDbM2CCcdcdAOmetAHR0Vna5PJBpmYpDEHmijklU4MaM4VmB7cE89utUJWl0e7uItOkmuES1+0SQ3EzzFcMOhYlgWXdgZxlc465AOgornZNdvJ3QWAi8u4lk8iXyWlBSPaDkBlySxbByOB3qzpmpX9/qCxypDBGlrFLKm0sxZ94wG3YAG30PWgDZorl9RS8uNevo7OPUHmSOLyJYrvZDCxB5ZC4DDuflbIqazv7+G+/eSxy2s2oS24RkYyLgMQQ27GPlxt2/jSvrb+un+YdLnRUVzEviHULfTxeOLWRbizkuoYlRlMW3adrHcd33sZAXBHTniefV9RtXltJPIlufPjjSWOBtoDKW5Tfkn5SPvDORTDrY6CiqWlXNxdWO+8jCTK7I21dobBIBxk4yO2Tisye/vIdYuILaRMy3UcK+cC6xgwlshQR3HrSbtYDoKK5+61G4ufBOpXLNsuYUuIi8BKZaNmTcvOVztyOePWoVnvtLguJ4ra8hikaGKKO+uPtDCRmwX4djtwV+XcMkduprrYHodNUVxbrcxeW7SJyCGjkKEEe4/l0rFt9U1Sa6trV1t4pHkkDyPCwDKoU5Cb8qTuI5J6Z9qYmu3saTi6ECzEKYIvKYBVaQJvLhiHUbgSRtPqBmp3dgNy0tIrKHyoA2CxclmLFmJySSeTU1YD6pqUdwLEvaPc/alhM4hYJho2cfJvzkYHG7kHtnjR0e9lv9P8y4Ceak0sLlFIVjHIyEgEnAO3OMmn0AvUVhPq9+2sSRQQobaK5W3dTEdxyFJbfuAGN2du05A688V9MvtXltLeB7q1a5nluCJ5LZtqpHJtC7Q4yeeuRwO/WjpcOtjpaKitZTNaxOzxO7IGYxNuU57g+lS0AFFFFABRRRQAUUUUAFFFFABRRRQAUUUUAFFFFAEa/8fUn+4v8ANqKF/wCPqT/cX+bUUADf8fUf+4381qSoZC4uY/LVWOxupx3X2p26f/nnH/38P+FAElFR7p/+ecf/AH8P+FG6f/nnH/38P+FAElFR7p/+ecf/AH8P+FG6f/nnH/38P+FAElFR7p/+ecf/AH8P+FG6f/nnH/38P+FAElFR7p/+ecf/AH8P+FG6f/nnH/38P+FAElFR7p/+ecf/AH8P+FG6f/nnH/38P+FAElFR7p/+ecf/AH8P+FG6f/nnH/38P+FAElFR7p/+ecf/AH8P+FG6f/nnH/38P+FAElFR7p/+ecf/AH8P+FG6f/nnH/38P+FAElFR7p/+ecf/AH8P+FG6f/nnH/38P+FAElFR7p/+ecf/AH8P+FG6f/nnH/38P+FAElFR7p/+ecf/AH8P+FG6f/nnH/38P+FAElFR7p/+ecf/AH8P+FG6f/nnH/38P+FAElFR7p/+ecf/AH8P+FG6f/nnH/38P+FAElFR7p/+ecf/AH8P+FG6f/nnH/38P+FAElFR7p/+ecf/AH8P+FG6f/nnH/38P+FAElFR7p/+ecf/AH8P+FG6f/nnH/38P+FAElFR7p/+ecf/AH8P+FG6f/nnH/38P+FAElFR7p/+ecf/AH8P+FG6f/nnH/38P+FAElFR7p/+ecf/AH8P+FG6f/nnH/38P+FAElFR7p/+ecf/AH8P+FG6f/nnH/38P+FAElFR7p/+ecf/AH8P+FG6f/nnH/38P+FAElFR7p/+ecf/AH8P+FG6f/nnH/38P+FAElFR7p/+ecf/AH8P+FG6f/nnH/38P+FAElFR7p/+ecf/AH8P+FG6f/nnH/38P+FAElFR7p/+ecf/AH8P+FG6f/nnH/38P+FAElFR7p/+ecf/AH8P+FG6f/nnH/38P+FAElRt/wAfUf8AuN/NaN0//POP/v4f8KjZpvtKfu487G/jPqPagCxRUe6f/nnH/wB/D/hRun/55x/9/D/hQBBDpOnW9413Bp9rFcsSWmSFQ5J5OWAzz3qZbS3RtyW8SnDDIQDhjlh+J5PqaXdP/wA84/8Av4f8KN0//POP/v4f8KAIJ9K0+6jhS5sbaZIBiJZIVYR/7uRx0HT0qV7S2limjkt4nSc5lVkBEnAHzDvwAOfSnbp/+ecf/fw/4Ubp/wDnnH/38P8AhQBHb2FnaJGlrawQrFny1jjChM9cY6Z705LK1jkidLaFXhUpGwjAKKeoHoPanbp/+ecf/fw/4Ubp/wDnnH/38P8AhQAfZ4dsq+VHiY5kG0fPxjn14AFZ8ug282preO+CrIwCxRggLghdwXdtyAcZ6+3FaG6f/nnH/wB/D/hRun/55x/9/D/hR5gQppWnxzTyx2NsslwCJnEKgyA9Qxxzn3p8tlazLIJraGQSoI5A8YO9RnCn1AyePc0/dP8A884/+/h/wo3T/wDPOP8A7+H/AAoArvpVi0skyWsMdxIhQzpGokAIxw2PT+VTrawrZra+WrQLGI/LYZBXGMY9MUu6f/nnH/38P+FG6f8A55x/9/D/AIUAR2mn2dhC0NjaQW0THLJDGEUn6CmzaXp9xZx2k9jbS20WBHC8KlEwMDC4wOKm3T/884/+/h/wo3T/APPOP/v4f8KACOCGJi0USIxUKSqgEgdB9Bk4+tJJa28pJlgicl1kO5AfmX7rfUYGD2xS7p/+ecf/AH8P+FG6f/nnH/38P+FAEE2lafc7ftFjbS7WLLvhU4JOSeR1J5NSGztt25YI1cch1QblO3bkH1wcfSn7p/8AnnH/AN/D/hRun/55x/8Afw/4UWAZBZwW+nx2SIDBHEIgjDIKgYwfwpLPT7LT4misLSC1jY5ZIYwgJ+gqTdP/AM84/wDv4f8ACjdP/wA84/8Av4f8KNwIZdL0+eyjs5rG2kto8bIWhUouOmFxgVNHbwwtmGGOM7QmVUD5R0H0GTge9G6f/nnH/wB/D/hRun/55x/9/D/hQA5Y0WRpFRQ743MBy2OmTTBbQAgiCPIcyD5Bw56t9eTz70u6f/nnH/38P+FG6f8A55x/9/D/AIUAQJpWnxtOyWNspuP9cRCo83/e45/GpJ7K1uUlS4toZVmAEivGGD46Zz1xT90//POP/v4f8KN0/wDzzj/7+H/CgCGLTbW3mge3iWFbeNo4441CooYgnAH+6P1qU20Bl8wwRmTcH3FBncBgHPrjj6Uu6f8A55x/9/D/AIUbp/8AnnH/AN/D/hQAn2W38h4PIj8qQsXj2DaxYktkd8kkn1zTpoIriFobiJJYnGGR1DKw9CD1pN0//POP/v4f8KN0/wDzzj/7+H/CgCO3sLO0SNLW1ghWLPliOMKEz1xjpnvTY9LsIfO8mxto/PBE22JR5gOfvcc9T19TU26f/nnH/wB/D/hRun/55x/9/D/hQBHBp1lawpFbWkEMcb70SOIKFbpkADg8nmkTT7eO8S5jjCOiuoCgAfOwZj9SQCTUu6f/AJ5x/wDfw/4Ubp/+ecf/AH8P+FAET6dZSXy3r2cDXSDCzmIF1Hs2M96bLpOnXETxT2FrJHJJ5ro8KkM/94jHJ96n3T/884/+/h/wo3T/APPOP/v4f8KACO2gikMkUMaOyqhZUAJVc7Rn0GTgdsmpKj3T/wDPOP8A7+H/AAo3T/8APOP/AL+H/CgCSio90/8Azzj/AO/h/wAKN0//ADzj/wC/h/woAkoqPdP/AM84/wDv4f8ACjdP/wA84/8Av4f8KAJKKj3T/wDPOP8A7+H/AAo3T/8APOP/AL+H/CgCSio90/8Azzj/AO/h/wAKN0//ADzj/wC/h/woAkoqPdP/AM84/wDv4f8ACjdP/wA84/8Av4f8KAJKKj3T/wDPOP8A7+H/AAo3T/8APOP/AL+H/CgCSio90/8Azzj/AO/h/wAKN0//ADzj/wC/h/woAF/4+pP9xf5tRTYy5uZPMVVOxehz3b2ooAc3/H1H/uN/NakqNv8Aj6j/ANxv5rUlABRRXOTIRqzaIAfKuJxedOBF95x/38Az7SUdQ6HR0VyaXV7JcXEFtdm0VReTZhhjyzJKAM5Ujuc9z60DUpLebUby41CZDJa28qQDy8RhuC6hgMAE8knA70dL/wBdf8g+1y/1/Wp1lFcnBrE72xW51bybdbtom1BWibC+WrKC2wJyWIzt7Y6nNV5tdvxbRGTUVtiUkMUsnlxidxK6hSHU5wAvC4PzUAdpRTYyxjUuAGIGQOxp1ABRRRQAUUUUAFFFFABRRRQAUUUUAFFFFABRRRQAUUUUAFFFFABRRRQAUUUUAFFFFABRRRQAUUUUAFFFFABRRRQAUUUUAFFFFABRRRQAUUUUAFFFFABRRRQAVG3/AB9R/wC4381qSo2/4+o/9xv5rQBJRRRQAUVwmZbHRryT95Ja3mqSqw5byZPtZAPsrAAH0IB7mthdckNytp9rQ3S3s6SRALuWMJIyZHYcKQe9JuzKcdbedjo6K5CG91Q2gnbVZiRYQXpXyosFmJ3J9zO3j689amhvzBrEsUWo5na/KDT8J86HG5+m/gZOQcfLjHWqt73L/W9jPmVr/wBbXOpori017UWtL2Vb6Mzx2kskluWjY20g6AKF3AA5B3k54rotQkn0/QywuXeRSoe5kVcopcBnwAF+VST0xxzml0uV1saLMEXLEKPUmlrkJXk1OSziXU3u7WPUlWO5VYmEw8osQcLtOG4yAPzGav8AiL+y/wC1dM/tz7H9l2zf8fm3ZuwuPvcZ60m7K/8AXQOp0FFchJqBtLCOG1vJbKCWWZrWRmjRTGuMLmRW4yTtAUkgDHAq5aarfT3NlbPJiS9jhulYIMJHtBkUcf3gBzz+9HpTWoHR0Vzui6wZLy6S91FZ9iGRmV4zFEAxGMgKyH/ZfJ4PJwateIPI/wBC/tLZ/ZvnH7T5v+r+6du/PG3djrxnFHS4dbGxRXNJqGnacttJplxFb6W94UlkBUW4/dE/IegXcF6cbsjqTUE+uTotnPJqBSNtx8qPyxJL+9KjCOvzDGBhSG+pIo6iOsorlBdy2cl8k2ryRIdRKzSyGPNpGULKRlcAEgDLZH401tT1Ce3Hk6i6oltdTJOkcZNwI3UIxypGCCc7QM9RildJX8r/AIXKtrY62iuXn1G/s7W433zyKVt5DPIsamBZCwbB27cDaMFgcZ5zT9Pvr69ubGL+0d8LmZvOhMbmZUKYBYLt6lgdoH51VtbE30udLRXN62biPVby4tLuS2e303zRsVG3kMxAO4Hjjtg+9MutbmGuQxw3hQiaGN7VzGA4fblguC5+91yoyO+DmYvm/rzsN6X/AK6J/qdPRWBoOpyXWo3FvPe/a3Cl/wB2Y2jj+YjHyqGU/wCy+TwcE4NVYb8waxLFFqOZ2vyg0/CfOhxufpv4GTkHHy4x1prVpf1vYHodTRXHW2u6k8dzJHcpPcJbSSS2ZaNmt3GMAKoDDHIIYnPGKltdTvblVjt9VE8Ul1HELhGhldcqxZcqoTspHBPPPFK/9eugbHWUVkWd/NHoN3PcyPO9o86eYEXe4RmAO0YGcAegz6VjRazdtaXSrq8bIjQlbl5ocgNuyu9Y/LB+UYyD1xnkYYf19x2FFcnJrsn/ABLpv7QkWKSNT5X7oTTEvtyVIw6nj/VkdcjORU39rXQ1LbFe+ddfaJY20zCfJGoba/A3jOFOScHdjHIoegbnTUVyi6gLiyiZdWTUXM9qZY2hjYQMZVBHC/KevDZYYzmq8+q3d81/BaahKRJa3JEQMXmQshAXCqpK9x8xJ9gRQ9FcFq7HZ0Vx9zrF1E9vHbaqmPs8b27ySRAXbEnIPy5boBhMHn3FTy35n1iCObUcTrqGw6fhPkQbtr9N/Iwck4+bHpR1sLpc6misTXry+tp4ILGby2vlMELbA3ly5B3cjn5N5wePlrPXULrVFsp9xiFzPKkQESl4tsDA4JBwd6t+HHSl0bHs0dXRXF2f2iaDS5YNVmMsejyO06iN2Zg0eVOVI4PB4zx1zmtTWpppvDthdfbJLHM1tJLLEVAVSy5yWBAHNXbW39btfoQpXX9dk/1Ogorl4XubbVLy4hu5PLfVVha32psYNEgyTjdn6ED2p/h7Vby+1ALPeJKWhLXFsXjLW75GAAoDKOWBDknge9Stf68rlX/r5tfodLRWF/aBOvSQzar5EqTBIrDYh81NoO7GN/Un5gcDHI4NZT67eJYTTW+pC4uPscks8GxD9ikGMLgDI5JGHyTj2NC1G9DsqK5xJtQh1GVW1OeaO3vIodjxxASK6qTuIQHILcYx0Gc1V07XpmSKY6k19IYZXubVI0JtwoJDBVAbJIAwx53cYpX/AK/r1DrY62iuPt9ZvZkkig1PzlaW1CzgxSMglkKsMooTOBx97HqelWZNV1CyjYNO1z+/lso2dFBaU4MTNtAA7qeMdKf9fl/mhXV/68/8jp6KbGrJEiu5dgoBcgDcfXinUDCiiigAooooAKKKKAI1/wCPqT/cX+bUUL/x9Sf7i/zaigAb/j6j/wBxv5rUlQyKWuYwHZPkbkY9V9ad5T/895PyX/CgCSio/Kf/AJ7yfkv+FHlP/wA95PyX/CgCSio/Kf8A57yfkv8AhR5T/wDPeT8l/wAKAG3Nqlyiqzyx7DuUxSFDnGO3Xr0NLa2sVnbJBbqVjTOAWLHk5JJPJOTnJpfKf/nvJ+S/4UeU/wDz3k/Jf8KAJKKj8p/+e8n5L/hR5T/895PyX/CgCSio/Kf/AJ7yfkv+FHlP/wA95PyX/CgCSio/Kf8A57yfkv8AhR5T/wDPeT8l/wAKAJKKj8p/+e8n5L/hR5T/APPeT8l/woAkoqPyn/57yfkv+FHlP/z3k/Jf8KAJKKj8p/8AnvJ+S/4UeU//AD3k/Jf8KAJKKj8p/wDnvJ+S/wCFHlP/AM95PyX/AAoAkoqPyn/57yfkv+FHlP8A895PyX/CgCSio/Kf/nvJ+S/4UeU//PeT8l/woAkoqPyn/wCe8n5L/hR5T/8APeT8l/woAkoqPyn/AOe8n5L/AIUeU/8Az3k/Jf8ACgCSio/Kf/nvJ+S/4UeU/wDz3k/Jf8KAJKKj8p/+e8n5L/hR5T/895PyX/CgCSio/Kf/AJ7yfkv+FHlP/wA95PyX/CgCSio/Kf8A57yfkv8AhR5T/wDPeT8l/wAKAJKKj8p/+e8n5L/hR5T/APPeT8l/woAkoqPyn/57yfkv+FHlP/z3k/Jf8KAJKKj8p/8AnvJ+S/4UeU//AD3k/Jf8KAJKKj8p/wDnvJ+S/wCFHlP/AM95PyX/AAoAkoqPyn/57yfkv+FHlP8A895PyX/CgCSio/Kf/nvJ+S/4UeU//PeT8l/woAkoqPyn/wCe8n5L/hR5T/8APeT8l/woAkoqPyn/AOe8n5L/AIUeU/8Az3k/Jf8ACgCSo2/4+o/9xv5rR5T/APPeT8l/wqNo2+0oPOk+43OF9R7UAWKKj8p/+e8n5L/hR5T/APPeT8l/woAkoqPyn/57yfkv+FHlP/z3k/Jf8KAJKKj8p/8AnvJ+S/4UeU//AD3k/Jf8KAJKKj8p/wDnvJ+S/wCFHlP/AM95PyX/AAoAkoqPyn/57yfkv+FHlP8A895PyX/CgCSoVtIlvGusMZmTZksSAvoB0HvjrgU7yn/57yfkv+FHlP8A895PyX/CgAmgjuIjFMu5GIJGcZwc/wBKkqPyn/57yfkv+FHlP/z3k/Jf8KAJKKj8p/8AnvJ+S/4UeU//AD3k/Jf8KAJKKj8p/wDnvJ+S/wCFHlP/AM95PyX/AAoAkoqPyn/57yfkv+FHlP8A895PyX/CgCSio/Kf/nvJ+S/4UeU//PeT8l/woAkoqPyn/wCe8n5L/hR5T/8APeT8l/woAkoqPyn/AOe8n5L/AIUeU/8Az3k/Jf8ACgCSjHGO1R+U/wDz3k/Jf8KPKf8A57yfkv8AhQBJRUflP/z3k/Jf8KPKf/nvJ+S/4UASUVH5T/8APeT8l/wo8p/+e8n5L/hQBJRUflP/AM95PyX/AAo8p/8AnvJ+S/4UASUVH5T/APPeT8l/wo8p/wDnvJ+S/wCFAElFR+U//PeT8l/wo8p/+e8n5L/hQBJRUflP/wA95PyX/Cjyn/57yfkv+FAElFR+U/8Az3k/Jf8ACjyn/wCe8n5L/hQBJUVtbRWdukFuuyNBhRknA/Gl8p/+e8n5L/hR5T/895PyX/CgCSoZrWKeaGWUMzQsWQbiADjGSOh/HpTvKf8A57yfkv8AhR5T/wDPeT8l/wAKAJKKj8p/+e8n5L/hR5T/APPeT8l/woAkoqPyn/57yfkv+FHlP/z3k/Jf8KAJKKj8p/8AnvJ+S/4UeU//AD3k/Jf8KAJKKj8p/wDnvJ+S/wCFHlP/AM95PyX/AAoAF/4+pP8AcX+bUU2NStzIC7P8i8nHq3pRQA5v+PqP/cb+a1JUbf8AH1H/ALjfzWpKACqi6rpzXxslv7U3YODbiZfMBxn7uc9Oat1y7Wmo/bnMgBsG1QOyJbt5oxtKuGyQV3AA4Xpnng0Le39dAe1zqKK5O1GotfT+ZLexzhJvO/dzMhHOzZu/d5HykbeT371XFxJHHZw3H9prbNeFXkRrnfMvkOeFb96ACBwCenB60LUDtKK5Qm4FrD/aH9q/Ztsv2fyPO83O/wDd+Zs+bOzGN/HXdzT/ACNUZXublrv7XC9rtWORxGchBL8oO1h97PBxz0o/r+v67B1sdRRXK7tRS41JbMXkszRTMksnmoqNu+VQr5QnB4ZCM45HNX/Dol/0kl7kwErsW5WYMrYO7Bm+Yjp7DHHehbAbdFFFABRRRQAUUUUAFFFFABRRRQAUUUUAFFFFABRRRQAUUUUAFFFFABRRRQAUUUUAFFFFABRRRQAUUUUAFFFFABRRRQAUUUUAFFFFABRRRQAUUUUAFFFFABUbf8fUf+4381qSo2/4+o/9xv5rQBJRRRQBHHcwSzSwxTRvLDjzEVgWTPIyO2akrKsLQW3iDUWig8qF4YdpVNqs2ZC2PU5OT9ankglk029it1kt5ZfMCM8m75iOGHJwM9u3pSegR1JLfU7C7uJLe0vbeeaL/WRxyqzJzjkA5HPFWq55ZkudPitLLTbqG5t7d1QvA0Qt28srhWIAbnj5SR3qCS5ur22uCn9o28a21updreUEvvbeAow/TAJXnBBGcU+rQdL/ANdDp8gMASMnoKWuWgt5prrSbuSC9jaNLiJN0szgEsNhfODghSfnHoD2qvnUP7PuPsB1TzvsD/afPEuftHy7fL3cf3/ufL09qaV3b+v6/wCAJuyudjRXOJYXEGoyvFJqBWG8iEIe4ldTGyrvyCSGGS3JzjtjFZyf2sbW9KyXy3gtJfNUJOQZf4TGW+QEHONnUGktRnYyzRwR755FjTIG5zgZJwB+JIFPrM1CCW30VYrE3DOssWD5jO5HmLuySSSMZz7e1U9Ka4XX7hJBeSq3mM0svmoifONqhWyh4PDIRkDkc0dQ6XNyOaOVpFikV2jba4U52nAOD6HBB/GnZG7GRnGcVzrW15d65LDcNeraNPJzHLJGNvlRbcMpBA3buh6596pRW2oDN5tvP7Ql0lERiZMeYu7OR90NyCM9+nelf+vlcf8AX4nYUVyUMV5NYyJby6h5D3VuuG+0LIq7/wB4Q0nz424zjgYOD1qa1S+TxCqSSXask7jkTvE0ODtGT+7zjbz97P40/wCvy/zJv/X3/wCR0xIUZYgD3pa4qS2uLrTryCVNSnCtFM8xa4jZisoLAIe4AJ/dkg8YA4q6RenxCAHvE/fJ5J2ztGYdoyG/5Z5+9kt8wP4ULUb0OmMiK6ozKGbO1SeTjrikmmit4XmuJEiiQbnd2Cqo9ST0rmtN3jUrSa4XUBPFHKb1pxJ5Svgfd3fLjrjZxjr2rU1ZvtOlwXMCSTRLNDOyLGSzIGDcL1JHXGM8dM0gL9tcwXlus9pNHPE33ZInDKfxFSMwVSzEBQMkk9KzdHzI1/ciKSKK4uN8SyIyMQI0Una2CuSp6/XvUeoWss3hlYILeRSoiZrZ3DuyKyloySSGJUFepznrTBF6z1Gy1FGbT7y3ulQ4YwSq4U++DVmufvrz7ZBLc6dZ3iSQrHumNvJE5USKzIqkBm+UHoPbviq97Nc3UM8oOoRQG8BjTyp0Lp5K8fJh0G7JzjGRyOaAOn3DcVyMgZIpa5I295/aFxfJBfQ3NxpUARfMd9rKX3qf4N4DDGepyR3qSOKe4uI4rNtTGmvcICZnnST/AFcm/l8OFzs9s9KbVnYP6/C51NFcnDbarBZtJbPfNcPb3S4mldxlZAIuGOA23OD/ABdTnrRbQ3c6LHFLqAtXuo1YMbhHUbW3/PId+0/L7A9OaT/r77B0udS80cbxpJIqtK21FY4LHBOB68An8KfWXqwuVexFoZwokcSGIFiB5L4z6/Nt698VB4aabyZ45VuSqFds1wZv3hI5wsvzLj0yRzwetAG3SFgoyxAGcc1y9vBqsFtDLA1411PZT+YJ5HZRKNvl/Kxwp6+me+aq31o17Yzparqr2UclrKwna4Em9ZgZNu75zhBnA4zjHNKOth2OweaON40kkVWlbaiscFjgnA9eAT+FOJCjLEAeprM1P7R5mn/ZPP2eY/mbd33fJfG7/gW3r3x3rBm068l0NoZf7QlM+nRyzBppS3nAgkDnKnr8oxnHSn/X5/5Et/1/XqdlRXKzC8OtII5L2NfMh+ynbcMvlYXcHH3Mn5wfM+YflTZYb6LTIpZmvyJbqb7Th5y4UM4jwE+ZVxj7uM8E8UdLj62OspAQc4IODg4rlJDfRf2e8jX1y4RdsSpPHnL9WYZGQuMiQc47c0k1rcWa3ywLfBX1DzLghp2zEUJBQrz97GdnI78Uf1+If1+B1pOBk8CkR1kjV42DowBVlOQQe4NcqBcC2tlvn1OSAxyeSYFnD79/yiTHzcLgAvwed3Nb+jo8eh2KSqyOttGGVhgghRkEetHT+vMXWxcooooGFFFFABRRRQAUUUUAFFFFABRRRQAUUUUARr/x9Sf7i/zaihf+PqT/AHF/m1FAA3/H1H/uN/NakpjxLIQW3ZHAIYj+VJ9nT1k/7+N/jQBJRUf2dPWT/v43+NH2dPWT/v43+NAElNeKOR0Z0VmjO5CRkqcEZHpwSPxpv2dPWT/v43+NH2dPWT/v43+NAElFR/Z09ZP+/jf40fZ09ZP+/jf40ASUVH9nT1k/7+N/jR9nT1k/7+N/jQBJRUf2dPWT/v43+NH2dPWT/v43+NAElFR/Z09ZP+/jf40fZ09ZP+/jf40ASUVH9nT1k/7+N/jR9nT1k/7+N/jQBJRUf2dPWT/v43+NH2dPWT/v43+NAElFR/Z09ZP+/jf40fZ09ZP+/jf40ASUVH9nT1k/7+N/jR9nT1k/7+N/jQBJRUf2dPWT/v43+NH2dPWT/v43+NAElFR/Z09ZP+/jf40fZ09ZP+/jf40ASUVH9nT1k/7+N/jR9nT1k/7+N/jQBJRUf2dPWT/v43+NH2dPWT/v43+NAElFR/Z09ZP+/jf40fZ09ZP+/jf40ASUVH9nT1k/7+N/jR9nT1k/7+N/jQBJRUf2dPWT/v43+NH2dPWT/v43+NAElFR/Z09ZP+/jf40fZ09ZP+/jf40ASUVH9nT1k/7+N/jR9nT1k/7+N/jQBJRUf2dPWT/v43+NH2dPWT/v43+NAElFR/Z09ZP+/jf40fZ09ZP+/jf40ASUVH9nT1k/7+N/jR9nT1k/7+N/jQBJRUf2dPWT/v43+NH2dPWT/v43+NAElFR/Z09ZP+/jf40fZ09ZP+/jf40ASUVH9nT1k/7+N/jR9nT1k/7+N/jQBJRUf2dPWT/v43+NH2dPWT/v43+NAElRt/x9R/7jfzWj7OnrJ/38b/Gk+zR5zmTPTPmN/jQBLRUf2dPWT/v43+NH2dPWT/v43+NAElFR/Z09ZP8Av43+NH2dPWT/AL+N/jQBJRUf2dPWT/v43+NH2dPWT/v43+NAElFR/Z09ZP8Av43+NH2dPWT/AL+N/jQBJRUf2dPWT/v43+NH2dPWT/v43+NAElFR/Z09ZP8Av43+NH2dPWT/AL+N/jQBJRUf2dPWT/v43+NH2dPWT/v43+NAElFR/Z09ZP8Av43+NH2dPWT/AL+N/jQBJRUf2dPWT/v43+NH2dPWT/v43+NAD3RZEZHUMrDDKRkEelKBgYHAqP7OnrJ/38b/ABo+zp6yf9/G/wAaAJKKj+zp6yf9/G/xo+zp6yf9/G/xoAkoqP7OnrJ/38b/ABo+zp6yf9/G/wAaAJKKj+zp6yf9/G/xo+zp6yf9/G/xoAkoqP7OnrJ/38b/ABo+zp6yf9/G/wAaAJKKj+zp6yf9/G/xo+zp6yf9/G/xoAkoqP7OnrJ/38b/ABo+zp6yf9/G/wAaAJKKj+zp6yf9/G/xo+zp6yf9/G/xoAkoqP7OnrJ/38b/ABo+zp6yf9/G/wAaAJKKj+zp6yf9/G/xo+zp6yf9/G/xoAkoqP7OnrJ/38b/ABo+zp6yf9/G/wAaAJKKj+zp6yf9/G/xo+zp6yf9/G/xoAkoqP7OnrJ/38b/ABo+zp6yf9/G/wAaAJKKj+zp6yf9/G/xo+zp6yf9/G/xoAkoqP7OnrJ/38b/ABo+zp6yf9/G/wAaAJKKj+zp6yf9/G/xo+zp6yf9/G/xoAkoqP7OnrJ/38b/ABo+zp6yf9/G/wAaAJKKj+zp6yf9/G/xo+zp6yf9/G/xoAF/4+pP9xf5tRSpEsZJXdk8Elif50UAPooooAKKKKACiiigAooooAKKKKACiiigAooooAKKKKACiiigAooooAKKKKACiiigAooooAKKKKACiiigAooooAKKKKACiiigAooooAKKKKACiiigAooooAKKKKACiiigAooooAKKKKACiiigAooooAKKKKACiiigAooooAKKKKACiiigAooooAKKKKACiiigAooooAKKKKACiiigAooooAKKKKACiiigAooooAKKKKACiiigAooooAKKKKACiiigAooooAKKKKACiiigAooooAKKKKACiiigAooooAKKKKAP/9k=)"
   ]
  },
  {
   "cell_type": "markdown",
   "metadata": {
    "id": "MM_kqOVc2b_8"
   },
   "source": [
    "**BUISNESS MODEL -**\n",
    "Predict, whether the customer would be interested in Vehicle insurance, we have information about demographics (gender, age, region code type), Vehicles (Vehicle Age, Damage), Policy (Premium, sourcing channel) etc."
   ]
  },
  {
   "cell_type": "code",
   "execution_count": 11,
   "metadata": {
    "execution": {
     "iopub.execute_input": "2021-06-27T18:00:49.644362Z",
     "iopub.status.busy": "2021-06-27T18:00:49.643957Z",
     "iopub.status.idle": "2021-06-27T18:00:49.654296Z",
     "shell.execute_reply": "2021-06-27T18:00:49.652438Z",
     "shell.execute_reply.started": "2021-06-27T18:00:49.644328Z"
    },
    "id": "XBx0BAUN7bne",
    "outputId": "83231dd6-f30d-4075-e78c-5b239c99a3ad"
   },
   "outputs": [
    {
     "data": {
      "text/plain": [
       "Index(['Gender', 'Age', 'Driving_License', 'Previously_Insured', 'Vehicle_Age',\n",
       "       'Vehicle_Damage', 'Annual_Premium', 'Vintage', 'Response'],\n",
       "      dtype='object')"
      ]
     },
     "execution_count": 11,
     "metadata": {},
     "output_type": "execute_result"
    }
   ],
   "source": [
    "df.columns"
   ]
  },
  {
   "cell_type": "code",
   "execution_count": 12,
   "metadata": {
    "execution": {
     "iopub.execute_input": "2021-06-27T18:00:51.298021Z",
     "iopub.status.busy": "2021-06-27T18:00:51.297596Z",
     "iopub.status.idle": "2021-06-27T18:00:51.303987Z",
     "shell.execute_reply": "2021-06-27T18:00:51.302630Z",
     "shell.execute_reply.started": "2021-06-27T18:00:51.297987Z"
    },
    "id": "X4Y6V04N_tG_"
   },
   "outputs": [],
   "source": [
    "feature=[ 'Gender', 'Age', 'Driving_License', 'Region_Code',\n",
    "       'Previously_Insured', 'Vehicle_Age', 'Vehicle_Damage', 'Annual_Premium',\n",
    "       'Policy_Sales_Channel', 'Vintage', 'Response']"
   ]
  },
  {
   "cell_type": "code",
   "execution_count": 13,
   "metadata": {
    "execution": {
     "iopub.execute_input": "2021-06-27T18:01:09.468068Z",
     "iopub.status.busy": "2021-06-27T18:01:09.467687Z",
     "iopub.status.idle": "2021-06-27T18:01:09.475806Z",
     "shell.execute_reply": "2021-06-27T18:01:09.474861Z",
     "shell.execute_reply.started": "2021-06-27T18:01:09.468037Z"
    },
    "id": "NdN19x_G_1lb",
    "outputId": "9964f6e8-e3cd-4695-933e-3f1ba1af1dd1"
   },
   "outputs": [
    {
     "data": {
      "text/plain": [
       "[(0, 'Gender'),\n",
       " (1, 'Age'),\n",
       " (2, 'Driving_License'),\n",
       " (3, 'Region_Code'),\n",
       " (4, 'Previously_Insured'),\n",
       " (5, 'Vehicle_Age'),\n",
       " (6, 'Vehicle_Damage'),\n",
       " (7, 'Annual_Premium'),\n",
       " (8, 'Policy_Sales_Channel'),\n",
       " (9, 'Vintage'),\n",
       " (10, 'Response')]"
      ]
     },
     "execution_count": 13,
     "metadata": {},
     "output_type": "execute_result"
    }
   ],
   "source": [
    "list(enumerate(feature))"
   ]
  },
  {
   "cell_type": "code",
   "execution_count": 14,
   "metadata": {
    "execution": {
     "iopub.execute_input": "2021-06-27T18:01:14.097454Z",
     "iopub.status.busy": "2021-06-27T18:01:14.096891Z",
     "iopub.status.idle": "2021-06-27T18:01:14.259563Z",
     "shell.execute_reply": "2021-06-27T18:01:14.258119Z",
     "shell.execute_reply.started": "2021-06-27T18:01:14.097417Z"
    },
    "id": "Q2vqV0durDhD",
    "outputId": "2748d253-991c-42f6-b0a8-1fd66cd66de3"
   },
   "outputs": [
    {
     "data": {
      "text/html": [
       "<div>\n",
       "<style scoped>\n",
       "    .dataframe tbody tr th:only-of-type {\n",
       "        vertical-align: middle;\n",
       "    }\n",
       "\n",
       "    .dataframe tbody tr th {\n",
       "        vertical-align: top;\n",
       "    }\n",
       "\n",
       "    .dataframe thead th {\n",
       "        text-align: right;\n",
       "    }\n",
       "</style>\n",
       "<table border=\"1\" class=\"dataframe\">\n",
       "  <thead>\n",
       "    <tr style=\"text-align: right;\">\n",
       "      <th></th>\n",
       "      <th>Skewed Values</th>\n",
       "    </tr>\n",
       "  </thead>\n",
       "  <tbody>\n",
       "    <tr>\n",
       "      <th>Age</th>\n",
       "      <td>0.672539</td>\n",
       "    </tr>\n",
       "    <tr>\n",
       "      <th>Driving_License</th>\n",
       "      <td>-21.595182</td>\n",
       "    </tr>\n",
       "    <tr>\n",
       "      <th>Previously_Insured</th>\n",
       "      <td>0.167747</td>\n",
       "    </tr>\n",
       "    <tr>\n",
       "      <th>Annual_Premium</th>\n",
       "      <td>1.766087</td>\n",
       "    </tr>\n",
       "    <tr>\n",
       "      <th>Vintage</th>\n",
       "      <td>0.003030</td>\n",
       "    </tr>\n",
       "    <tr>\n",
       "      <th>Response</th>\n",
       "      <td>2.301906</td>\n",
       "    </tr>\n",
       "  </tbody>\n",
       "</table>\n",
       "</div>"
      ],
      "text/plain": [
       "                    Skewed Values\n",
       "Age                      0.672539\n",
       "Driving_License        -21.595182\n",
       "Previously_Insured       0.167747\n",
       "Annual_Premium           1.766087\n",
       "Vintage                  0.003030\n",
       "Response                 2.301906"
      ]
     },
     "execution_count": 14,
     "metadata": {},
     "output_type": "execute_result"
    }
   ],
   "source": [
    "df.skew(axis=0).to_frame('Skewed Values')"
   ]
  },
  {
   "cell_type": "markdown",
   "metadata": {
    "id": "SNdqT2b6GMYw"
   },
   "source": [
    "**UNIVARIATE ANALYSIS**"
   ]
  },
  {
   "cell_type": "code",
   "execution_count": 15,
   "metadata": {
    "execution": {
     "iopub.execute_input": "2021-06-27T18:01:19.693895Z",
     "iopub.status.busy": "2021-06-27T18:01:19.693482Z",
     "iopub.status.idle": "2021-06-27T18:01:19.939995Z",
     "shell.execute_reply": "2021-06-27T18:01:19.938791Z",
     "shell.execute_reply.started": "2021-06-27T18:01:19.693863Z"
    },
    "id": "fgINI9dpEYCE",
    "outputId": "e8144767-0cb9-4844-86e4-f24624d0a5d8"
   },
   "outputs": [
    {
     "data": {
      "text/plain": [
       "<AxesSubplot:xlabel='Response', ylabel='count'>"
      ]
     },
     "execution_count": 15,
     "metadata": {},
     "output_type": "execute_result"
    },
    {
     "data": {
      "image/png": "[encoded data removed]",
      "text/plain": [
       "<Figure size 432x288 with 1 Axes>"
      ]
     },
     "metadata": {
      "needs_background": "light"
     },
     "output_type": "display_data"
    }
   ],
   "source": [
    "sns.countplot(df['Response'],palette=\"viridis\")"
   ]
  },
  {
   "cell_type": "markdown",
   "metadata": {},
   "source": [
    "the dataset is highly imbalanced"
   ]
  },
  {
   "cell_type": "code",
   "execution_count": 16,
   "metadata": {
    "execution": {
     "iopub.execute_input": "2021-06-27T18:01:23.447934Z",
     "iopub.status.busy": "2021-06-27T18:01:23.447464Z",
     "iopub.status.idle": "2021-06-27T18:01:23.464519Z",
     "shell.execute_reply": "2021-06-27T18:01:23.463002Z",
     "shell.execute_reply.started": "2021-06-27T18:01:23.447899Z"
    },
    "id": "sf7EjkoDKEql",
    "outputId": "c66af681-e174-46f0-96a4-236fb638b86e"
   },
   "outputs": [
    {
     "name": "stdout",
     "output_type": "stream",
     "text": [
      "Negative Responses % 87.74366388618479\n",
      "Positive Responses % 12.256336113815209\n"
     ]
    }
   ],
   "source": [
    "print('Negative Responses %',(df['Response'].value_counts()[0]/len(df))*100)\n",
    "print('Positive Responses %',(df['Response'].value_counts()[1]/len(df))*100)"
   ]
  },
  {
   "cell_type": "code",
   "execution_count": 17,
   "metadata": {},
   "outputs": [
    {
     "data": {
      "image/png": "[encoded data removed]",
      "text/plain": [
       "<Figure size 936x360 with 2 Axes>"
      ]
     },
     "metadata": {
      "needs_background": "light"
     },
     "output_type": "display_data"
    }
   ],
   "source": [
    "plt.figure(figsize = (13,5))\n",
    "plt.subplot(1,2,1)\n",
    "sns.countplot(df['Gender'],palette='husl')\n",
    "plt.title(\"count of male and female\")\n",
    "plt.subplot(1,2,2)\n",
    "sns.countplot(df['Gender'], hue = df['Response'],palette=\"husl\")\n",
    "plt.title(\"Response in Male and female category\")\n",
    "plt.show()"
   ]
  },
  {
   "cell_type": "markdown",
   "metadata": {},
   "source": [
    "1. The gender variable in the dataset is almost equally distributed.\n",
    "2. Male category is slightly greater than that of female and chances of buying the insurance is also little high."
   ]
  },
  {
   "cell_type": "code",
   "execution_count": 18,
   "metadata": {},
   "outputs": [
    {
     "data": {
      "text/plain": [
       "<AxesSubplot:xlabel='Age'>"
      ]
     },
     "execution_count": 18,
     "metadata": {},
     "output_type": "execute_result"
    },
    {
     "data": {
      "image/png": "[encoded data removed]",
      "text/plain": [
       "<Figure size 432x288 with 1 Axes>"
      ]
     },
     "metadata": {
      "needs_background": "light"
     },
     "output_type": "display_data"
    }
   ],
   "source": [
    "sns.boxplot(df['Age'])"
   ]
  },
  {
   "cell_type": "markdown",
   "metadata": {},
   "source": [
    "1. Young people below 30 are not interested in vehicle insurance. Reasons could be lack of experience, less maturity level and they don't have expensive vehicles yet.\n",
    "2. People aged between 30-60 are more likely to be interested.\n",
    "3. From the boxplot we can see that there no outlier in the data."
   ]
  },
  {
   "cell_type": "code",
   "execution_count": 19,
   "metadata": {
    "execution": {
     "iopub.execute_input": "2021-06-27T18:01:38.096932Z",
     "iopub.status.busy": "2021-06-27T18:01:38.096505Z",
     "iopub.status.idle": "2021-06-27T18:01:38.292567Z",
     "shell.execute_reply": "2021-06-27T18:01:38.291557Z",
     "shell.execute_reply.started": "2021-06-27T18:01:38.096898Z"
    },
    "id": "HIQ38NZLNvSI",
    "outputId": "eebb5fb8-e549-42fc-921d-62831b5cf1f8"
   },
   "outputs": [
    {
     "data": {
      "text/plain": [
       "<AxesSubplot:xlabel='Driving_License', ylabel='count'>"
      ]
     },
     "execution_count": 19,
     "metadata": {},
     "output_type": "execute_result"
    },
    {
     "data": {
      "image/png": "[encoded data removed]",
      "text/plain": [
       "<Figure size 432x288 with 1 Axes>"
      ]
     },
     "metadata": {
      "needs_background": "light"
     },
     "output_type": "display_data"
    }
   ],
   "source": [
    "sns.countplot(df['Driving_License'],hue=df['Response'])"
   ]
  },
  {
   "cell_type": "markdown",
   "metadata": {},
   "source": [
    "Customers who are interested in Vehicle Insurance almost all have driving license"
   ]
  },
  {
   "cell_type": "code",
   "execution_count": 20,
   "metadata": {},
   "outputs": [
    {
     "data": {
      "text/plain": [
       "<AxesSubplot:xlabel='Previously_Insured', ylabel='count'>"
      ]
     },
     "execution_count": 20,
     "metadata": {},
     "output_type": "execute_result"
    },
    {
     "data": {
      "image/png": "[encoded data removed]",
      "text/plain": [
       "<Figure size 432x288 with 1 Axes>"
      ]
     },
     "metadata": {
      "needs_background": "light"
     },
     "output_type": "display_data"
    }
   ],
   "source": [
    "sns.countplot(x='Previously_Insured',hue='Response',data=df,palette='husl')"
   ]
  },
  {
   "cell_type": "markdown",
   "metadata": {},
   "source": [
    "Customer who are not perviosly insured are likely to be inetrested"
   ]
  },
  {
   "cell_type": "code",
   "execution_count": 21,
   "metadata": {},
   "outputs": [
    {
     "data": {
      "text/plain": [
       "<AxesSubplot:xlabel='Vehicle_Age', ylabel='count'>"
      ]
     },
     "execution_count": 21,
     "metadata": {},
     "output_type": "execute_result"
    },
    {
     "data": {
      "image/png": "[encoded data removed]",
      "text/plain": [
       "<Figure size 432x288 with 1 Axes>"
      ]
     },
     "metadata": {
      "needs_background": "light"
     },
     "output_type": "display_data"
    }
   ],
   "source": [
    "sns.countplot(x='Vehicle_Age',hue='Response',data=df,palette='husl')"
   ]
  },
  {
   "cell_type": "markdown",
   "metadata": {},
   "source": [
    "1. Customers with vechicle age 1-2 years are more likely to interested as compared to the other two\n",
    "2. Customers with with Vehicle_Age <1 years have very less chance of buying Insurance"
   ]
  },
  {
   "cell_type": "code",
   "execution_count": 22,
   "metadata": {},
   "outputs": [
    {
     "data": {
      "image/png": "[encoded data removed]",
      "text/plain": [
       "<Figure size 936x504 with 1 Axes>"
      ]
     },
     "metadata": {
      "needs_background": "light"
     },
     "output_type": "display_data"
    }
   ],
   "source": [
    "plt.figure(figsize=(13,7))\n",
    "plt.subplot(2,1,1)\n",
    "sns.distplot(df['Annual_Premium'], color='green')\n",
    "plt.title(\"Distribution of Annual premium\")\n",
    "plt.show()"
   ]
  },
  {
   "cell_type": "markdown",
   "metadata": {},
   "source": [
    "From the distribution plot we can infer that the annual premimum variable is right skewed"
   ]
  },
  {
   "cell_type": "code",
   "execution_count": 23,
   "metadata": {},
   "outputs": [
    {
     "data": {
      "image/png": "[encoded data removed]",
      "text/plain": [
       "<Figure size 936x504 with 1 Axes>"
      ]
     },
     "metadata": {
      "needs_background": "light"
     },
     "output_type": "display_data"
    }
   ],
   "source": [
    "plt.figure(figsize=(13,7))\n",
    "plt.subplot(2,1,2)\n",
    "sns.boxplot(df['Annual_Premium'])\n",
    "plt.title(\"boxplot of Annual premium\")\n",
    "plt.show()"
   ]
  },
  {
   "cell_type": "markdown",
   "metadata": {},
   "source": [
    "From the boxplot we can observe lot of outliers in the variable"
   ]
  },
  {
   "cell_type": "code",
   "execution_count": 24,
   "metadata": {},
   "outputs": [
    {
     "data": {
      "text/plain": [
       "Text(0.5, 1.05, 'Pearson correlation of Features')"
      ]
     },
     "execution_count": 24,
     "metadata": {},
     "output_type": "execute_result"
    },
    {
     "data": {
      "image/png": "[encoded data removed]",
      "text/plain": [
       "<Figure size 720x720 with 2 Axes>"
      ]
     },
     "metadata": {
      "needs_background": "light"
     },
     "output_type": "display_data"
    }
   ],
   "source": [
    "corr = df.corr()\n",
    "f, ax = plt.subplots(figsize=(10,10))\n",
    "sns.heatmap(corr, ax=ax, annot=True,linewidths=3,cmap='YlGn')\n",
    "plt.title(\"Pearson correlation of Features\", y=1.05, size=15)"
   ]
  },
  {
   "cell_type": "code",
   "execution_count": 25,
   "metadata": {
    "execution": {
     "iopub.execute_input": "2021-06-27T18:01:42.474072Z",
     "iopub.status.busy": "2021-06-27T18:01:42.473593Z",
     "iopub.status.idle": "2021-06-27T18:01:49.259909Z",
     "shell.execute_reply": "2021-06-27T18:01:49.258916Z",
     "shell.execute_reply.started": "2021-06-27T18:01:42.474030Z"
    },
    "id": "h4PHr8QusZ2O",
    "outputId": "e3b8b095-e1f8-4f88-dcab-b779724328c4"
   },
   "outputs": [
    {
     "data": {
      "text/plain": [
       "Text(0.5, 1.0, 'Gender vs Response')"
      ]
     },
     "execution_count": 25,
     "metadata": {},
     "output_type": "execute_result"
    },
    {
     "data": {
      "image/png": "[encoded data removed]",
      "text/plain": [
       "<Figure size 360x360 with 1 Axes>"
      ]
     },
     "metadata": {
      "needs_background": "light"
     },
     "output_type": "display_data"
    }
   ],
   "source": [
    "sns.catplot(x='Response',y='Gender',data=df,kind='bar',palette=\"viridis\")\n",
    "plt.title('Gender vs Response',fontsize=15)"
   ]
  },
  {
   "cell_type": "markdown",
   "metadata": {
    "id": "ZcxFNyV3wXKF"
   },
   "source": [
    "From this graph we can clearly see that Male are having positive response towards insurance purchase while female are having negative response.Thus from this we can conclude that the most targeted customers are Male than Female.So, we need to focus on strengthening the Female customers buyers for buying the insurance."
   ]
  },
  {
   "cell_type": "code",
   "execution_count": 26,
   "metadata": {
    "execution": {
     "iopub.execute_input": "2021-06-27T18:04:02.184086Z",
     "iopub.status.busy": "2021-06-27T18:04:02.183631Z",
     "iopub.status.idle": "2021-06-27T18:04:02.190621Z",
     "shell.execute_reply": "2021-06-27T18:04:02.189617Z",
     "shell.execute_reply.started": "2021-06-27T18:04:02.184049Z"
    },
    "id": "NHKOMgyZl_v5",
    "outputId": "178e0221-88c2-4e36-a147-16d60e3b3ed3"
   },
   "outputs": [
    {
     "data": {
      "text/plain": [
       "Index(['Gender', 'Age', 'Driving_License', 'Previously_Insured', 'Vehicle_Age',\n",
       "       'Vehicle_Damage', 'Annual_Premium', 'Vintage', 'Response'],\n",
       "      dtype='object')"
      ]
     },
     "execution_count": 26,
     "metadata": {},
     "output_type": "execute_result"
    }
   ],
   "source": [
    "df.columns"
   ]
  },
  {
   "cell_type": "markdown",
   "metadata": {
    "id": "X3-RpznFFnBU"
   },
   "source": [
    "**MULTIVARIATE ANALYSIS**"
   ]
  },
  {
   "cell_type": "code",
   "execution_count": 27,
   "metadata": {
    "execution": {
     "iopub.execute_input": "2021-06-27T18:04:11.665655Z",
     "iopub.status.busy": "2021-06-27T18:04:11.665086Z",
     "iopub.status.idle": "2021-06-27T18:04:11.795489Z",
     "shell.execute_reply": "2021-06-27T18:04:11.794290Z",
     "shell.execute_reply.started": "2021-06-27T18:04:11.665617Z"
    },
    "id": "Mh07MrioAWf8"
   },
   "outputs": [],
   "source": [
    "bin=np.linspace(min(df['Age']),max(df['Age']),5)\n",
    "groups=['Young_Age','Medium_Age','Old_Age','Senior_Citizen']\n",
    "df['Age-binned']=pd.cut(df['Age'],bins=bin,labels=groups)"
   ]
  },
  {
   "cell_type": "code",
   "execution_count": 28,
   "metadata": {
    "execution": {
     "iopub.execute_input": "2021-06-27T18:04:12.809507Z",
     "iopub.status.busy": "2021-06-27T18:04:12.809101Z",
     "iopub.status.idle": "2021-06-27T18:04:13.170828Z",
     "shell.execute_reply": "2021-06-27T18:04:13.169025Z",
     "shell.execute_reply.started": "2021-06-27T18:04:12.809474Z"
    },
    "id": "2VG6dXLdB7cO",
    "outputId": "427c37e1-86f3-4078-cc40-a58131a953f8"
   },
   "outputs": [
    {
     "data": {
      "text/plain": [
       "Text(0, 0.5, 'Response')"
      ]
     },
     "execution_count": 28,
     "metadata": {},
     "output_type": "execute_result"
    },
    {
     "data": {
      "image/png": "[encoded data removed]",
      "text/plain": [
       "<Figure size 720x576 with 1 Axes>"
      ]
     },
     "metadata": {
      "needs_background": "light"
     },
     "output_type": "display_data"
    }
   ],
   "source": [
    "plt.figure(figsize=(10,8))\n",
    "sns.countplot(df['Age-binned'],hue=df['Response'],palette='viridis')\n",
    "plt.title('Response Vs Age Group')\n",
    "plt.ylabel('Response')"
   ]
  },
  {
   "cell_type": "markdown",
   "metadata": {
    "id": "JdXCF4BMSyzn"
   },
   "source": [
    "From the above graph again we can categorise which Age group people are having more positive positive response and negative response\n",
    "\n",
    "\n",
    "*   From this we can understand that people in Middle Age group are having more positive response and less negative response but the Young Age group are have more negative response than positive response and also the negative response among this group is more than any Age category group thus we need to increase the alertness or better the product offering for this category of Age group so that we get more positive response from this Age group and also from other Age group.\n",
    "\n",
    "\n"
   ]
  },
  {
   "cell_type": "code",
   "execution_count": 29,
   "metadata": {
    "execution": {
     "iopub.execute_input": "2021-06-27T18:04:19.178315Z",
     "iopub.status.busy": "2021-06-27T18:04:19.177901Z",
     "iopub.status.idle": "2021-06-27T18:04:25.034522Z",
     "shell.execute_reply": "2021-06-27T18:04:25.033253Z",
     "shell.execute_reply.started": "2021-06-27T18:04:19.178282Z"
    },
    "id": "Is-rbVAwCRwF",
    "outputId": "afcddabf-ab67-4e65-d010-f60721e85587"
   },
   "outputs": [
    {
     "data": {
      "text/plain": [
       "<seaborn.axisgrid.FacetGrid at 0x1a53dce2c88>"
      ]
     },
     "execution_count": 29,
     "metadata": {},
     "output_type": "execute_result"
    },
    {
     "data": {
      "image/png": "[encoded data removed]",
      "text/plain": [
       "<Figure size 821.25x360 with 2 Axes>"
      ]
     },
     "metadata": {
      "needs_background": "light"
     },
     "output_type": "display_data"
    }
   ],
   "source": [
    "sns.catplot(x='Gender',y='Age',hue='Previously_Insured',col='Response',data=df,kind='bar',palette='rocket')"
   ]
  },
  {
   "cell_type": "markdown",
   "metadata": {
    "id": "9awAHwFFWO2k"
   },
   "source": [
    "In this we can understand that the negative response among Male are little over the Age 40 for those who are not previously insured and also Age between 30 to 40 also have higher negative response and that same with female also who are not previously insured upto Age 40 and upto Age 30 for those previously insured"
   ]
  },
  {
   "cell_type": "code",
   "execution_count": 30,
   "metadata": {
    "execution": {
     "iopub.execute_input": "2021-06-27T18:04:31.119495Z",
     "iopub.status.busy": "2021-06-27T18:04:31.119040Z",
     "iopub.status.idle": "2021-06-27T18:04:37.216136Z",
     "shell.execute_reply": "2021-06-27T18:04:37.214588Z",
     "shell.execute_reply.started": "2021-06-27T18:04:31.119440Z"
    },
    "id": "ZIXsqhRVMP6r",
    "outputId": "d41548f7-7fcd-4002-c4d9-350d6952aa0e"
   },
   "outputs": [
    {
     "data": {
      "text/plain": [
       "<seaborn.axisgrid.FacetGrid at 0x1a53fae0b00>"
      ]
     },
     "execution_count": 30,
     "metadata": {},
     "output_type": "execute_result"
    },
    {
     "data": {
      "image/png": "[encoded data removed]",
      "text/plain": [
       "<Figure size 811.125x360 with 2 Axes>"
      ]
     },
     "metadata": {
      "needs_background": "light"
     },
     "output_type": "display_data"
    }
   ],
   "source": [
    "sns.catplot(x='Gender',y='Age',hue='Vehicle_Damage',col='Response',\n",
    "            data=df,kind='bar',palette='rocket')"
   ]
  },
  {
   "cell_type": "markdown",
   "metadata": {},
   "source": [
    "We can see that positive response for Male are above 40 for those who were not previously insured against those who were previously insured and same for Female also that Age little over 40 have more positive response for not previously insured against those who were already previously insured"
   ]
  },
  {
   "cell_type": "markdown",
   "metadata": {
    "id": "TkWG8o2nFy3D"
   },
   "source": [
    "**CHECKING SKEWNESS BUT THIS WILL RESOLVE AFTER RESAMPLING**"
   ]
  },
  {
   "cell_type": "code",
   "execution_count": 31,
   "metadata": {
    "execution": {
     "iopub.execute_input": "2021-06-27T18:47:17.389985Z",
     "iopub.status.busy": "2021-06-27T18:47:17.389496Z",
     "iopub.status.idle": "2021-06-27T18:47:17.545832Z",
     "shell.execute_reply": "2021-06-27T18:47:17.545010Z",
     "shell.execute_reply.started": "2021-06-27T18:47:17.389944Z"
    },
    "id": "w3uURjaVUQth",
    "outputId": "63b10a94-d882-4e57-8cc6-d4c54e0d3d9d"
   },
   "outputs": [
    {
     "data": {
      "text/plain": [
       "Age                    0.672539\n",
       "Driving_License      -21.595182\n",
       "Previously_Insured     0.167747\n",
       "Annual_Premium         1.766087\n",
       "Vintage                0.003030\n",
       "Response               2.301906\n",
       "dtype: float64"
      ]
     },
     "execution_count": 31,
     "metadata": {},
     "output_type": "execute_result"
    }
   ],
   "source": [
    "df.skew()"
   ]
  },
  {
   "cell_type": "markdown",
   "metadata": {
    "id": "xZWesoWnFtJf"
   },
   "source": [
    "**OUTLIER TREATMENT**"
   ]
  },
  {
   "cell_type": "code",
   "execution_count": 32,
   "metadata": {
    "execution": {
     "iopub.execute_input": "2021-06-27T18:47:38.510544Z",
     "iopub.status.busy": "2021-06-27T18:47:38.510184Z",
     "iopub.status.idle": "2021-06-27T18:47:42.025510Z",
     "shell.execute_reply": "2021-06-27T18:47:42.024413Z",
     "shell.execute_reply.started": "2021-06-27T18:47:38.510514Z"
    },
    "id": "O6dTBAmm9h5-",
    "outputId": "4dbc23b6-620b-4d5d-954c-80afdad0351b"
   },
   "outputs": [
    {
     "data": {
      "text/plain": [
       "<AxesSubplot:xlabel='Response', ylabel='Vintage'>"
      ]
     },
     "execution_count": 32,
     "metadata": {},
     "output_type": "execute_result"
    },
    {
     "data": {
      "image/png": "[encoded data removed]",
      "text/plain": [
       "<Figure size 1584x1440 with 8 Axes>"
      ]
     },
     "metadata": {
      "needs_background": "light"
     },
     "output_type": "display_data"
    }
   ],
   "source": [
    "fig, axes = plt.subplots(4,2, figsize=(22,20))\n",
    "\n",
    "sns.boxplot(ax=axes[0, 0], data=df, x='Response', y='Gender')\n",
    "sns.boxplot(ax=axes[0, 1], data=df, x='Response', y='Age')\n",
    "sns.boxplot(ax=axes[1, 0], data=df, x='Response', y='Driving_License')\n",
    "sns.boxplot(ax=axes[1, 1], data=df, x='Response', y='Previously_Insured')\n",
    "sns.boxplot(ax=axes[2, 0], data=df, x='Response', y='Vehicle_Age')\n",
    "sns.boxplot(ax=axes[2, 1], data=df, x='Response', y='Vehicle_Damage')\n",
    "sns.boxplot(ax=axes[3, 0], data=df, x='Response', y='Annual_Premium')\n",
    "sns.boxplot(ax=axes[3, 1], data=df, x='Response', y='Vintage')"
   ]
  },
  {
   "cell_type": "code",
   "execution_count": 33,
   "metadata": {
    "execution": {
     "iopub.execute_input": "2021-06-27T18:47:46.845673Z",
     "iopub.status.busy": "2021-06-27T18:47:46.845096Z",
     "iopub.status.idle": "2021-06-27T18:47:46.851784Z",
     "shell.execute_reply": "2021-06-27T18:47:46.850886Z",
     "shell.execute_reply.started": "2021-06-27T18:47:46.845637Z"
    },
    "id": "r0kkterfxspq"
   },
   "outputs": [],
   "source": [
    "def outlier_treatment(datacolumn):\n",
    "     sorted(datacolumn)\n",
    "     Q1,Q3 = np.percentile(datacolumn , [25,75])\n",
    "     IQR = Q3 - Q1\n",
    "     lower_range = Q1 - (1.5 * IQR)\n",
    "     upper_range = Q3 + (1.5 * IQR)\n",
    "     return lower_range,upper_range"
   ]
  },
  {
   "cell_type": "code",
   "execution_count": 34,
   "metadata": {
    "execution": {
     "iopub.execute_input": "2021-06-27T18:47:50.825809Z",
     "iopub.status.busy": "2021-06-27T18:47:50.825156Z",
     "iopub.status.idle": "2021-06-27T18:47:51.003429Z",
     "shell.execute_reply": "2021-06-27T18:47:51.002652Z",
     "shell.execute_reply.started": "2021-06-27T18:47:50.825769Z"
    },
    "id": "naZXl0rUEeQI"
   },
   "outputs": [],
   "source": [
    "lowerbound,upperbound = outlier_treatment(df.Annual_Premium)"
   ]
  },
  {
   "cell_type": "code",
   "execution_count": 35,
   "metadata": {
    "execution": {
     "iopub.execute_input": "2021-06-27T18:47:51.438151Z",
     "iopub.status.busy": "2021-06-27T18:47:51.437786Z",
     "iopub.status.idle": "2021-06-27T18:47:51.472486Z",
     "shell.execute_reply": "2021-06-27T18:47:51.471188Z",
     "shell.execute_reply.started": "2021-06-27T18:47:51.438115Z"
    },
    "id": "0jqXUztCEmsO",
    "outputId": "aab581a4-8b3f-4b40-c083-ca8af57e0749"
   },
   "outputs": [
    {
     "data": {
      "text/html": [
       "<div>\n",
       "<style scoped>\n",
       "    .dataframe tbody tr th:only-of-type {\n",
       "        vertical-align: middle;\n",
       "    }\n",
       "\n",
       "    .dataframe tbody tr th {\n",
       "        vertical-align: top;\n",
       "    }\n",
       "\n",
       "    .dataframe thead th {\n",
       "        text-align: right;\n",
       "    }\n",
       "</style>\n",
       "<table border=\"1\" class=\"dataframe\">\n",
       "  <thead>\n",
       "    <tr style=\"text-align: right;\">\n",
       "      <th></th>\n",
       "      <th>Gender</th>\n",
       "      <th>Age</th>\n",
       "      <th>Driving_License</th>\n",
       "      <th>Previously_Insured</th>\n",
       "      <th>Vehicle_Age</th>\n",
       "      <th>Vehicle_Damage</th>\n",
       "      <th>Annual_Premium</th>\n",
       "      <th>Vintage</th>\n",
       "      <th>Response</th>\n",
       "      <th>Age-binned</th>\n",
       "    </tr>\n",
       "  </thead>\n",
       "  <tbody>\n",
       "    <tr>\n",
       "      <th>25</th>\n",
       "      <td>Female</td>\n",
       "      <td>21</td>\n",
       "      <td>1</td>\n",
       "      <td>1</td>\n",
       "      <td>&lt; 1 Year</td>\n",
       "      <td>No</td>\n",
       "      <td>61964.0</td>\n",
       "      <td>72</td>\n",
       "      <td>0</td>\n",
       "      <td>Young_Age</td>\n",
       "    </tr>\n",
       "    <tr>\n",
       "      <th>37</th>\n",
       "      <td>Female</td>\n",
       "      <td>25</td>\n",
       "      <td>1</td>\n",
       "      <td>1</td>\n",
       "      <td>&lt; 1 Year</td>\n",
       "      <td>No</td>\n",
       "      <td>76251.0</td>\n",
       "      <td>107</td>\n",
       "      <td>0</td>\n",
       "      <td>Young_Age</td>\n",
       "    </tr>\n",
       "    <tr>\n",
       "      <th>67</th>\n",
       "      <td>Male</td>\n",
       "      <td>60</td>\n",
       "      <td>1</td>\n",
       "      <td>0</td>\n",
       "      <td>1-2 Year</td>\n",
       "      <td>Yes</td>\n",
       "      <td>66338.0</td>\n",
       "      <td>73</td>\n",
       "      <td>0</td>\n",
       "      <td>Old_Age</td>\n",
       "    </tr>\n",
       "    <tr>\n",
       "      <th>139</th>\n",
       "      <td>Male</td>\n",
       "      <td>21</td>\n",
       "      <td>1</td>\n",
       "      <td>1</td>\n",
       "      <td>&lt; 1 Year</td>\n",
       "      <td>No</td>\n",
       "      <td>62164.0</td>\n",
       "      <td>116</td>\n",
       "      <td>0</td>\n",
       "      <td>Young_Age</td>\n",
       "    </tr>\n",
       "    <tr>\n",
       "      <th>149</th>\n",
       "      <td>Female</td>\n",
       "      <td>22</td>\n",
       "      <td>1</td>\n",
       "      <td>1</td>\n",
       "      <td>&lt; 1 Year</td>\n",
       "      <td>No</td>\n",
       "      <td>76651.0</td>\n",
       "      <td>258</td>\n",
       "      <td>0</td>\n",
       "      <td>Young_Age</td>\n",
       "    </tr>\n",
       "    <tr>\n",
       "      <th>...</th>\n",
       "      <td>...</td>\n",
       "      <td>...</td>\n",
       "      <td>...</td>\n",
       "      <td>...</td>\n",
       "      <td>...</td>\n",
       "      <td>...</td>\n",
       "      <td>...</td>\n",
       "      <td>...</td>\n",
       "      <td>...</td>\n",
       "      <td>...</td>\n",
       "    </tr>\n",
       "    <tr>\n",
       "      <th>380959</th>\n",
       "      <td>Male</td>\n",
       "      <td>25</td>\n",
       "      <td>1</td>\n",
       "      <td>1</td>\n",
       "      <td>&lt; 1 Year</td>\n",
       "      <td>No</td>\n",
       "      <td>61909.0</td>\n",
       "      <td>161</td>\n",
       "      <td>0</td>\n",
       "      <td>Young_Age</td>\n",
       "    </tr>\n",
       "    <tr>\n",
       "      <th>380998</th>\n",
       "      <td>Female</td>\n",
       "      <td>33</td>\n",
       "      <td>1</td>\n",
       "      <td>0</td>\n",
       "      <td>1-2 Year</td>\n",
       "      <td>Yes</td>\n",
       "      <td>101664.0</td>\n",
       "      <td>21</td>\n",
       "      <td>0</td>\n",
       "      <td>Young_Age</td>\n",
       "    </tr>\n",
       "    <tr>\n",
       "      <th>381035</th>\n",
       "      <td>Female</td>\n",
       "      <td>22</td>\n",
       "      <td>1</td>\n",
       "      <td>1</td>\n",
       "      <td>&lt; 1 Year</td>\n",
       "      <td>No</td>\n",
       "      <td>62889.0</td>\n",
       "      <td>295</td>\n",
       "      <td>0</td>\n",
       "      <td>Young_Age</td>\n",
       "    </tr>\n",
       "    <tr>\n",
       "      <th>381047</th>\n",
       "      <td>Female</td>\n",
       "      <td>52</td>\n",
       "      <td>1</td>\n",
       "      <td>1</td>\n",
       "      <td>1-2 Year</td>\n",
       "      <td>No</td>\n",
       "      <td>71915.0</td>\n",
       "      <td>233</td>\n",
       "      <td>0</td>\n",
       "      <td>Medium_Age</td>\n",
       "    </tr>\n",
       "    <tr>\n",
       "      <th>381079</th>\n",
       "      <td>Male</td>\n",
       "      <td>33</td>\n",
       "      <td>1</td>\n",
       "      <td>0</td>\n",
       "      <td>&lt; 1 Year</td>\n",
       "      <td>Yes</td>\n",
       "      <td>69845.0</td>\n",
       "      <td>115</td>\n",
       "      <td>0</td>\n",
       "      <td>Young_Age</td>\n",
       "    </tr>\n",
       "  </tbody>\n",
       "</table>\n",
       "<p>10320 rows × 10 columns</p>\n",
       "</div>"
      ],
      "text/plain": [
       "        Gender  Age  Driving_License  Previously_Insured Vehicle_Age  \\\n",
       "25      Female   21                1                   1    < 1 Year   \n",
       "37      Female   25                1                   1    < 1 Year   \n",
       "67        Male   60                1                   0    1-2 Year   \n",
       "139       Male   21                1                   1    < 1 Year   \n",
       "149     Female   22                1                   1    < 1 Year   \n",
       "...        ...  ...              ...                 ...         ...   \n",
       "380959    Male   25                1                   1    < 1 Year   \n",
       "380998  Female   33                1                   0    1-2 Year   \n",
       "381035  Female   22                1                   1    < 1 Year   \n",
       "381047  Female   52                1                   1    1-2 Year   \n",
       "381079    Male   33                1                   0    < 1 Year   \n",
       "\n",
       "       Vehicle_Damage  Annual_Premium  Vintage  Response  Age-binned  \n",
       "25                 No         61964.0       72         0   Young_Age  \n",
       "37                 No         76251.0      107         0   Young_Age  \n",
       "67                Yes         66338.0       73         0     Old_Age  \n",
       "139                No         62164.0      116         0   Young_Age  \n",
       "149                No         76651.0      258         0   Young_Age  \n",
       "...               ...             ...      ...       ...         ...  \n",
       "380959             No         61909.0      161         0   Young_Age  \n",
       "380998            Yes        101664.0       21         0   Young_Age  \n",
       "381035             No         62889.0      295         0   Young_Age  \n",
       "381047             No         71915.0      233         0  Medium_Age  \n",
       "381079            Yes         69845.0      115         0   Young_Age  \n",
       "\n",
       "[10320 rows x 10 columns]"
      ]
     },
     "execution_count": 35,
     "metadata": {},
     "output_type": "execute_result"
    }
   ],
   "source": [
    "df[(df.Annual_Premium < lowerbound) | (df.Annual_Premium > upperbound)]"
   ]
  },
  {
   "cell_type": "code",
   "execution_count": 36,
   "metadata": {
    "execution": {
     "iopub.execute_input": "2021-06-27T18:47:52.310942Z",
     "iopub.status.busy": "2021-06-27T18:47:52.310561Z",
     "iopub.status.idle": "2021-06-27T18:47:52.352057Z",
     "shell.execute_reply": "2021-06-27T18:47:52.351216Z",
     "shell.execute_reply.started": "2021-06-27T18:47:52.310910Z"
    },
    "id": "TNfofeenEu7W"
   },
   "outputs": [],
   "source": [
    "df.drop(df[ (df.Annual_Premium > upperbound) | (df.Annual_Premium < lowerbound) ].index , inplace=True)"
   ]
  },
  {
   "cell_type": "code",
   "execution_count": 37,
   "metadata": {
    "execution": {
     "iopub.execute_input": "2021-06-27T18:47:53.345695Z",
     "iopub.status.busy": "2021-06-27T18:47:53.345197Z",
     "iopub.status.idle": "2021-06-27T18:47:53.838651Z",
     "shell.execute_reply": "2021-06-27T18:47:53.837544Z",
     "shell.execute_reply.started": "2021-06-27T18:47:53.345655Z"
    },
    "id": "gH9M19ReFBL4",
    "outputId": "f993be91-cf45-4b71-c167-dd92fbffa39e",
    "scrolled": true
   },
   "outputs": [
    {
     "data": {
      "text/plain": [
       "<AxesSubplot:xlabel='Response', ylabel='Annual_Premium'>"
      ]
     },
     "execution_count": 37,
     "metadata": {},
     "output_type": "execute_result"
    },
    {
     "data": {
      "image/png": "[encoded data removed]",
      "text/plain": [
       "<Figure size 432x288 with 1 Axes>"
      ]
     },
     "metadata": {
      "needs_background": "light"
     },
     "output_type": "display_data"
    }
   ],
   "source": [
    "sns.boxplot( x='Response', y='Annual_Premium',data=df,palette='Spectral')"
   ]
  },
  {
   "cell_type": "code",
   "execution_count": 38,
   "metadata": {
    "execution": {
     "iopub.execute_input": "2021-06-27T18:47:54.374728Z",
     "iopub.status.busy": "2021-06-27T18:47:54.374326Z",
     "iopub.status.idle": "2021-06-27T18:47:54.380540Z",
     "shell.execute_reply": "2021-06-27T18:47:54.379781Z",
     "shell.execute_reply.started": "2021-06-27T18:47:54.374681Z"
    },
    "id": "_hxizVI5SlY2",
    "outputId": "947f9656-c2c2-4610-f6c1-73686f72ef00"
   },
   "outputs": [
    {
     "data": {
      "text/plain": [
       "Index(['Gender', 'Age', 'Driving_License', 'Previously_Insured', 'Vehicle_Age',\n",
       "       'Vehicle_Damage', 'Annual_Premium', 'Vintage', 'Response',\n",
       "       'Age-binned'],\n",
       "      dtype='object')"
      ]
     },
     "execution_count": 38,
     "metadata": {},
     "output_type": "execute_result"
    }
   ],
   "source": [
    "df.columns"
   ]
  },
  {
   "cell_type": "markdown",
   "metadata": {
    "id": "KuVSxvwVFZX9"
   },
   "source": [
    "**LABEL ENCODING - CONVERTING CATEGORICAL TO NUMERIC VALUE**"
   ]
  },
  {
   "cell_type": "code",
   "execution_count": 39,
   "metadata": {
    "execution": {
     "iopub.execute_input": "2021-06-27T18:48:02.398132Z",
     "iopub.status.busy": "2021-06-27T18:48:02.397601Z",
     "iopub.status.idle": "2021-06-27T18:48:02.443568Z",
     "shell.execute_reply": "2021-06-27T18:48:02.442821Z",
     "shell.execute_reply.started": "2021-06-27T18:48:02.398100Z"
    },
    "id": "w-_Nnz3vb51W"
   },
   "outputs": [],
   "source": [
    "df['Gender'] = pd.get_dummies(df['Gender'],drop_first=True)"
   ]
  },
  {
   "cell_type": "code",
   "execution_count": 40,
   "metadata": {
    "execution": {
     "iopub.execute_input": "2021-06-27T18:48:03.040270Z",
     "iopub.status.busy": "2021-06-27T18:48:03.039777Z",
     "iopub.status.idle": "2021-06-27T18:48:03.339435Z",
     "shell.execute_reply": "2021-06-27T18:48:03.338073Z",
     "shell.execute_reply.started": "2021-06-27T18:48:03.040238Z"
    },
    "id": "h3CCMqn8bs-w"
   },
   "outputs": [],
   "source": [
    "label = LabelEncoder()\n",
    "df['Vehicle_Age']=label.fit_transform(df['Vehicle_Age'])\n",
    "df['Vehicle_Damage']=label.fit_transform(df['Vehicle_Damage'])\n",
    "df['Gender']=pd.get_dummies(df[\"Gender\"],drop_first=True)"
   ]
  },
  {
   "cell_type": "code",
   "execution_count": 41,
   "metadata": {
    "execution": {
     "iopub.execute_input": "2021-06-27T18:48:03.888303Z",
     "iopub.status.busy": "2021-06-27T18:48:03.887915Z",
     "iopub.status.idle": "2021-06-27T18:48:03.894080Z",
     "shell.execute_reply": "2021-06-27T18:48:03.893368Z",
     "shell.execute_reply.started": "2021-06-27T18:48:03.888271Z"
    },
    "id": "vWCngsI3kDoV",
    "outputId": "231a8e31-bf49-47f0-d399-9b7efe110f15"
   },
   "outputs": [
    {
     "data": {
      "text/plain": [
       "Index(['Gender', 'Age', 'Driving_License', 'Previously_Insured', 'Vehicle_Age',\n",
       "       'Vehicle_Damage', 'Annual_Premium', 'Vintage', 'Response',\n",
       "       'Age-binned'],\n",
       "      dtype='object')"
      ]
     },
     "execution_count": 41,
     "metadata": {},
     "output_type": "execute_result"
    }
   ],
   "source": [
    "df.columns"
   ]
  },
  {
   "cell_type": "code",
   "execution_count": 42,
   "metadata": {
    "execution": {
     "iopub.execute_input": "2021-06-27T18:48:04.810207Z",
     "iopub.status.busy": "2021-06-27T18:48:04.809549Z",
     "iopub.status.idle": "2021-06-27T18:48:04.813956Z",
     "shell.execute_reply": "2021-06-27T18:48:04.813184Z",
     "shell.execute_reply.started": "2021-06-27T18:48:04.810170Z"
    },
    "id": "-m-hTKfcSz19"
   },
   "outputs": [],
   "source": [
    "feature = [ 'Gender', 'Driving_License', \n",
    "       'Previously_Insured', 'Vehicle_Age', 'Vehicle_Damage','Vintage'\n",
    "       'Response']"
   ]
  },
  {
   "cell_type": "code",
   "execution_count": 43,
   "metadata": {},
   "outputs": [],
   "source": [
    "x=df.iloc[:,:-1]"
   ]
  },
  {
   "cell_type": "code",
   "execution_count": 44,
   "metadata": {},
   "outputs": [
    {
     "data": {
      "text/html": [
       "<div>\n",
       "<style scoped>\n",
       "    .dataframe tbody tr th:only-of-type {\n",
       "        vertical-align: middle;\n",
       "    }\n",
       "\n",
       "    .dataframe tbody tr th {\n",
       "        vertical-align: top;\n",
       "    }\n",
       "\n",
       "    .dataframe thead th {\n",
       "        text-align: right;\n",
       "    }\n",
       "</style>\n",
       "<table border=\"1\" class=\"dataframe\">\n",
       "  <thead>\n",
       "    <tr style=\"text-align: right;\">\n",
       "      <th></th>\n",
       "      <th>Gender</th>\n",
       "      <th>Age</th>\n",
       "      <th>Driving_License</th>\n",
       "      <th>Previously_Insured</th>\n",
       "      <th>Vehicle_Age</th>\n",
       "      <th>Vehicle_Damage</th>\n",
       "      <th>Annual_Premium</th>\n",
       "      <th>Vintage</th>\n",
       "      <th>Response</th>\n",
       "    </tr>\n",
       "  </thead>\n",
       "  <tbody>\n",
       "    <tr>\n",
       "      <th>0</th>\n",
       "      <td>1</td>\n",
       "      <td>44</td>\n",
       "      <td>1</td>\n",
       "      <td>0</td>\n",
       "      <td>2</td>\n",
       "      <td>1</td>\n",
       "      <td>40454.0</td>\n",
       "      <td>217</td>\n",
       "      <td>1</td>\n",
       "    </tr>\n",
       "    <tr>\n",
       "      <th>1</th>\n",
       "      <td>1</td>\n",
       "      <td>76</td>\n",
       "      <td>1</td>\n",
       "      <td>0</td>\n",
       "      <td>0</td>\n",
       "      <td>0</td>\n",
       "      <td>33536.0</td>\n",
       "      <td>183</td>\n",
       "      <td>0</td>\n",
       "    </tr>\n",
       "    <tr>\n",
       "      <th>2</th>\n",
       "      <td>1</td>\n",
       "      <td>47</td>\n",
       "      <td>1</td>\n",
       "      <td>0</td>\n",
       "      <td>2</td>\n",
       "      <td>1</td>\n",
       "      <td>38294.0</td>\n",
       "      <td>27</td>\n",
       "      <td>1</td>\n",
       "    </tr>\n",
       "    <tr>\n",
       "      <th>3</th>\n",
       "      <td>1</td>\n",
       "      <td>21</td>\n",
       "      <td>1</td>\n",
       "      <td>1</td>\n",
       "      <td>1</td>\n",
       "      <td>0</td>\n",
       "      <td>28619.0</td>\n",
       "      <td>203</td>\n",
       "      <td>0</td>\n",
       "    </tr>\n",
       "    <tr>\n",
       "      <th>4</th>\n",
       "      <td>0</td>\n",
       "      <td>29</td>\n",
       "      <td>1</td>\n",
       "      <td>1</td>\n",
       "      <td>1</td>\n",
       "      <td>0</td>\n",
       "      <td>27496.0</td>\n",
       "      <td>39</td>\n",
       "      <td>0</td>\n",
       "    </tr>\n",
       "    <tr>\n",
       "      <th>...</th>\n",
       "      <td>...</td>\n",
       "      <td>...</td>\n",
       "      <td>...</td>\n",
       "      <td>...</td>\n",
       "      <td>...</td>\n",
       "      <td>...</td>\n",
       "      <td>...</td>\n",
       "      <td>...</td>\n",
       "      <td>...</td>\n",
       "    </tr>\n",
       "    <tr>\n",
       "      <th>381104</th>\n",
       "      <td>1</td>\n",
       "      <td>74</td>\n",
       "      <td>1</td>\n",
       "      <td>1</td>\n",
       "      <td>0</td>\n",
       "      <td>0</td>\n",
       "      <td>30170.0</td>\n",
       "      <td>88</td>\n",
       "      <td>0</td>\n",
       "    </tr>\n",
       "    <tr>\n",
       "      <th>381105</th>\n",
       "      <td>1</td>\n",
       "      <td>30</td>\n",
       "      <td>1</td>\n",
       "      <td>1</td>\n",
       "      <td>1</td>\n",
       "      <td>0</td>\n",
       "      <td>40016.0</td>\n",
       "      <td>131</td>\n",
       "      <td>0</td>\n",
       "    </tr>\n",
       "    <tr>\n",
       "      <th>381106</th>\n",
       "      <td>1</td>\n",
       "      <td>21</td>\n",
       "      <td>1</td>\n",
       "      <td>1</td>\n",
       "      <td>1</td>\n",
       "      <td>0</td>\n",
       "      <td>35118.0</td>\n",
       "      <td>161</td>\n",
       "      <td>0</td>\n",
       "    </tr>\n",
       "    <tr>\n",
       "      <th>381107</th>\n",
       "      <td>0</td>\n",
       "      <td>68</td>\n",
       "      <td>1</td>\n",
       "      <td>0</td>\n",
       "      <td>2</td>\n",
       "      <td>1</td>\n",
       "      <td>44617.0</td>\n",
       "      <td>74</td>\n",
       "      <td>0</td>\n",
       "    </tr>\n",
       "    <tr>\n",
       "      <th>381108</th>\n",
       "      <td>1</td>\n",
       "      <td>46</td>\n",
       "      <td>1</td>\n",
       "      <td>0</td>\n",
       "      <td>0</td>\n",
       "      <td>0</td>\n",
       "      <td>41777.0</td>\n",
       "      <td>237</td>\n",
       "      <td>0</td>\n",
       "    </tr>\n",
       "  </tbody>\n",
       "</table>\n",
       "<p>370789 rows × 9 columns</p>\n",
       "</div>"
      ],
      "text/plain": [
       "        Gender  Age  Driving_License  Previously_Insured  Vehicle_Age  \\\n",
       "0            1   44                1                   0            2   \n",
       "1            1   76                1                   0            0   \n",
       "2            1   47                1                   0            2   \n",
       "3            1   21                1                   1            1   \n",
       "4            0   29                1                   1            1   \n",
       "...        ...  ...              ...                 ...          ...   \n",
       "381104       1   74                1                   1            0   \n",
       "381105       1   30                1                   1            1   \n",
       "381106       1   21                1                   1            1   \n",
       "381107       0   68                1                   0            2   \n",
       "381108       1   46                1                   0            0   \n",
       "\n",
       "        Vehicle_Damage  Annual_Premium  Vintage  Response  \n",
       "0                    1         40454.0      217         1  \n",
       "1                    0         33536.0      183         0  \n",
       "2                    1         38294.0       27         1  \n",
       "3                    0         28619.0      203         0  \n",
       "4                    0         27496.0       39         0  \n",
       "...                ...             ...      ...       ...  \n",
       "381104               0         30170.0       88         0  \n",
       "381105               0         40016.0      131         0  \n",
       "381106               0         35118.0      161         0  \n",
       "381107               1         44617.0       74         0  \n",
       "381108               0         41777.0      237         0  \n",
       "\n",
       "[370789 rows x 9 columns]"
      ]
     },
     "execution_count": 44,
     "metadata": {},
     "output_type": "execute_result"
    }
   ],
   "source": [
    "x"
   ]
  },
  {
   "cell_type": "code",
   "execution_count": 45,
   "metadata": {},
   "outputs": [],
   "source": [
    "y=df['Response']"
   ]
  },
  {
   "cell_type": "code",
   "execution_count": 46,
   "metadata": {},
   "outputs": [
    {
     "data": {
      "text/plain": [
       "0         1\n",
       "1         0\n",
       "2         1\n",
       "3         0\n",
       "4         0\n",
       "         ..\n",
       "381104    0\n",
       "381105    0\n",
       "381106    0\n",
       "381107    0\n",
       "381108    0\n",
       "Name: Response, Length: 370789, dtype: int64"
      ]
     },
     "execution_count": 46,
     "metadata": {},
     "output_type": "execute_result"
    }
   ],
   "source": [
    "y"
   ]
  },
  {
   "cell_type": "markdown",
   "metadata": {},
   "source": [
    "**MODEL RESAMPLING - AS THE DATASET IS IMBALANCED**"
   ]
  },
  {
   "cell_type": "markdown",
   "metadata": {},
   "source": [
    "**RANDOM SAMPLING**"
   ]
  },
  {
   "cell_type": "code",
   "execution_count": 47,
   "metadata": {},
   "outputs": [],
   "source": [
    "from imblearn.over_sampling import RandomOverSampler"
   ]
  },
  {
   "cell_type": "code",
   "execution_count": 48,
   "metadata": {},
   "outputs": [
    {
     "name": "stdout",
     "output_type": "stream",
     "text": [
      "Original dataset shape Counter({0: 325634, 1: 45155})\n",
      "Resampled dataset shape Counter({1: 325634, 0: 325634})\n"
     ]
    },
    {
     "data": {
      "text/plain": [
       "<AxesSubplot:xlabel='Response', ylabel='count'>"
      ]
     },
     "execution_count": 48,
     "metadata": {},
     "output_type": "execute_result"
    },
    {
     "data": {
      "image/png": "[encoded data removed]",
      "text/plain": [
       "<Figure size 432x288 with 1 Axes>"
      ]
     },
     "metadata": {
      "needs_background": "light"
     },
     "output_type": "display_data"
    }
   ],
   "source": [
    "randomsample=  RandomOverSampler()\n",
    "x_new,y_new=randomsample.fit_resample(x,y)\n",
    "\n",
    "from collections import Counter\n",
    "print('Original dataset shape {}'.format(Counter(y)))\n",
    "print('Resampled dataset shape {}'.format(Counter(y_new)))\n",
    "sns.countplot(y_new,palette='husl')"
   ]
  },
  {
   "cell_type": "code",
   "execution_count": 49,
   "metadata": {},
   "outputs": [],
   "source": [
    "x_train,x_test,y_train,y_test=train_test_split(x_new,y_new,test_size=0.3,random_state=0)"
   ]
  },
  {
   "cell_type": "code",
   "execution_count": 50,
   "metadata": {},
   "outputs": [
    {
     "data": {
      "text/html": [
       "<div>\n",
       "<style scoped>\n",
       "    .dataframe tbody tr th:only-of-type {\n",
       "        vertical-align: middle;\n",
       "    }\n",
       "\n",
       "    .dataframe tbody tr th {\n",
       "        vertical-align: top;\n",
       "    }\n",
       "\n",
       "    .dataframe thead th {\n",
       "        text-align: right;\n",
       "    }\n",
       "</style>\n",
       "<table border=\"1\" class=\"dataframe\">\n",
       "  <thead>\n",
       "    <tr style=\"text-align: right;\">\n",
       "      <th></th>\n",
       "      <th>Gender</th>\n",
       "      <th>Age</th>\n",
       "      <th>Driving_License</th>\n",
       "      <th>Previously_Insured</th>\n",
       "      <th>Vehicle_Age</th>\n",
       "      <th>Vehicle_Damage</th>\n",
       "      <th>Annual_Premium</th>\n",
       "      <th>Vintage</th>\n",
       "      <th>Response</th>\n",
       "    </tr>\n",
       "  </thead>\n",
       "  <tbody>\n",
       "    <tr>\n",
       "      <th>555736</th>\n",
       "      <td>1</td>\n",
       "      <td>39</td>\n",
       "      <td>1</td>\n",
       "      <td>0</td>\n",
       "      <td>0</td>\n",
       "      <td>1</td>\n",
       "      <td>41026.0</td>\n",
       "      <td>262</td>\n",
       "      <td>1</td>\n",
       "    </tr>\n",
       "    <tr>\n",
       "      <th>626885</th>\n",
       "      <td>1</td>\n",
       "      <td>35</td>\n",
       "      <td>1</td>\n",
       "      <td>0</td>\n",
       "      <td>0</td>\n",
       "      <td>1</td>\n",
       "      <td>30501.0</td>\n",
       "      <td>85</td>\n",
       "      <td>1</td>\n",
       "    </tr>\n",
       "    <tr>\n",
       "      <th>101285</th>\n",
       "      <td>1</td>\n",
       "      <td>23</td>\n",
       "      <td>1</td>\n",
       "      <td>1</td>\n",
       "      <td>1</td>\n",
       "      <td>0</td>\n",
       "      <td>16598.0</td>\n",
       "      <td>235</td>\n",
       "      <td>0</td>\n",
       "    </tr>\n",
       "    <tr>\n",
       "      <th>599397</th>\n",
       "      <td>0</td>\n",
       "      <td>42</td>\n",
       "      <td>1</td>\n",
       "      <td>0</td>\n",
       "      <td>0</td>\n",
       "      <td>1</td>\n",
       "      <td>2630.0</td>\n",
       "      <td>280</td>\n",
       "      <td>1</td>\n",
       "    </tr>\n",
       "    <tr>\n",
       "      <th>644028</th>\n",
       "      <td>0</td>\n",
       "      <td>45</td>\n",
       "      <td>1</td>\n",
       "      <td>0</td>\n",
       "      <td>2</td>\n",
       "      <td>1</td>\n",
       "      <td>33411.0</td>\n",
       "      <td>234</td>\n",
       "      <td>1</td>\n",
       "    </tr>\n",
       "    <tr>\n",
       "      <th>...</th>\n",
       "      <td>...</td>\n",
       "      <td>...</td>\n",
       "      <td>...</td>\n",
       "      <td>...</td>\n",
       "      <td>...</td>\n",
       "      <td>...</td>\n",
       "      <td>...</td>\n",
       "      <td>...</td>\n",
       "      <td>...</td>\n",
       "    </tr>\n",
       "    <tr>\n",
       "      <th>359783</th>\n",
       "      <td>1</td>\n",
       "      <td>44</td>\n",
       "      <td>1</td>\n",
       "      <td>0</td>\n",
       "      <td>0</td>\n",
       "      <td>1</td>\n",
       "      <td>28778.0</td>\n",
       "      <td>84</td>\n",
       "      <td>1</td>\n",
       "    </tr>\n",
       "    <tr>\n",
       "      <th>152315</th>\n",
       "      <td>0</td>\n",
       "      <td>22</td>\n",
       "      <td>1</td>\n",
       "      <td>1</td>\n",
       "      <td>1</td>\n",
       "      <td>0</td>\n",
       "      <td>26285.0</td>\n",
       "      <td>110</td>\n",
       "      <td>0</td>\n",
       "    </tr>\n",
       "    <tr>\n",
       "      <th>117952</th>\n",
       "      <td>1</td>\n",
       "      <td>33</td>\n",
       "      <td>1</td>\n",
       "      <td>0</td>\n",
       "      <td>0</td>\n",
       "      <td>1</td>\n",
       "      <td>32700.0</td>\n",
       "      <td>297</td>\n",
       "      <td>0</td>\n",
       "    </tr>\n",
       "    <tr>\n",
       "      <th>435829</th>\n",
       "      <td>1</td>\n",
       "      <td>23</td>\n",
       "      <td>1</td>\n",
       "      <td>0</td>\n",
       "      <td>1</td>\n",
       "      <td>1</td>\n",
       "      <td>21723.0</td>\n",
       "      <td>244</td>\n",
       "      <td>1</td>\n",
       "    </tr>\n",
       "    <tr>\n",
       "      <th>305711</th>\n",
       "      <td>1</td>\n",
       "      <td>75</td>\n",
       "      <td>1</td>\n",
       "      <td>1</td>\n",
       "      <td>0</td>\n",
       "      <td>0</td>\n",
       "      <td>32450.0</td>\n",
       "      <td>260</td>\n",
       "      <td>0</td>\n",
       "    </tr>\n",
       "  </tbody>\n",
       "</table>\n",
       "<p>455887 rows × 9 columns</p>\n",
       "</div>"
      ],
      "text/plain": [
       "        Gender  Age  Driving_License  Previously_Insured  Vehicle_Age  \\\n",
       "555736       1   39                1                   0            0   \n",
       "626885       1   35                1                   0            0   \n",
       "101285       1   23                1                   1            1   \n",
       "599397       0   42                1                   0            0   \n",
       "644028       0   45                1                   0            2   \n",
       "...        ...  ...              ...                 ...          ...   \n",
       "359783       1   44                1                   0            0   \n",
       "152315       0   22                1                   1            1   \n",
       "117952       1   33                1                   0            0   \n",
       "435829       1   23                1                   0            1   \n",
       "305711       1   75                1                   1            0   \n",
       "\n",
       "        Vehicle_Damage  Annual_Premium  Vintage  Response  \n",
       "555736               1         41026.0      262         1  \n",
       "626885               1         30501.0       85         1  \n",
       "101285               0         16598.0      235         0  \n",
       "599397               1          2630.0      280         1  \n",
       "644028               1         33411.0      234         1  \n",
       "...                ...             ...      ...       ...  \n",
       "359783               1         28778.0       84         1  \n",
       "152315               0         26285.0      110         0  \n",
       "117952               1         32700.0      297         0  \n",
       "435829               1         21723.0      244         1  \n",
       "305711               0         32450.0      260         0  \n",
       "\n",
       "[455887 rows x 9 columns]"
      ]
     },
     "execution_count": 50,
     "metadata": {},
     "output_type": "execute_result"
    }
   ],
   "source": [
    "x_train"
   ]
  },
  {
   "cell_type": "code",
   "execution_count": 51,
   "metadata": {},
   "outputs": [],
   "source": [
    "scaler = StandardScaler().fit(x_train)\n",
    "x_train = scaler.transform(x_train)\n",
    "x_test = scaler.transform(x_test)"
   ]
  },
  {
   "cell_type": "code",
   "execution_count": 52,
   "metadata": {},
   "outputs": [],
   "source": [
    "from sklearn.ensemble import RandomForestClassifier"
   ]
  },
  {
   "cell_type": "code",
   "execution_count": 53,
   "metadata": {},
   "outputs": [],
   "source": [
    "randomforest = RandomForestClassifier()\n",
    "randomforest=randomforest.fit(x_train, y_train)\n",
    "y_pred = randomforest.predict(x_test)"
   ]
  },
  {
   "cell_type": "code",
   "execution_count": 54,
   "metadata": {},
   "outputs": [
    {
     "name": "stdout",
     "output_type": "stream",
     "text": [
      "1.0\n",
      "ROC_AUC Score: 1.0\n"
     ]
    }
   ],
   "source": [
    "AUC_RF=roc_auc_score(y_pred,y_test)\n",
    "acc_rf=accuracy_score(y_test,y_pred)\n",
    "recall_rf=recall_score(y_test,y_pred)\n",
    "precision_rf=precision_score(y_test,y_pred)\n",
    "\n",
    "\n",
    "print(accuracy_score(y_pred,y_test))\n",
    "print(\"ROC_AUC Score:\",AUC_RF)"
   ]
  },
  {
   "cell_type": "code",
   "execution_count": 55,
   "metadata": {},
   "outputs": [
    {
     "name": "stdout",
     "output_type": "stream",
     "text": [
      "100.0\n",
      "100.0\n"
     ]
    }
   ],
   "source": [
    "lr=LogisticRegression(random_state = 666,n_jobs = -1)\n",
    "clf_l = lr.fit(x_train,y_train)\n",
    "y_pred_log = clf_l.predict(x_test)\n",
    "print(accuracy_score(y_test,y_pred_log)*100)\n",
    "print(roc_auc_score(y_test,y_pred_log)*100)"
   ]
  },
  {
   "cell_type": "code",
   "execution_count": 56,
   "metadata": {},
   "outputs": [],
   "source": [
    "from sklearn.tree import DecisionTreeClassifier\n",
    "from sklearn import tree\n",
    "import matplotlib.pyplot as plt"
   ]
  },
  {
   "cell_type": "code",
   "execution_count": 57,
   "metadata": {},
   "outputs": [
    {
     "data": {
      "text/plain": [
       "DecisionTreeClassifier()"
      ]
     },
     "execution_count": 57,
     "metadata": {},
     "output_type": "execute_result"
    }
   ],
   "source": [
    "df_model1 = DecisionTreeClassifier()\n",
    "df_model1.fit(x_train,y_train)"
   ]
  },
  {
   "cell_type": "code",
   "execution_count": 58,
   "metadata": {},
   "outputs": [
    {
     "data": {
      "text/plain": [
       "1.0"
      ]
     },
     "execution_count": 58,
     "metadata": {},
     "output_type": "execute_result"
    }
   ],
   "source": [
    "df_model1.score(x_test,y_test)"
   ]
  },
  {
   "cell_type": "code",
   "execution_count": null,
   "metadata": {},
   "outputs": [],
   "source": []
  },
  {
   "cell_type": "markdown",
   "metadata": {
    "id": "it7w6itXFHsY"
   },
   "source": [
    "**SMOTEE**"
   ]
  },
  {
   "cell_type": "code",
   "execution_count": 59,
   "metadata": {
    "execution": {
     "iopub.execute_input": "2021-06-27T18:48:06.743604Z",
     "iopub.status.busy": "2021-06-27T18:48:06.742989Z",
     "iopub.status.idle": "2021-06-27T18:48:06.747893Z",
     "shell.execute_reply": "2021-06-27T18:48:06.747054Z",
     "shell.execute_reply.started": "2021-06-27T18:48:06.743568Z"
    },
    "id": "J9584lqPSARH"
   },
   "outputs": [],
   "source": [
    "smote = SMOTE(random_state=1,n_jobs=-1)"
   ]
  },
  {
   "cell_type": "code",
   "execution_count": 60,
   "metadata": {
    "execution": {
     "iopub.execute_input": "2021-06-27T18:48:12.499505Z",
     "iopub.status.busy": "2021-06-27T18:48:12.498749Z",
     "iopub.status.idle": "2021-06-27T18:48:13.322793Z",
     "shell.execute_reply": "2021-06-27T18:48:13.321844Z",
     "shell.execute_reply.started": "2021-06-27T18:48:12.499460Z"
    },
    "id": "6Q5oq7SUTOXC"
   },
   "outputs": [],
   "source": [
    "x_sample,y_sample = smote.fit_resample(df.iloc[:,:-1],df['Response'])"
   ]
  },
  {
   "cell_type": "code",
   "execution_count": 61,
   "metadata": {
    "execution": {
     "iopub.execute_input": "2021-06-27T18:48:13.324694Z",
     "iopub.status.busy": "2021-06-27T18:48:13.324267Z",
     "iopub.status.idle": "2021-06-27T18:48:13.329363Z",
     "shell.execute_reply": "2021-06-27T18:48:13.328124Z",
     "shell.execute_reply.started": "2021-06-27T18:48:13.324662Z"
    },
    "id": "Agn8vnnCkrMc"
   },
   "outputs": [],
   "source": [
    "x_frame = pd.DataFrame(x_sample,columns=['Gender', 'Age', 'Driving_License', 'Previously_Insured', 'Vehicle_Age',\n",
    "                              'Vehicle_Damage', 'Annual_Premium', 'Vintage'])"
   ]
  },
  {
   "cell_type": "code",
   "execution_count": 62,
   "metadata": {
    "execution": {
     "iopub.execute_input": "2021-06-27T18:48:13.789880Z",
     "iopub.status.busy": "2021-06-27T18:48:13.789446Z",
     "iopub.status.idle": "2021-06-27T18:48:13.806214Z",
     "shell.execute_reply": "2021-06-27T18:48:13.804838Z",
     "shell.execute_reply.started": "2021-06-27T18:48:13.789842Z"
    },
    "id": "8eALornOk4FH",
    "outputId": "a9c2c993-2144-4f19-84a9-4779bacf6a3d"
   },
   "outputs": [
    {
     "data": {
      "text/html": [
       "<div>\n",
       "<style scoped>\n",
       "    .dataframe tbody tr th:only-of-type {\n",
       "        vertical-align: middle;\n",
       "    }\n",
       "\n",
       "    .dataframe tbody tr th {\n",
       "        vertical-align: top;\n",
       "    }\n",
       "\n",
       "    .dataframe thead th {\n",
       "        text-align: right;\n",
       "    }\n",
       "</style>\n",
       "<table border=\"1\" class=\"dataframe\">\n",
       "  <thead>\n",
       "    <tr style=\"text-align: right;\">\n",
       "      <th></th>\n",
       "      <th>Gender</th>\n",
       "      <th>Age</th>\n",
       "      <th>Driving_License</th>\n",
       "      <th>Previously_Insured</th>\n",
       "      <th>Vehicle_Age</th>\n",
       "      <th>Vehicle_Damage</th>\n",
       "      <th>Annual_Premium</th>\n",
       "      <th>Vintage</th>\n",
       "    </tr>\n",
       "  </thead>\n",
       "  <tbody>\n",
       "    <tr>\n",
       "      <th>0</th>\n",
       "      <td>1</td>\n",
       "      <td>44</td>\n",
       "      <td>1</td>\n",
       "      <td>0</td>\n",
       "      <td>2</td>\n",
       "      <td>1</td>\n",
       "      <td>40454.0</td>\n",
       "      <td>217</td>\n",
       "    </tr>\n",
       "    <tr>\n",
       "      <th>1</th>\n",
       "      <td>1</td>\n",
       "      <td>76</td>\n",
       "      <td>1</td>\n",
       "      <td>0</td>\n",
       "      <td>0</td>\n",
       "      <td>0</td>\n",
       "      <td>33536.0</td>\n",
       "      <td>183</td>\n",
       "    </tr>\n",
       "    <tr>\n",
       "      <th>2</th>\n",
       "      <td>1</td>\n",
       "      <td>47</td>\n",
       "      <td>1</td>\n",
       "      <td>0</td>\n",
       "      <td>2</td>\n",
       "      <td>1</td>\n",
       "      <td>38294.0</td>\n",
       "      <td>27</td>\n",
       "    </tr>\n",
       "    <tr>\n",
       "      <th>3</th>\n",
       "      <td>1</td>\n",
       "      <td>21</td>\n",
       "      <td>1</td>\n",
       "      <td>1</td>\n",
       "      <td>1</td>\n",
       "      <td>0</td>\n",
       "      <td>28619.0</td>\n",
       "      <td>203</td>\n",
       "    </tr>\n",
       "    <tr>\n",
       "      <th>4</th>\n",
       "      <td>0</td>\n",
       "      <td>29</td>\n",
       "      <td>1</td>\n",
       "      <td>1</td>\n",
       "      <td>1</td>\n",
       "      <td>0</td>\n",
       "      <td>27496.0</td>\n",
       "      <td>39</td>\n",
       "    </tr>\n",
       "  </tbody>\n",
       "</table>\n",
       "</div>"
      ],
      "text/plain": [
       "   Gender  Age  Driving_License  Previously_Insured  Vehicle_Age  \\\n",
       "0       1   44                1                   0            2   \n",
       "1       1   76                1                   0            0   \n",
       "2       1   47                1                   0            2   \n",
       "3       1   21                1                   1            1   \n",
       "4       0   29                1                   1            1   \n",
       "\n",
       "   Vehicle_Damage  Annual_Premium  Vintage  \n",
       "0               1         40454.0      217  \n",
       "1               0         33536.0      183  \n",
       "2               1         38294.0       27  \n",
       "3               0         28619.0      203  \n",
       "4               0         27496.0       39  "
      ]
     },
     "execution_count": 62,
     "metadata": {},
     "output_type": "execute_result"
    }
   ],
   "source": [
    "x_frame.head()"
   ]
  },
  {
   "cell_type": "code",
   "execution_count": 63,
   "metadata": {
    "execution": {
     "iopub.execute_input": "2021-06-27T18:48:19.136697Z",
     "iopub.status.busy": "2021-06-27T18:48:19.136145Z",
     "iopub.status.idle": "2021-06-27T18:48:19.145183Z",
     "shell.execute_reply": "2021-06-27T18:48:19.144263Z",
     "shell.execute_reply.started": "2021-06-27T18:48:19.136647Z"
    },
    "id": "hj5DzQ8rlYKT"
   },
   "outputs": [],
   "source": [
    "y_frame = pd.DataFrame(y_sample,columns=['Response'])"
   ]
  },
  {
   "cell_type": "code",
   "execution_count": 64,
   "metadata": {
    "execution": {
     "iopub.execute_input": "2021-06-27T18:48:19.808657Z",
     "iopub.status.busy": "2021-06-27T18:48:19.808131Z",
     "iopub.status.idle": "2021-06-27T18:48:19.818380Z",
     "shell.execute_reply": "2021-06-27T18:48:19.817091Z",
     "shell.execute_reply.started": "2021-06-27T18:48:19.808610Z"
    },
    "id": "iAfo18BjmsOa",
    "outputId": "f8fac789-4929-4da5-a10d-8eec88565d1f"
   },
   "outputs": [
    {
     "data": {
      "text/html": [
       "<div>\n",
       "<style scoped>\n",
       "    .dataframe tbody tr th:only-of-type {\n",
       "        vertical-align: middle;\n",
       "    }\n",
       "\n",
       "    .dataframe tbody tr th {\n",
       "        vertical-align: top;\n",
       "    }\n",
       "\n",
       "    .dataframe thead th {\n",
       "        text-align: right;\n",
       "    }\n",
       "</style>\n",
       "<table border=\"1\" class=\"dataframe\">\n",
       "  <thead>\n",
       "    <tr style=\"text-align: right;\">\n",
       "      <th></th>\n",
       "      <th>Response</th>\n",
       "    </tr>\n",
       "  </thead>\n",
       "  <tbody>\n",
       "    <tr>\n",
       "      <th>0</th>\n",
       "      <td>1</td>\n",
       "    </tr>\n",
       "    <tr>\n",
       "      <th>1</th>\n",
       "      <td>0</td>\n",
       "    </tr>\n",
       "    <tr>\n",
       "      <th>2</th>\n",
       "      <td>1</td>\n",
       "    </tr>\n",
       "    <tr>\n",
       "      <th>3</th>\n",
       "      <td>0</td>\n",
       "    </tr>\n",
       "    <tr>\n",
       "      <th>4</th>\n",
       "      <td>0</td>\n",
       "    </tr>\n",
       "  </tbody>\n",
       "</table>\n",
       "</div>"
      ],
      "text/plain": [
       "   Response\n",
       "0         1\n",
       "1         0\n",
       "2         1\n",
       "3         0\n",
       "4         0"
      ]
     },
     "execution_count": 64,
     "metadata": {},
     "output_type": "execute_result"
    }
   ],
   "source": [
    "y_frame.head()"
   ]
  },
  {
   "cell_type": "code",
   "execution_count": 65,
   "metadata": {
    "execution": {
     "iopub.execute_input": "2021-06-27T18:48:20.559950Z",
     "iopub.status.busy": "2021-06-27T18:48:20.559200Z",
     "iopub.status.idle": "2021-06-27T18:48:20.565698Z",
     "shell.execute_reply": "2021-06-27T18:48:20.564912Z",
     "shell.execute_reply.started": "2021-06-27T18:48:20.559907Z"
    },
    "id": "8o8g6fUnmuoz"
   },
   "outputs": [],
   "source": [
    "y1=y_frame.copy()"
   ]
  },
  {
   "cell_type": "code",
   "execution_count": 66,
   "metadata": {
    "execution": {
     "iopub.execute_input": "2021-06-27T18:48:21.240583Z",
     "iopub.status.busy": "2021-06-27T18:48:21.240050Z",
     "iopub.status.idle": "2021-06-27T18:48:21.254156Z",
     "shell.execute_reply": "2021-06-27T18:48:21.252582Z",
     "shell.execute_reply.started": "2021-06-27T18:48:21.240548Z"
    },
    "id": "3Sj958UTnNmq"
   },
   "outputs": [],
   "source": [
    "x1=x_frame.copy()"
   ]
  },
  {
   "cell_type": "markdown",
   "metadata": {},
   "source": [
    "Feature Engineering"
   ]
  },
  {
   "cell_type": "code",
   "execution_count": 67,
   "metadata": {
    "execution": {
     "iopub.execute_input": "2021-06-27T18:48:22.129974Z",
     "iopub.status.busy": "2021-06-27T18:48:22.129613Z",
     "iopub.status.idle": "2021-06-27T18:49:25.500573Z",
     "shell.execute_reply": "2021-06-27T18:49:25.499357Z",
     "shell.execute_reply.started": "2021-06-27T18:48:22.129945Z"
    },
    "id": "6HrkbPVNuSaO",
    "outputId": "53a4babc-5d55-47a1-92f8-2fe03a070790"
   },
   "outputs": [
    {
     "data": {
      "text/plain": [
       "\"\\nmodel = ExtraTreesClassifier()\\nmodel = model.fit(x1,y1)\\nprint(model.feature_importances_) #use inbuilt class feature_importances of tree based clas\\n#plot graph of feature importances for better visualization\\nfeat_importances = pd.Series(model.feature_importances_, index=x1.columns)\\nfeat_importances.nlargest(11).plot(kind='barh')\\nplt.show()\\n\""
      ]
     },
     "execution_count": 67,
     "metadata": {},
     "output_type": "execute_result"
    }
   ],
   "source": [
    "'''\n",
    "model = ExtraTreesClassifier()\n",
    "model = model.fit(x1,y1)\n",
    "print(model.feature_importances_) #use inbuilt class feature_importances of tree based clas\n",
    "#plot graph of feature importances for better visualization\n",
    "feat_importances = pd.Series(model.feature_importances_, index=x1.columns)\n",
    "feat_importances.nlargest(11).plot(kind='barh')\n",
    "plt.show()\n",
    "'''"
   ]
  },
  {
   "cell_type": "code",
   "execution_count": 68,
   "metadata": {
    "execution": {
     "iopub.execute_input": "2021-06-27T18:49:25.502834Z",
     "iopub.status.busy": "2021-06-27T18:49:25.502512Z",
     "iopub.status.idle": "2021-06-27T18:49:25.530839Z",
     "shell.execute_reply": "2021-06-27T18:49:25.529627Z",
     "shell.execute_reply.started": "2021-06-27T18:49:25.502807Z"
    },
    "id": "k2n1V8s4e3MT"
   },
   "outputs": [],
   "source": [
    "x1=x_frame.drop(['Driving_License'],axis=1,inplace=True)\n",
    "x1=x_frame.copy()"
   ]
  },
  {
   "cell_type": "code",
   "execution_count": 69,
   "metadata": {
    "execution": {
     "iopub.execute_input": "2021-06-27T18:49:25.532499Z",
     "iopub.status.busy": "2021-06-27T18:49:25.532196Z",
     "iopub.status.idle": "2021-06-27T18:49:25.546424Z",
     "shell.execute_reply": "2021-06-27T18:49:25.545335Z",
     "shell.execute_reply.started": "2021-06-27T18:49:25.532472Z"
    },
    "id": "dvXH3UtvfTJj",
    "outputId": "597c2771-1a64-403a-bd2b-976980469c48"
   },
   "outputs": [
    {
     "data": {
      "text/html": [
       "<div>\n",
       "<style scoped>\n",
       "    .dataframe tbody tr th:only-of-type {\n",
       "        vertical-align: middle;\n",
       "    }\n",
       "\n",
       "    .dataframe tbody tr th {\n",
       "        vertical-align: top;\n",
       "    }\n",
       "\n",
       "    .dataframe thead th {\n",
       "        text-align: right;\n",
       "    }\n",
       "</style>\n",
       "<table border=\"1\" class=\"dataframe\">\n",
       "  <thead>\n",
       "    <tr style=\"text-align: right;\">\n",
       "      <th></th>\n",
       "      <th>Gender</th>\n",
       "      <th>Age</th>\n",
       "      <th>Previously_Insured</th>\n",
       "      <th>Vehicle_Age</th>\n",
       "      <th>Vehicle_Damage</th>\n",
       "      <th>Annual_Premium</th>\n",
       "      <th>Vintage</th>\n",
       "    </tr>\n",
       "  </thead>\n",
       "  <tbody>\n",
       "    <tr>\n",
       "      <th>0</th>\n",
       "      <td>1</td>\n",
       "      <td>44</td>\n",
       "      <td>0</td>\n",
       "      <td>2</td>\n",
       "      <td>1</td>\n",
       "      <td>40454.0</td>\n",
       "      <td>217</td>\n",
       "    </tr>\n",
       "    <tr>\n",
       "      <th>1</th>\n",
       "      <td>1</td>\n",
       "      <td>76</td>\n",
       "      <td>0</td>\n",
       "      <td>0</td>\n",
       "      <td>0</td>\n",
       "      <td>33536.0</td>\n",
       "      <td>183</td>\n",
       "    </tr>\n",
       "    <tr>\n",
       "      <th>2</th>\n",
       "      <td>1</td>\n",
       "      <td>47</td>\n",
       "      <td>0</td>\n",
       "      <td>2</td>\n",
       "      <td>1</td>\n",
       "      <td>38294.0</td>\n",
       "      <td>27</td>\n",
       "    </tr>\n",
       "    <tr>\n",
       "      <th>3</th>\n",
       "      <td>1</td>\n",
       "      <td>21</td>\n",
       "      <td>1</td>\n",
       "      <td>1</td>\n",
       "      <td>0</td>\n",
       "      <td>28619.0</td>\n",
       "      <td>203</td>\n",
       "    </tr>\n",
       "    <tr>\n",
       "      <th>4</th>\n",
       "      <td>0</td>\n",
       "      <td>29</td>\n",
       "      <td>1</td>\n",
       "      <td>1</td>\n",
       "      <td>0</td>\n",
       "      <td>27496.0</td>\n",
       "      <td>39</td>\n",
       "    </tr>\n",
       "  </tbody>\n",
       "</table>\n",
       "</div>"
      ],
      "text/plain": [
       "   Gender  Age  Previously_Insured  Vehicle_Age  Vehicle_Damage  \\\n",
       "0       1   44                   0            2               1   \n",
       "1       1   76                   0            0               0   \n",
       "2       1   47                   0            2               1   \n",
       "3       1   21                   1            1               0   \n",
       "4       0   29                   1            1               0   \n",
       "\n",
       "   Annual_Premium  Vintage  \n",
       "0         40454.0      217  \n",
       "1         33536.0      183  \n",
       "2         38294.0       27  \n",
       "3         28619.0      203  \n",
       "4         27496.0       39  "
      ]
     },
     "execution_count": 69,
     "metadata": {},
     "output_type": "execute_result"
    }
   ],
   "source": [
    "x1.head()"
   ]
  },
  {
   "cell_type": "markdown",
   "metadata": {
    "id": "OENbTQo_E8D7"
   },
   "source": [
    "**MODEL SPLITTING**"
   ]
  },
  {
   "cell_type": "code",
   "execution_count": 70,
   "metadata": {
    "execution": {
     "iopub.execute_input": "2021-06-27T18:49:53.890650Z",
     "iopub.status.busy": "2021-06-27T18:49:53.890220Z",
     "iopub.status.idle": "2021-06-27T18:49:54.061188Z",
     "shell.execute_reply": "2021-06-27T18:49:54.059801Z",
     "shell.execute_reply.started": "2021-06-27T18:49:53.890614Z"
    },
    "id": "tEjRVwS7nuCc"
   },
   "outputs": [],
   "source": [
    "x_train1,x_test1,y_train1,y_test1=train_test_split(x1,y1,test_size=0.2,random_state=42)"
   ]
  },
  {
   "cell_type": "markdown",
   "metadata": {
    "id": "o4rnbXkWFBF4"
   },
   "source": [
    "**MODEL SCALING**"
   ]
  },
  {
   "cell_type": "code",
   "execution_count": 71,
   "metadata": {
    "execution": {
     "iopub.execute_input": "2021-06-27T18:49:57.108659Z",
     "iopub.status.busy": "2021-06-27T18:49:57.108215Z",
     "iopub.status.idle": "2021-06-27T18:49:57.249470Z",
     "shell.execute_reply": "2021-06-27T18:49:57.248096Z",
     "shell.execute_reply.started": "2021-06-27T18:49:57.108617Z"
    },
    "id": "yfVGQe03ogtx"
   },
   "outputs": [],
   "source": [
    "scaler = StandardScaler().fit(x_train1)\n",
    "x_train_s = scaler.transform(x_train1)\n",
    "x_test_s = scaler.transform(x_test1)"
   ]
  },
  {
   "cell_type": "markdown",
   "metadata": {
    "id": "zhvhu0b6RHvX"
   },
   "source": [
    "**MODEL BUILDING**"
   ]
  },
  {
   "cell_type": "markdown",
   "metadata": {
    "id": "X3TmXEZAEFSI"
   },
   "source": [
    "**LOGISTIC REGRESSION**"
   ]
  },
  {
   "cell_type": "code",
   "execution_count": 72,
   "metadata": {
    "execution": {
     "iopub.execute_input": "2021-06-27T18:50:02.885324Z",
     "iopub.status.busy": "2021-06-27T18:50:02.884748Z",
     "iopub.status.idle": "2021-06-27T18:50:06.245324Z",
     "shell.execute_reply": "2021-06-27T18:50:06.244047Z",
     "shell.execute_reply.started": "2021-06-27T18:50:02.885286Z"
    },
    "id": "JzqUVlTIRKTq",
    "outputId": "183f838b-6c28-4875-893f-5d98b04bbc4d"
   },
   "outputs": [
    {
     "name": "stdout",
     "output_type": "stream",
     "text": [
      "77.31585978165738\n",
      "77.32807217554137\n"
     ]
    }
   ],
   "source": [
    "lr=LogisticRegression(random_state = 666,n_jobs = -1)\n",
    "clf_l = lr.fit(x_train_s,y_train1)\n",
    "y_pred_log = clf_l.predict(x_test_s)\n",
    "print(accuracy_score(y_test1,y_pred_log)*100)\n",
    "print(roc_auc_score(y_test1,y_pred_log)*100)\n",
    "\n"
   ]
  },
  {
   "cell_type": "markdown",
   "metadata": {},
   "source": [
    "hyper parameter tuning"
   ]
  },
  {
   "cell_type": "code",
   "execution_count": 73,
   "metadata": {},
   "outputs": [],
   "source": [
    "logreg_tuning = LogisticRegression()\n",
    "param_logreg = {'C': [1, 0.5, 0.1, 5, 9],\n",
    "               'penalty':['l2','l1', 'elasticnet']}"
   ]
  },
  {
   "cell_type": "code",
   "execution_count": 74,
   "metadata": {},
   "outputs": [],
   "source": [
    "from sklearn.model_selection import GridSearchCV"
   ]
  },
  {
   "cell_type": "code",
   "execution_count": 75,
   "metadata": {},
   "outputs": [],
   "source": [
    "model_logreg_tuned = GridSearchCV(estimator = logreg_tuning, param_grid = param_logreg, cv = 3, n_jobs = -1 , verbose = 1, scoring = 'recall')"
   ]
  },
  {
   "cell_type": "code",
   "execution_count": 76,
   "metadata": {},
   "outputs": [
    {
     "name": "stdout",
     "output_type": "stream",
     "text": [
      "Fitting 3 folds for each of 15 candidates, totalling 45 fits\n"
     ]
    },
    {
     "data": {
      "text/plain": [
       "GridSearchCV(cv=3, estimator=LogisticRegression(), n_jobs=-1,\n",
       "             param_grid={'C': [1, 0.5, 0.1, 5, 9],\n",
       "                         'penalty': ['l2', 'l1', 'elasticnet']},\n",
       "             scoring='recall', verbose=1)"
      ]
     },
     "execution_count": 76,
     "metadata": {},
     "output_type": "execute_result"
    }
   ],
   "source": [
    "model_logreg_tuned.fit(x_train_s, y_train1)"
   ]
  },
  {
   "cell_type": "code",
   "execution_count": 77,
   "metadata": {},
   "outputs": [],
   "source": [
    "logreg_tuned = model_logreg_tuned.best_estimator_"
   ]
  },
  {
   "cell_type": "code",
   "execution_count": 78,
   "metadata": {},
   "outputs": [],
   "source": [
    "y_tuned_logreg = logreg_tuned.predict(x_test_s)"
   ]
  },
  {
   "cell_type": "code",
   "execution_count": 79,
   "metadata": {},
   "outputs": [
    {
     "data": {
      "text/plain": [
       "0.7731662751239885"
      ]
     },
     "execution_count": 79,
     "metadata": {},
     "output_type": "execute_result"
    }
   ],
   "source": [
    "logreg_tuned.score(x_test_s,y_test1)"
   ]
  },
  {
   "cell_type": "code",
   "execution_count": 80,
   "metadata": {},
   "outputs": [
    {
     "data": {
      "text/plain": [
       "0.7728487142380052"
      ]
     },
     "execution_count": 80,
     "metadata": {},
     "output_type": "execute_result"
    }
   ],
   "source": [
    "logreg_tuned.score(x_train_s,y_train1)"
   ]
  },
  {
   "cell_type": "code",
   "execution_count": 81,
   "metadata": {
    "execution": {
     "iopub.execute_input": "2021-06-27T18:50:08.307282Z",
     "iopub.status.busy": "2021-06-27T18:50:08.306906Z",
     "iopub.status.idle": "2021-06-27T18:50:08.720858Z",
     "shell.execute_reply": "2021-06-27T18:50:08.719268Z",
     "shell.execute_reply.started": "2021-06-27T18:50:08.307252Z"
    },
    "id": "dSApqnUP1tYe",
    "outputId": "419d93ce-db50-41b1-ef20-ccb4ac880a4f"
   },
   "outputs": [
    {
     "name": "stdout",
     "output_type": "stream",
     "text": [
      "              precision    recall  f1-score   support\n",
      "\n",
      "           0       0.87      0.64      0.74     65188\n",
      "           1       0.72      0.90      0.80     65066\n",
      "\n",
      "    accuracy                           0.77    130254\n",
      "   macro avg       0.79      0.77      0.77    130254\n",
      "weighted avg       0.79      0.77      0.77    130254\n",
      "\n"
     ]
    }
   ],
   "source": [
    "print(classification_report(y_test1,y_tuned_logreg))"
   ]
  },
  {
   "cell_type": "code",
   "execution_count": 82,
   "metadata": {
    "execution": {
     "iopub.execute_input": "2021-06-27T18:50:16.906782Z",
     "iopub.status.busy": "2021-06-27T18:50:16.906344Z",
     "iopub.status.idle": "2021-06-27T18:50:17.519523Z",
     "shell.execute_reply": "2021-06-27T18:50:17.518258Z",
     "shell.execute_reply.started": "2021-06-27T18:50:16.906743Z"
    },
    "id": "K5ahaVpO1zco",
    "outputId": "8272bbbd-5c7a-4cac-dd01-a86028480656"
   },
   "outputs": [
    {
     "data": {
      "text/plain": [
       "Text(51.0, 0.5, 'Actual')"
      ]
     },
     "execution_count": 82,
     "metadata": {},
     "output_type": "execute_result"
    },
    {
     "data": {
      "image/png": "[encoded data removed]",
      "text/plain": [
       "<Figure size 576x360 with 2 Axes>"
      ]
     },
     "metadata": {
      "needs_background": "light"
     },
     "output_type": "display_data"
    }
   ],
   "source": [
    "plt.figure(figsize=(8,5))\n",
    "sns.heatmap(confusion_matrix(y_test1,y_pred_log),cmap = 'viridis',annot = True,linewidths = 2,linecolor = 'limegreen',fmt = '.2g')\n",
    "plt.xlabel('Predicted')\n",
    "plt.ylabel('Actual')"
   ]
  },
  {
   "cell_type": "code",
   "execution_count": 83,
   "metadata": {
    "execution": {
     "iopub.execute_input": "2021-06-27T18:50:17.797596Z",
     "iopub.status.busy": "2021-06-27T18:50:17.797189Z",
     "iopub.status.idle": "2021-06-27T18:50:18.078464Z",
     "shell.execute_reply": "2021-06-27T18:50:18.076973Z",
     "shell.execute_reply.started": "2021-06-27T18:50:17.797562Z"
    },
    "id": "OREQaUOq845I",
    "outputId": "aa959074-81d8-405e-ba1f-1f6a9d4e383b"
   },
   "outputs": [
    {
     "data": {
      "image/png": "[encoded data removed]",
      "text/plain": [
       "<Figure size 432x288 with 1 Axes>"
      ]
     },
     "metadata": {
      "needs_background": "light"
     },
     "output_type": "display_data"
    }
   ],
   "source": [
    "fpr,tpr,threshold=roc_curve(y_test1,y_pred_log)\n",
    "plt.plot(fpr, tpr, color='orange', label='Logistic ROC')\n",
    "plt.plot([0, 1], [0, 1], color='darkblue', linestyle='--',label='No Skill')\n",
    "plt.xlabel('False Positive Rate')\n",
    "plt.ylabel('True Positive Rate')\n",
    "plt.title('ROC Curve')\n",
    "plt.legend()\n",
    "plt.show()"
   ]
  },
  {
   "cell_type": "code",
   "execution_count": 84,
   "metadata": {},
   "outputs": [],
   "source": [
    "import pickle"
   ]
  },
  {
   "cell_type": "code",
   "execution_count": 85,
   "metadata": {},
   "outputs": [],
   "source": [
    "pickle.dump(logreg_tuned, open('logistic.pkl','wb'))"
   ]
  },
  {
   "cell_type": "code",
   "execution_count": 86,
   "metadata": {},
   "outputs": [
    {
     "name": "stdout",
     "output_type": "stream",
     "text": [
      "[1]\n"
     ]
    }
   ],
   "source": [
    "model_pred= pickle.load(open('logistic.pkl','rb'))\n",
    "print(model_pred.predict([[1,44,0,3,1,40454.0,21]]))"
   ]
  },
  {
   "cell_type": "code",
   "execution_count": 87,
   "metadata": {},
   "outputs": [],
   "source": [
    "from sklearn.tree import DecisionTreeClassifier\n",
    "from sklearn import tree\n",
    "import matplotlib.pyplot as plt"
   ]
  },
  {
   "cell_type": "code",
   "execution_count": 88,
   "metadata": {},
   "outputs": [
    {
     "name": "stdout",
     "output_type": "stream",
     "text": [
      "83.28957268106929\n",
      "83.29183463316504\n"
     ]
    }
   ],
   "source": [
    "df_model1 = DecisionTreeClassifier()\n",
    "df_model1.fit(x_train_s,y_train1)\n",
    "y_pred_log = df_model1.predict(x_test_s)\n",
    "print(accuracy_score(y_test1,y_pred_log)*100)\n",
    "print(roc_auc_score(y_test1,y_pred_log)*100)"
   ]
  },
  {
   "cell_type": "code",
   "execution_count": 101,
   "metadata": {},
   "outputs": [
    {
     "name": "stdout",
     "output_type": "stream",
     "text": [
      "              precision    recall  f1-score   support\n",
      "\n",
      "           0       0.85      0.81      0.83     65188\n",
      "           1       0.82      0.86      0.84     65066\n",
      "\n",
      "    accuracy                           0.83    130254\n",
      "   macro avg       0.83      0.83      0.83    130254\n",
      "weighted avg       0.83      0.83      0.83    130254\n",
      "\n"
     ]
    }
   ],
   "source": [
    "print(classification_report(y_test1,y_pred_log))"
   ]
  },
  {
   "cell_type": "markdown",
   "metadata": {},
   "source": [
    "Hyperparameter tuning"
   ]
  },
  {
   "cell_type": "code",
   "execution_count": 89,
   "metadata": {},
   "outputs": [],
   "source": [
    "DT_tuning = DecisionTreeClassifier()\n",
    "param_DT =  {\n",
    "    \"max_depth\": [None, 4,9,15,20,50],\n",
    "    \"min_samples_leaf\": [ 1,4,0.1,2,10],\n",
    "    \"max_features\" : [None, 0.2, 0.8, 2.0],\n",
    "    \"min_samples_split\": [2,9,15,25]}"
   ]
  },
  {
   "cell_type": "code",
   "execution_count": 90,
   "metadata": {},
   "outputs": [],
   "source": [
    "model_DT_tuned = GridSearchCV(estimator = DT_tuning, param_grid = param_DT, cv = 3, n_jobs = -1 , verbose = 1, scoring = 'recall')"
   ]
  },
  {
   "cell_type": "code",
   "execution_count": 91,
   "metadata": {},
   "outputs": [
    {
     "name": "stdout",
     "output_type": "stream",
     "text": [
      "Fitting 3 folds for each of 480 candidates, totalling 1440 fits\n"
     ]
    },
    {
     "data": {
      "text/plain": [
       "GridSearchCV(cv=3, estimator=DecisionTreeClassifier(), n_jobs=-1,\n",
       "             param_grid={'max_depth': [None, 4, 9, 15, 20, 50],\n",
       "                         'max_features': [None, 0.2, 0.8, 2.0],\n",
       "                         'min_samples_leaf': [1, 4, 0.1, 2, 10],\n",
       "                         'min_samples_split': [2, 9, 15, 25]},\n",
       "             scoring='recall', verbose=1)"
      ]
     },
     "execution_count": 91,
     "metadata": {},
     "output_type": "execute_result"
    }
   ],
   "source": [
    "model_DT_tuned.fit(x_train_s,y_train1)"
   ]
  },
  {
   "cell_type": "code",
   "execution_count": 92,
   "metadata": {},
   "outputs": [],
   "source": [
    "DT_tuned = model_DT_tuned.best_estimator_"
   ]
  },
  {
   "cell_type": "code",
   "execution_count": 97,
   "metadata": {},
   "outputs": [],
   "source": [
    "y_tuned_DT = DT_tuned.predict(x_test_s)"
   ]
  },
  {
   "cell_type": "code",
   "execution_count": 102,
   "metadata": {},
   "outputs": [
    {
     "data": {
      "text/plain": [
       "0.739416831728776"
      ]
     },
     "execution_count": 102,
     "metadata": {},
     "output_type": "execute_result"
    }
   ],
   "source": [
    "DT_tuned.score(x_test_s,y_test1)"
   ]
  },
  {
   "cell_type": "code",
   "execution_count": 103,
   "metadata": {},
   "outputs": [
    {
     "name": "stdout",
     "output_type": "stream",
     "text": [
      "              precision    recall  f1-score   support\n",
      "\n",
      "           0       0.94      0.51      0.66     65188\n",
      "           1       0.66      0.97      0.79     65066\n",
      "\n",
      "    accuracy                           0.74    130254\n",
      "   macro avg       0.80      0.74      0.73    130254\n",
      "weighted avg       0.80      0.74      0.73    130254\n",
      "\n"
     ]
    }
   ],
   "source": [
    "print(classification_report(y_test1,y_tuned_DT))"
   ]
  },
  {
   "cell_type": "code",
   "execution_count": 104,
   "metadata": {},
   "outputs": [
    {
     "data": {
      "text/plain": [
       "Text(51.0, 0.5, 'Actual')"
      ]
     },
     "execution_count": 104,
     "metadata": {},
     "output_type": "execute_result"
    },
    {
     "data": {
      "image/png": "[encoded data removed]",
      "text/plain": [
       "<Figure size 576x360 with 2 Axes>"
      ]
     },
     "metadata": {
      "needs_background": "light"
     },
     "output_type": "display_data"
    }
   ],
   "source": [
    "plt.figure(figsize=(8,5))\n",
    "sns.heatmap(confusion_matrix(y_test1,y_pred_log),cmap = 'viridis',annot = True,linewidths = 2,linecolor = 'limegreen',fmt = '.2g')\n",
    "plt.xlabel('Predicted')\n",
    "plt.ylabel('Actual')"
   ]
  },
  {
   "cell_type": "code",
   "execution_count": 105,
   "metadata": {},
   "outputs": [
    {
     "data": {
      "image/png": "[encoded data removed]",
      "text/plain": [
       "<Figure size 432x288 with 1 Axes>"
      ]
     },
     "metadata": {
      "needs_background": "light"
     },
     "output_type": "display_data"
    }
   ],
   "source": [
    "fpr,tpr,threshold=roc_curve(y_test1,y_pred_log)\n",
    "plt.plot(fpr, tpr, color='orange', label='Logistic ROC')\n",
    "plt.plot([0, 1], [0, 1], color='darkblue', linestyle='--',label='No Skill')\n",
    "plt.xlabel('False Positive Rate')\n",
    "plt.ylabel('True Positive Rate')\n",
    "plt.title('ROC Curve')\n",
    "plt.legend()\n",
    "plt.show()"
   ]
  },
  {
   "cell_type": "code",
   "execution_count": 106,
   "metadata": {},
   "outputs": [],
   "source": [
    "pickle.dump(df_model1, open('DT_model.pkl','wb'))"
   ]
  },
  {
   "cell_type": "code",
   "execution_count": 107,
   "metadata": {},
   "outputs": [
    {
     "name": "stdout",
     "output_type": "stream",
     "text": [
      "[1]\n"
     ]
    }
   ],
   "source": [
    "model_pred= pickle.load(open('DT_model.pkl','rb'))\n",
    "print(model_pred.predict([[1,44,0,3,1,40454.0,21]]))"
   ]
  }
 ],
 "metadata": {
  "kernelspec": {
   "display_name": "Python 3 (ipykernel)",
   "language": "python",
   "name": "python3"
  },
  "language_info": {
   "codemirror_mode": {
    "name": "ipython",
    "version": 3
   },
   "file_extension": ".py",
   "mimetype": "text/x-python",
   "name": "python",
   "nbconvert_exporter": "python",
   "pygments_lexer": "ipython3",
   "version": "3.7.0"
  }
 },
 "nbformat": 4,
 "nbformat_minor": 4
}
